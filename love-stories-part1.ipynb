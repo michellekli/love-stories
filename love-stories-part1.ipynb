{
 "cells": [
  {
   "cell_type": "markdown",
   "metadata": {},
   "source": [
    "# Introduction¶\n",
    "In this project, I compare modeling and clustering for text classification and conclude that modeling is superior to clustering for this task. This notebook is part 1 of a two-notebook project on novels obtained from Project Gutenberg, and in this notebook I perform data cleaning on the dataset. [Part 2](https://github.com/michellekli/thinkful/blob/master/bootcamp/love-stories-part2.ipynb) covers feature creation, model evaluation, and clustering evaluation.\n",
    "\n",
    "# Data Set\n",
    "The data set consists of 10 novels downloaded from Project Gutenberg. They were all found within the first few pages of the [\"Books about Love stories (sorted by popularity)\"](https://www.gutenberg.org/ebooks/subject/2487) list.\n",
    "* Pride and Prejudice, by Jane Austen\n",
    "* Villette, by Charlotte Brontë\n",
    "* The Woman in White, by Wilkie Collins\n",
    "* Middlemarch, by George Eliot\n",
    "* Wives and Daughters, by Elizabeth Cleghorn Gaskell\n",
    "* Jude the Obscure, by Thomas Hardy\n",
    "* The Portrait of a Lady, by Henry James\n",
    "* The Lost Girl, by D. H. Lawrence\n",
    "* The Age of Innocence, by Edith Wharton\n",
    "* The Voyage Out, by Virginia Woolf"
   ]
  },
  {
   "cell_type": "code",
   "execution_count": 1,
   "metadata": {},
   "outputs": [],
   "source": [
    "import spacy\n",
    "import numpy as np\n",
    "from tqdm import tqdm_notebook\n",
    "from os import listdir\n",
    "from os.path import isfile, join\n",
    "import codecs\n",
    "import re\n",
    "import pickle\n",
    "\n",
    "nlp = spacy.load('en_core_web_sm')"
   ]
  },
  {
   "cell_type": "code",
   "execution_count": 2,
   "metadata": {},
   "outputs": [],
   "source": [
    "novels = {}\n",
    "for filename in listdir('data\\love-stories'):\n",
    "    filepath = join('data\\love-stories', filename)\n",
    "    if isfile(filepath):\n",
    "        with codecs.open(filepath, mode='r', encoding='utf-8-sig') as infile:\n",
    "            novels[filename.split('-')[0]] = infile.read()"
   ]
  },
  {
   "cell_type": "code",
   "execution_count": 3,
   "metadata": {
    "scrolled": true
   },
   "outputs": [
    {
     "data": {
      "text/plain": [
       "dict_keys(['austen', 'bronte', 'collins', 'eliot', 'gaskell', 'hardy', 'james', 'lawrence', 'wharton', 'woolf'])"
      ]
     },
     "execution_count": 3,
     "metadata": {},
     "output_type": "execute_result"
    }
   ],
   "source": [
    "novels.keys()"
   ]
  },
  {
   "cell_type": "markdown",
   "metadata": {},
   "source": [
    "# Data Cleaning"
   ]
  },
  {
   "cell_type": "markdown",
   "metadata": {},
   "source": [
    "## Austen - Pride and Prejudice"
   ]
  },
  {
   "cell_type": "code",
   "execution_count": 4,
   "metadata": {
    "scrolled": true
   },
   "outputs": [
    {
     "data": {
      "text/plain": [
       "'The Project Gutenberg EBook of Pride and Prejudice, by Jane Austen\\r\\n\\r\\nThis eBook is for the use of anyone anywhere at no cost and with\\r\\nalmost no restrictions whatsoever.  You may copy it, give it away or\\r\\nre-use it under the terms of the Project Gutenberg License included\\r\\nwith this eBook or online at www.gutenberg.org\\r\\n\\r\\n\\r\\nTitle: Pride and Prejudice\\r\\n\\r\\nAuthor: Jane Austen\\r\\n\\r\\nPosting Date: August 26, 2008 [EBook #1342]\\r\\nRelease Date: June, 1998\\r\\nLast Updated: March 10, 2018\\r\\n\\r\\nLanguage: English\\r\\n\\r\\nCharacter set encoding: UTF-8\\r\\n\\r\\n*** START OF THIS PROJECT GUTENBERG EBOOK PRIDE AND PREJUDICE ***\\r\\n\\r\\n\\r\\n\\r\\n\\r\\nProduced by Anonymous Volunteers\\r\\n\\r\\n\\r\\n\\r\\n\\r\\n\\r\\nPRIDE AND PREJUDICE\\r\\n\\r\\nBy Jane Austen\\r\\n\\r\\n\\r\\n\\r\\nChapter 1\\r\\n\\r\\n\\r\\nIt is a truth universally acknowledged, that a single man in possession\\r\\nof a good fortune, must be in want of a wife.\\r\\n\\r\\nHowever little known the feelings or views of such a man may be on his\\r\\nfirst entering a neighbourhood, this truth is so well fixed in the minds\\r\\nof the surrounding families, that he is considered the rightful property\\r\\nof some one or other of their daughters.\\r\\n\\r\\n“My dear Mr. Bennet,” said his lady to him one day, “have you heard that\\r\\nNetherfield Park is let at last?”\\r\\n\\r\\nMr. Bennet replied that he had not.\\r\\n\\r\\n“But it is,” returned she; “for Mrs. Long has just been here, and she\\r\\ntold me all about it.”\\r\\n\\r\\nMr. Bennet made no answer.\\r\\n\\r\\n“Do you not want to know who has taken it?” cried his wife impatiently.\\r\\n\\r\\n“_You_ want to tell me, and I have no objection to hearing it.”\\r\\n\\r\\nThis was invitation enough.\\r\\n\\r\\n“Why, my dear, you must know, Mrs. Long says that Netherfield is taken\\r\\nby a young man of large fortune from the north of England; that he came\\r\\ndown on Monday in a chaise and four to see the place, and was so much\\r\\ndelighted with it, that he agreed with Mr. Morris immediately; that he\\r\\nis to take possession before Michaelmas, and some of his servants are to\\r\\nbe in the house by the end of next week.”\\r\\n\\r\\n“What is his name?”\\r\\n\\r\\n“Bingley.”\\r\\n\\r\\n“Is '"
      ]
     },
     "execution_count": 4,
     "metadata": {},
     "output_type": "execute_result"
    }
   ],
   "source": [
    "author = 'austen'\n",
    "novels[author][:2000]"
   ]
  },
  {
   "cell_type": "code",
   "execution_count": 5,
   "metadata": {},
   "outputs": [
    {
     "data": {
      "text/plain": [
       "'Chapter 1\\r\\n\\r\\n\\r\\nIt is a truth universally acknowledged, that a single man in possession\\r\\nof a good fortune, must be in want of a wife.\\r\\n\\r\\nHowever little known the feelings or views of such a man may be on his\\r\\nfirst entering a neighbourhood, this truth is so well fixed in the minds\\r\\nof the surrounding families, that he is considered the rightful property\\r\\nof some one or other of their daughters.\\r\\n\\r\\n“My dear Mr. Bennet,” said his lady to him one day, “have you heard that\\r\\nNetherfield Park is let at last?”\\r\\n\\r\\nMr. Bennet replied that he had not.\\r\\n\\r\\n“But it is,” returned she; “for Mrs. Long has just been here, and she\\r\\ntold me all about it.”\\r\\n\\r\\nMr. Bennet made no answer.\\r\\n\\r\\n“Do you not want to know who has taken it?” cried his wife impatiently.\\r\\n\\r\\n“_You_ want to tell me, and I have no objection to hearing it.”\\r\\n\\r\\nThis was invitation enough.\\r\\n\\r\\n“Why, my dear, you must know, Mrs. Long says that Netherfield is taken\\r\\nby a young man of large fortune from the north of England; that he came\\r\\ndown on Monday in a chaise and four to see the place, and was so much\\r\\ndelighted with it, that he agreed with Mr. Morris immediately; that he\\r\\nis to take possession before Michaelmas, and some of his servants are to\\r\\nbe in the house by the end of next week.”\\r\\n\\r\\n“What is his name?”\\r\\n\\r\\n“Bingley.”\\r\\n\\r\\n“Is he married or single?”\\r\\n\\r\\n“Oh! Single, my dear, to be sure! A single man of large fortune; four or\\r\\nfive thousand a year. What a fine thing for our girls!”\\r\\n\\r\\n“How so? How can it affect them?”\\r\\n\\r\\n“My dear Mr. Bennet,” replied his wife, “how can you be so tiresome! You\\r\\nmust know that I am thinking of his marrying one of them.”\\r\\n\\r\\n“Is that his design in settling here?”\\r\\n\\r\\n“Design! Nonsense, how can you talk so! But it is very likely that he\\r\\n_may_ fall in love with one of them, and therefore you must visit him as\\r\\nsoon as he comes.”\\r\\n\\r\\n“I see no occasion for that. You and the girls may go, or you may send\\r\\nthem by themselves, which perhaps will be still better, for as you are\\r\\nas handsome as a'"
      ]
     },
     "execution_count": 5,
     "metadata": {},
     "output_type": "execute_result"
    }
   ],
   "source": [
    "header = 701\n",
    "novels[author][header:header+2000]"
   ]
  },
  {
   "cell_type": "code",
   "execution_count": 6,
   "metadata": {},
   "outputs": [
    {
     "data": {
      "text/plain": [
       "'End of the Project Gutenberg EBook of Pride and Prejudice, by Jane Austen\\r\\n\\r\\n*** END OF THIS PROJECT GUTENBERG EBOOK PRIDE AND PREJUDICE ***\\r\\n\\r\\n***** This file should be named 1342-0.txt or 1342-0.zip *****\\r\\nThis and all associated files of various formats will be found in:\\r\\n        http://www.gutenberg.org/1/3/4/1342/\\r\\n\\r\\nProduced by Anonymous Volunteers\\r\\n\\r\\nUpdated editions will replace the previous one--the old editions\\r\\nwill be renamed.\\r\\n\\r\\nCreating the works from public domain print editions m'"
      ]
     },
     "execution_count": 6,
     "metadata": {},
     "output_type": "execute_result"
    }
   ],
   "source": [
    "footer = novels[author].find('End of the Project Gutenberg EBook')\n",
    "novels[author][footer:footer+500]"
   ]
  },
  {
   "cell_type": "code",
   "execution_count": 7,
   "metadata": {},
   "outputs": [
    {
     "data": {
      "text/plain": [
       "['Chapter 1\\r\\n',\n",
       " 'Chapter 2\\r\\n',\n",
       " 'Chapter 3\\r\\n',\n",
       " 'Chapter 4\\r\\n',\n",
       " 'Chapter 5\\r\\n',\n",
       " 'Chapter 6\\r\\n',\n",
       " 'Chapter 7\\r\\n',\n",
       " 'Chapter 8\\r\\n',\n",
       " 'Chapter 9\\r\\n',\n",
       " 'Chapter 10\\r\\n',\n",
       " 'Chapter 11\\r\\n',\n",
       " 'Chapter 12\\r\\n']"
      ]
     },
     "execution_count": 7,
     "metadata": {},
     "output_type": "execute_result"
    }
   ],
   "source": [
    "chapter = r'Chapter [\\d]+\\r\\n'\n",
    "re.findall(chapter, novels[author][header:header+100000])"
   ]
  },
  {
   "cell_type": "code",
   "execution_count": 8,
   "metadata": {},
   "outputs": [],
   "source": [
    "# remove header and footer info\n",
    "novels[author] = novels[author][header:footer]\n",
    "# remove chapter titles\n",
    "novels[author] = re.sub(chapter, '', novels[author])\n",
    "\n",
    "assert re.findall(chapter, novels[author]) == []\n",
    "assert re.findall(r'Project Gutenberg', novels[author]) == []\n",
    "assert novels[author].find('Chapter 1') == -1"
   ]
  },
  {
   "cell_type": "code",
   "execution_count": 9,
   "metadata": {
    "scrolled": true
   },
   "outputs": [
    {
     "data": {
      "text/plain": [
       "'\\r\\n\\r\\nIt is a truth universally acknowledged, that a single man in possession\\r\\nof a good fortune, must be in want of a wife.\\r\\n\\r\\nHowever little known the feelings or views of such a man may be on his\\r\\nfirst entering a neighbourhood, this truth is so well fixed in the minds\\r\\nof the surrounding families, that he is considered the rightful property\\r\\nof some one or other of their daughters.\\r\\n\\r\\n“My dear Mr. Bennet,” said his lady to him one day, “have you heard that\\r\\nNetherfield Park is let at last?”\\r\\n\\r\\nMr. Bennet replied that he had not.\\r\\n\\r\\n“But it is,” returned she; “for Mrs. Long has just been here, and she\\r\\ntold me all about it.”\\r\\n\\r\\nMr. Bennet made no answer.\\r\\n\\r\\n“Do you not want to know who has taken it?” cried his wife impatiently.\\r\\n\\r\\n“_You_ want to tell me, and I have no objection to hearing it.”\\r\\n\\r\\nThis was invitation enough.\\r\\n\\r\\n“Why, my dear, you must know, Mrs. Long says that Netherfield is taken\\r\\nby a young man of large fortune from the north of England; that he came\\r\\ndown on Monday in a chaise and four to see the place, and was so much\\r\\ndelighted with it, that he agreed with Mr. Morris immediately; that he\\r\\nis to take possession before Michaelmas, and some of his servants are to\\r\\nbe in the house by the end of next week.”\\r\\n\\r\\n“What is his name?”\\r\\n\\r\\n“Bingley.”\\r\\n\\r\\n“Is he married or single?”\\r\\n\\r\\n“Oh! Single, my dear, to be sure! A single man of large fortune; four or\\r\\nfive thousand a year. What a fine thing for our girls!”\\r\\n\\r\\n“How so? How can it affect them?”\\r\\n\\r\\n“My dear Mr. Bennet,” replied his wife, “how can you be so tiresome! You\\r\\nmust know that I am thinking of his marrying one of them.”\\r\\n\\r\\n“Is that his design in settling here?”\\r\\n\\r\\n“Design! Nonsense, how can you talk so! But it is very likely that he\\r\\n_may_ fall in love with one of them, and therefore you must visit him as\\r\\nsoon as he comes.”\\r\\n\\r\\n“I see no occasion for that. You and the girls may go, or you may send\\r\\nthem by themselves, which perhaps will be still better, for as you are\\r\\nas handsome as any of them,'"
      ]
     },
     "execution_count": 9,
     "metadata": {},
     "output_type": "execute_result"
    }
   ],
   "source": [
    "novels[author][:2000]"
   ]
  },
  {
   "cell_type": "markdown",
   "metadata": {},
   "source": [
    "## Bronte - Villette"
   ]
  },
  {
   "cell_type": "code",
   "execution_count": 10,
   "metadata": {
    "scrolled": true
   },
   "outputs": [
    {
     "data": {
      "text/plain": [
       "\"The Project Gutenberg EBook of Villette, by Charlotte Brontë\\r\\n\\r\\nThis eBook is for the use of anyone anywhere at no cost and with\\r\\nalmost no restrictions whatsoever.  You may copy it, give it away or\\r\\nre-use it under the terms of the Project Gutenberg License included\\r\\nwith this eBook or online at www.gutenberg.net\\r\\n\\r\\n\\r\\nTitle: Villette\\r\\n\\r\\nAuthor: Charlotte Brontë\\r\\n\\r\\nPosting Date: August 23, 2010 [EBook #9182]\\r\\nRelease Date: October, 2005\\r\\nFirst Posted: September 12, 2003\\r\\n[Last updated: March 2, 2016]\\r\\n\\r\\nLanguage: English\\r\\n\\r\\n\\r\\n*** START OF THIS PROJECT GUTENBERG EBOOK VILLETTE ***\\r\\n\\r\\n\\r\\n\\r\\n\\r\\nProduced by Delphine Lettau, Charles Franks and Distributed Proofreaders\\r\\n\\r\\n\\r\\n\\r\\n\\r\\n\\r\\n\\r\\n\\r\\n\\r\\n\\r\\nVILLETTE.\\r\\n\\r\\nBY\\r\\n\\r\\nCHARLOTTE BRONTË.\\r\\n\\r\\n\\r\\n\\r\\nCONTENTS\\r\\n\\r\\nCHAPTER\\r\\n\\r\\n       I.  BRETTON\\r\\n      II.  PAULINA\\r\\n     III.  THE PLAYMATES\\r\\n      IV.  MISS MARCHMONT\\r\\n       V.  TURNING A NEW LEAF\\r\\n      VI.  LONDON\\r\\n     VII.  VILLETTE\\r\\n    VIII.  MADAME BECK\\r\\n      IX.  ISIDORE\\r\\n       X.  DR. JOHN\\r\\n      XI.  THE PORTRESS'S CABINET\\r\\n     XII.  THE CASKET\\r\\n    XIII.  A SNEEZE OUT OF SEASON\\r\\n     XIV.  THE FÊTE\\r\\n      XV.  THE LONG VACATION\\r\\n     XVI.  AULD LANG SYNE\\r\\n    XVII.  LA TERRASSE\\r\\n   XVIII.  WE QUARREL\\r\\n     XIX.  THE CLEOPATRA\\r\\n      XX.  THE CONCERT\\r\\n     XXI.  REACTION\\r\\n    XXII.  THE LETTER\\r\\n   XXIII.  VASHTI\\r\\n    XXIV.  M. DE BASSOMPIERRE\\r\\n     XXV.  THE LITTLE COUNTESS\\r\\n    XXVI.  A BURIAL\\r\\n   XXVII.  THE HÔTEL CRÉCY\\r\\n  XXVIII.  THE WATCHGUARD\\r\\n    XXIX.  MONSIEUR'S FÊTE\\r\\n     XXX.  M. PAUL\\r\\n    XXXI.  THE DRYAD\\r\\n   XXXII.  THE FIRST LETTER\\r\\n  XXXIII.  M. PAUL KEEPS HIS PROMISE\\r\\n   XXXIV.  MALEVOLA\\r\\n    XXXV.  FRATERNITY\\r\\n   XXXVI.  THE APPLE OF DISCORD\\r\\n  XXXVII.  SUNSHINE\\r\\n XXXVIII.  CLOUD\\r\\n   XXXIX.  OLD AND NEW ACQUAINTANCE\\r\\n      XL.  THE HAPPY PAIR\\r\\n     XLI.  FAUBOURG CLOTILDE\\r\\n    XLII.  FINIS\\r\\n\\r\\n\\r\\n\\r\\n\\r\\nVILLETTE.\\r\\n\\r\\n\\r\\n\\r\\nCHAPTER I.\\r\\n\\r\\nBRETTON.\\r\\n\\r\\n\\r\\nMy godmother lived in a handsome house in the clean and ancient town of\\r\\nBretton. Her husband's family had been residents there \""
      ]
     },
     "execution_count": 10,
     "metadata": {},
     "output_type": "execute_result"
    }
   ],
   "source": [
    "author = 'bronte'\n",
    "novels[author][:2000]"
   ]
  },
  {
   "cell_type": "code",
   "execution_count": 11,
   "metadata": {},
   "outputs": [
    {
     "data": {
      "text/plain": [
       "\"CHAPTER I.\\r\\n\\r\\nBRETTON.\\r\\n\\r\\n\\r\\nMy godmother lived in a handsome house in the clean and ancient town of\\r\\nBretton. Her husband's family had been residents there for generations,\\r\\nand bore, indeed, the name of their birthplace--Bretton of Bretton:\\r\\nwhether by coincidence, or because some remote ancestor had been a\\r\\npersonage of sufficient importance to leave his name to his\\r\\nneighbourhood, I know not.\\r\\n\\r\\nWhen I was a girl I went to Bretton about twice a year, and well I\\r\\nliked the visit. The house and its inmates specially suited me. The\\r\\nlarge peaceful rooms, the well-arranged furniture, the clear wide\\r\\nwindows, the balcony outside, looking down on a fine antique street,\\r\\nwhere Sundays and holidays seemed always to abide--so quiet was its\\r\\natmosphere, so clean its pavement--these things pleased me well.\\r\\n\\r\\nOne child in a household of grown people is usually made very much of,\\r\\nand in a quiet way I was a good deal taken notice of by Mrs. Bretton,\\r\\nwho had been left a widow, with one son, before I knew her; her\\r\\nhusband, a physician, having died while she was yet a young and\\r\\nhandsome woman.\\r\\n\\r\\nShe was not young, as I remember her, but she was still handsome, tall,\\r\\nwell-made, and though dark for an Englishwoman, yet wearing always the\\r\\nclearness of health in her brunette cheek, and its vivacity in a pair\\r\\nof fine, cheerful black eyes. People esteemed it a grievous pity that\\r\\nshe had not conferred her complexion on her son, whose eyes were\\r\\nblue--though, even in boyhood, very piercing--and the colour of his\\r\\nlong hair such as friends did not venture to specify, except as the sun\\r\\nshone on it, when they called it golden. He inherited the lines of his\\r\\nmother's features, however; also her good teeth, her stature (or the\\r\\npromise of her stature, for he was not yet full-grown), and, what was\\r\\nbetter, her health without flaw, and her spirits of that tone and\\r\\nequality which are better than a fortune to the possessor.\\r\\n\\r\\nIn the autumn of the year ---- I was staying at Bretton; m\""
      ]
     },
     "execution_count": 11,
     "metadata": {},
     "output_type": "execute_result"
    }
   ],
   "source": [
    "header = 1844\n",
    "novels[author][header:header+2000]"
   ]
  },
  {
   "cell_type": "code",
   "execution_count": 12,
   "metadata": {},
   "outputs": [
    {
     "data": {
      "text/plain": [
       "'End of the Project Gutenberg EBook of Villette, by Charlotte Brontë\\r\\n\\r\\n*** END OF THIS PROJECT GUTENBERG EBOOK VILLETTE ***\\r\\n\\r\\n***** This file should be named 9182-8.txt or 9182-8.zip *****\\r\\nThis and all associated files of various formats will be found in:\\r\\n        http://www.gutenberg.org/9/1/8/9182/\\r\\n\\r\\nProduced by Delphine Lettau, Charles Franks and Distributed Proofreaders\\r\\n\\r\\nUpdated editions will replace the previous one--the old editions\\r\\nwill be renamed.\\r\\n\\r\\nCreating the works from public '"
      ]
     },
     "execution_count": 12,
     "metadata": {},
     "output_type": "execute_result"
    }
   ],
   "source": [
    "footer = novels[author].find('End of the Project Gutenberg EBook')\n",
    "novels[author][footer:footer+500]"
   ]
  },
  {
   "cell_type": "code",
   "execution_count": 13,
   "metadata": {},
   "outputs": [
    {
     "data": {
      "text/plain": [
       "['CHAPTER I.\\r\\n\\r\\nBRETTON.\\r\\n',\n",
       " 'CHAPTER II.\\r\\n\\r\\nPAULINA.\\r\\n',\n",
       " 'CHAPTER III.\\r\\n\\r\\nTHE PLAYMATES.\\r\\n',\n",
       " 'CHAPTER IV.\\r\\n\\r\\nMISS MARCHMONT.\\r\\n',\n",
       " 'CHAPTER V.\\r\\n\\r\\nTURNING A NEW LEAF.\\r\\n',\n",
       " 'CHAPTER VI.\\r\\n\\r\\nLONDON.\\r\\n']"
      ]
     },
     "execution_count": 13,
     "metadata": {},
     "output_type": "execute_result"
    }
   ],
   "source": [
    "chapter = r'CHAPTER .*[\\.]\\r\\n\\r\\n.*[\\.]\\r\\n'\n",
    "re.findall(chapter, novels[author][header:header+100000])"
   ]
  },
  {
   "cell_type": "code",
   "execution_count": 14,
   "metadata": {},
   "outputs": [],
   "source": [
    "# remove header and footer info\n",
    "novels[author] = novels[author][header:footer]\n",
    "# remove chapter titles\n",
    "novels[author] = re.sub(chapter, '', novels[author])\n",
    "\n",
    "assert re.findall(chapter, novels[author]) == []\n",
    "assert re.findall(r'Project Gutenberg', novels[author]) == []\n",
    "assert novels[author].find('CHAPTER I.') == -1"
   ]
  },
  {
   "cell_type": "code",
   "execution_count": 15,
   "metadata": {
    "scrolled": false
   },
   "outputs": [
    {
     "data": {
      "text/plain": [
       "\"\\r\\n\\r\\nMy godmother lived in a handsome house in the clean and ancient town of\\r\\nBretton. Her husband's family had been residents there for generations,\\r\\nand bore, indeed, the name of their birthplace--Bretton of Bretton:\\r\\nwhether by coincidence, or because some remote ancestor had been a\\r\\npersonage of sufficient importance to leave his name to his\\r\\nneighbourhood, I know not.\\r\\n\\r\\nWhen I was a girl I went to Bretton about twice a year, and well I\\r\\nliked the visit. The house and its inmates specially suited me. The\\r\\nlarge peaceful rooms, the well-arranged furniture, the clear wide\\r\\nwindows, the balcony outside, looking down on a fine antique street,\\r\\nwhere Sundays and holidays seemed always to abide--so quiet was its\\r\\natmosphere, so clean its pavement--these things pleased me well.\\r\\n\\r\\nOne child in a household of grown people is usually made very much of,\\r\\nand in a quiet way I was a good deal taken notice of by Mrs. Bretton,\\r\\nwho had been left a widow, with one son, before I knew her; her\\r\\nhusband, a physician, having died while she was yet a young and\\r\\nhandsome woman.\\r\\n\\r\\nShe was not young, as I remember her, but she was still handsome, tall,\\r\\nwell-made, and though dark for an Englishwoman, yet wearing always the\\r\\nclearness of health in her brunette cheek, and its vivacity in a pair\\r\\nof fine, cheerful black eyes. People esteemed it a grievous pity that\\r\\nshe had not conferred her complexion on her son, whose eyes were\\r\\nblue--though, even in boyhood, very piercing--and the colour of his\\r\\nlong hair such as friends did not venture to specify, except as the sun\\r\\nshone on it, when they called it golden. He inherited the lines of his\\r\\nmother's features, however; also her good teeth, her stature (or the\\r\\npromise of her stature, for he was not yet full-grown), and, what was\\r\\nbetter, her health without flaw, and her spirits of that tone and\\r\\nequality which are better than a fortune to the possessor.\\r\\n\\r\\nIn the autumn of the year ---- I was staying at Bretton; my godmother\\r\\nhaving come\""
      ]
     },
     "execution_count": 15,
     "metadata": {},
     "output_type": "execute_result"
    }
   ],
   "source": [
    "novels[author][:2000]"
   ]
  },
  {
   "cell_type": "markdown",
   "metadata": {},
   "source": [
    "## Collins - The Woman in White"
   ]
  },
  {
   "cell_type": "code",
   "execution_count": 16,
   "metadata": {
    "scrolled": true
   },
   "outputs": [
    {
     "data": {
      "text/plain": [
       "\"The Project Gutenberg EBook of The Woman in White, by Wilkie Collins\\r\\n\\r\\nThis eBook is for the use of anyone anywhere at no cost and with\\r\\nalmost no restrictions whatsoever.  You may copy it, give it away or\\r\\nre-use it under the terms of the Project Gutenberg License included\\r\\nwith this eBook or online at www.gutenberg.net\\r\\n\\r\\n\\r\\nTitle: The Woman in White\\r\\n\\r\\nAuthor: Wilkie Collins\\r\\n\\r\\nPosting Date: September 13, 2008 [EBook #583]\\r\\nRelease Date: July, 1996\\r\\nLast updated: January 22, 2009\\r\\n\\r\\nLanguage: English\\r\\n\\r\\n\\r\\n*** START OF THIS PROJECT GUTENBERG EBOOK THE WOMAN IN WHITE ***\\r\\n\\r\\n\\r\\n\\r\\n\\r\\n\\r\\n\\r\\n\\r\\n\\r\\n\\r\\n\\r\\n\\r\\n\\r\\n\\r\\nThe Woman in White\\r\\n\\r\\n\\r\\nby\\r\\n\\r\\nWilkie Collins\\r\\n\\r\\n\\r\\n\\r\\n\\r\\nCONTENTS\\r\\n\\r\\nFirst Epoch\\r\\n\\r\\n  THE STORY BEGUN BY WALTER HARTRIGHT\\r\\n  THE STORY CONTINUED BY VINCENT GILMORE\\r\\n  THE STORY CONTINUED BY MARIAN HALCOMBE\\r\\n\\r\\n\\r\\nSecond Epoch\\r\\n\\r\\n  THE STORY CONTINUED BY MARIAN HALCOMBE.\\r\\n  THE STORY CONTINUED BY FREDERICK FAIRLIE, ESQ.\\r\\n  THE STORY CONTINUED BY ELIZA MICHELSON\\r\\n  THE STORY CONTINUED IN SEVERAL NARRATIVES\\r\\n\\r\\n     THE NARRATIVE OF HESTER PINHORN\\r\\n     THE NARRATIVE OF THE DOCTOR\\r\\n     THE NARRATIVE OF JANE GOULD\\r\\n     THE NARRATIVE OF THE TOMBSTONE\\r\\n     THE NARRATIVE OF WALTER HARTRIGHT\\r\\n\\r\\n\\r\\nThird Epoch\\r\\n\\r\\n  THE STORY CONTINUED BY WALTER HARTRIGHT.\\r\\n  THE STORY CONTINUED BY MRS. CATHERICK\\r\\n  THE STORY CONTINUED BY WALTER HARTRIGHT\\r\\n  THE STORY CONTINUED BY ISIDOR, OTTAVIO, BALDASSARE FOSCO\\r\\n  THE STORY CONCLUDED BY WALTER HARTRIGHT\\r\\n\\r\\n\\r\\n\\r\\n\\r\\nTHE STORY BEGUN BY WALTER HARTRIGHT\\r\\n\\r\\n(of Clement's Inn, Teacher of Drawing)\\r\\n\\r\\n\\r\\nThis is the story of what a Woman's patience can endure, and what a\\r\\nMan's resolution can achieve.\\r\\n\\r\\nIf the machinery of the Law could be depended on to fathom every case\\r\\nof suspicion, and to conduct every process of inquiry, with moderate\\r\\nassistance only from the lubricating influences of oil of gold, the\\r\\nevents which fill these pages might have claimed their share of the\\r\\npublic attention in a Court of Justice.\\r\\n\\r\\nBut the Law is still, in certain inevita\""
      ]
     },
     "execution_count": 16,
     "metadata": {},
     "output_type": "execute_result"
    }
   ],
   "source": [
    "author = 'collins'\n",
    "novels[author][:2000]"
   ]
  },
  {
   "cell_type": "code",
   "execution_count": 17,
   "metadata": {},
   "outputs": [
    {
     "data": {
      "text/plain": [
       "\"THE STORY BEGUN BY WALTER HARTRIGHT\\r\\n\\r\\n(of Clement's Inn, Teacher of Drawing)\\r\\n\\r\\n\\r\\nThis is the story of what a Woman's patience can endure, and what a\\r\\nMan's resolution can achieve.\\r\\n\\r\\nIf the machinery of the Law could be depended on to fathom every case\\r\\nof suspicion, and to conduct every process of inquiry, with moderate\\r\\nassistance only from the lubricating influences of oil of gold, the\\r\\nevents which fill these pages might have claimed their share of the\\r\\npublic attention in a Court of Justice.\\r\\n\\r\\nBut the Law is still, in certain inevitable cases, the pre-engaged\\r\\nservant of the long purse; and the story is left to be told, for the\\r\\nfirst time, in this place.  As the Judge might once have heard it, so\\r\\nthe Reader shall hear it now.  No circumstance of importance, from the\\r\\nbeginning to the end of the disclosure, shall be related on hearsay\\r\\nevidence.  When the writer of these introductory lines (Walter\\r\\nHartright by name) happens to be more closely connected than others\\r\\nwith the incidents to be recorded, he will describe them in his own\\r\\nperson.  When his experience fails, he will retire from the position of\\r\\nnarrator; and his task will be continued, from the point at which he\\r\\nhas left it off, by other persons who can speak to the circumstances\\r\\nunder notice from their own knowledge, just as clearly and positively\\r\\nas he has spoken before them.\\r\\n\\r\\nThus, the story here presented will be told by more than one pen, as\\r\\nthe story of an offence against the laws is told in Court by more than\\r\\none witness--with the same object, in both cases, to present the truth\\r\\nalways in its most direct and most intelligible aspect; and to trace\\r\\nthe course of one complete series of events, by making the persons who\\r\\nhave been most closely connected with them, at each successive stage,\\r\\nrelate their own experience, word for word.\\r\\n\\r\\nLet Walter Hartright, teacher of drawing, aged twenty-eight years, be\\r\\nheard first.\\r\\n\\r\\n\\r\\n\\r\\nII\\r\\n\\r\\nIt was the last day of July.  The long hot summer was\""
      ]
     },
     "execution_count": 17,
     "metadata": {},
     "output_type": "execute_result"
    }
   ],
   "source": [
    "header = 1453\n",
    "novels[author][header:header+2000]"
   ]
  },
  {
   "cell_type": "code",
   "execution_count": 18,
   "metadata": {},
   "outputs": [
    {
     "data": {
      "text/plain": [
       "'End of the Project Gutenberg EBook of The Woman in White, by Wilkie Collins\\r\\n\\r\\n*** END OF THIS PROJECT GUTENBERG EBOOK THE WOMAN IN WHITE ***\\r\\n\\r\\n***** This file should be named 583.txt or 583.zip *****\\r\\nThis and all associated files of various formats will be found in:\\r\\n        http://www.gutenberg.org/5/8/583/\\r\\n\\r\\n\\r\\n\\r\\nUpdated editions will replace the previous one--the old editions\\r\\nwill be renamed.\\r\\n\\r\\nCreating the works from public domain print editions means that no\\r\\none owns a United States c'"
      ]
     },
     "execution_count": 18,
     "metadata": {},
     "output_type": "execute_result"
    }
   ],
   "source": [
    "footer = novels[author].find('End of the Project Gutenberg EBook')\n",
    "novels[author][footer:footer+500]"
   ]
  },
  {
   "cell_type": "code",
   "execution_count": 19,
   "metadata": {},
   "outputs": [
    {
     "data": {
      "text/plain": [
       "['THE NARRATIVE OF HESTER PINHORN, COOK IN THE SERVICE OF COUNT FOSCO\\r\\n\\r\\n',\n",
       " 'THE NARRATIVE OF THE DOCTOR\\r\\n\\r\\n',\n",
       " 'THE NARRATIVE OF JANE GOULD\\r\\n\\r\\n',\n",
       " 'THE NARRATIVE OF THE TOMBSTONE\\r\\n\\r\\n',\n",
       " 'THE NARRATIVE OF WALTER HARTRIGHT\\r\\n\\r\\n']"
      ]
     },
     "execution_count": 19,
     "metadata": {},
     "output_type": "execute_result"
    }
   ],
   "source": [
    "narrative = r'THE NARRATIVE OF .*\\r\\n\\r\\n'\n",
    "re.findall(narrative, novels[author][header:])"
   ]
  },
  {
   "cell_type": "code",
   "execution_count": 20,
   "metadata": {},
   "outputs": [
    {
     "data": {
      "text/plain": [
       "['THE STORY BEGUN BY WALTER HARTRIGHT\\r\\n\\r\\n',\n",
       " 'THE STORY CONTINUED BY VINCENT GILMORE\\r\\n\\r\\n',\n",
       " 'THE STORY CONTINUED BY MARIAN HALCOMBE\\r\\n\\r\\n',\n",
       " 'THE STORY CONTINUED BY MARIAN HALCOMBE.\\r\\n\\r\\n',\n",
       " 'THE STORY CONTINUED BY FREDERICK FAIRLIE, ESQ., OF LIMMERIDGE HOUSE[2]\\r\\n\\r\\n',\n",
       " 'THE STORY CONTINUED BY ELIZA MICHELSON\\r\\n\\r\\n',\n",
       " 'THE STORY CONTINUED IN SEVERAL NARRATIVES\\r\\n\\r\\n',\n",
       " 'THE STORY CONTINUED BY WALTER HARTRIGHT.\\r\\n\\r\\n',\n",
       " 'THE STORY CONTINUED BY MRS. CATHERICK\\r\\n\\r\\n',\n",
       " 'THE STORY CONTINUED BY WALTER HARTRIGHT\\r\\n\\r\\n',\n",
       " 'THE STORY CONTINUED BY ISIDOR, OTTAVIO, BALDASSARE FOSCO\\r\\n\\r\\n',\n",
       " 'THE STORY CONCLUDED BY WALTER HARTRIGHT\\r\\n\\r\\n']"
      ]
     },
     "execution_count": 20,
     "metadata": {},
     "output_type": "execute_result"
    }
   ],
   "source": [
    "story = r'THE STORY .*\\r\\n\\r\\n'\n",
    "re.findall(story, novels[author][header:])"
   ]
  },
  {
   "cell_type": "code",
   "execution_count": 21,
   "metadata": {},
   "outputs": [
    {
     "data": {
      "text/plain": [
       "[\"THE STORY BEGUN BY WALTER HARTRIGHT\\r\\n\\r\\n(of Clement's Inn, Teacher of Drawing)\\r\\n\",\n",
       " 'THE STORY CONTINUED BY VINCENT GILMORE\\r\\n\\r\\n(of Chancery Lane, Solicitor)\\r\\n',\n",
       " 'THE STORY CONTINUED BY MARIAN HALCOMBE\\r\\n\\r\\n(in Extracts from her Diary)\\r\\n',\n",
       " 'THE STORY CONTINUED BY ELIZA MICHELSON\\r\\n\\r\\n(Housekeeper at Blackwater Park)\\r\\n']"
      ]
     },
     "execution_count": 21,
     "metadata": {},
     "output_type": "execute_result"
    }
   ],
   "source": [
    "chapter = r'THE STORY .*\\r\\n\\r\\n\\(.*\\)\\r\\n'\n",
    "re.findall(chapter, novels[author][header:])"
   ]
  },
  {
   "cell_type": "code",
   "execution_count": 22,
   "metadata": {},
   "outputs": [],
   "source": [
    "# remove header and footer info\n",
    "novels[author] = novels[author][header:footer]\n",
    "# remove chapter titles\n",
    "novels[author] = re.sub(narrative, '', novels[author])\n",
    "novels[author] = re.sub(chapter, '', novels[author])\n",
    "novels[author] = re.sub(story, '', novels[author])\n",
    "\n",
    "assert re.findall(chapter, novels[author]) == []\n",
    "assert re.findall(r'Project Gutenberg', novels[author]) == []\n",
    "assert novels[author].find('(of Chancery Lane, Solicitor)') == -1\n",
    "assert novels[author].find('THE STORY CONTINUED BY MARIAN HALCOMBE') == -1\n",
    "assert novels[author].find('THE NARRATIVE OF JANE GOULD') == -1"
   ]
  },
  {
   "cell_type": "code",
   "execution_count": 23,
   "metadata": {
    "scrolled": false
   },
   "outputs": [
    {
     "data": {
      "text/plain": [
       "\"\\r\\n\\r\\nThis is the story of what a Woman's patience can endure, and what a\\r\\nMan's resolution can achieve.\\r\\n\\r\\nIf the machinery of the Law could be depended on to fathom every case\\r\\nof suspicion, and to conduct every process of inquiry, with moderate\\r\\nassistance only from the lubricating influences of oil of gold, the\\r\\nevents which fill these pages might have claimed their share of the\\r\\npublic attention in a Court of Justice.\\r\\n\\r\\nBut the Law is still, in certain inevitable cases, the pre-engaged\\r\\nservant of the long purse; and the story is left to be told, for the\\r\\nfirst time, in this place.  As the Judge might once have heard it, so\\r\\nthe Reader shall hear it now.  No circumstance of importance, from the\\r\\nbeginning to the end of the disclosure, shall be related on hearsay\\r\\nevidence.  When the writer of these introductory lines (Walter\\r\\nHartright by name) happens to be more closely connected than others\\r\\nwith the incidents to be recorded, he will describe them in his own\\r\\nperson.  When his experience fails, he will retire from the position of\\r\\nnarrator; and his task will be continued, from the point at which he\\r\\nhas left it off, by other persons who can speak to the circumstances\\r\\nunder notice from their own knowledge, just as clearly and positively\\r\\nas he has spoken before them.\\r\\n\\r\\nThus, the story here presented will be told by more than one pen, as\\r\\nthe story of an offence against the laws is told in Court by more than\\r\\none witness--with the same object, in both cases, to present the truth\\r\\nalways in its most direct and most intelligible aspect; and to trace\\r\\nthe course of one complete series of events, by making the persons who\\r\\nhave been most closely connected with them, at each successive stage,\\r\\nrelate their own experience, word for word.\\r\\n\\r\\nLet Walter Hartright, teacher of drawing, aged twenty-eight years, be\\r\\nheard first.\\r\\n\\r\\n\\r\\n\\r\\nII\\r\\n\\r\\nIt was the last day of July.  The long hot summer was drawing to a\\r\\nclose; and we, the weary pilgrims of the London pavement, were\\r\\n\""
      ]
     },
     "execution_count": 23,
     "metadata": {},
     "output_type": "execute_result"
    }
   ],
   "source": [
    "novels[author][:2000]"
   ]
  },
  {
   "cell_type": "markdown",
   "metadata": {},
   "source": [
    "## Eliot - Middlemarch"
   ]
  },
  {
   "cell_type": "code",
   "execution_count": 24,
   "metadata": {
    "scrolled": true
   },
   "outputs": [
    {
     "data": {
      "text/plain": [
       "'The Project Gutenberg EBook of Middlemarch, by George Eliot\\r\\n\\r\\nThis eBook is for the use of anyone anywhere at no cost and with\\r\\nalmost no restrictions whatsoever.  You may copy it, give it away or\\r\\nre-use it under the terms of the Project Gutenberg License included\\r\\nwith this eBook or online at www.gutenberg.net\\r\\n\\r\\n\\r\\nTitle: Middlemarch\\r\\n\\r\\nAuthor: George Eliot\\r\\n\\r\\nRelease Date: May 24, 2008 [EBook #145]\\r\\n[Last updated: March 2, 2015]\\r\\n\\r\\nLanguage: English\\r\\n\\r\\n\\r\\n*** START OF THIS PROJECT GUTENBERG EBOOK MIDDLEMARCH ***\\r\\n\\r\\n\\r\\n\\r\\n\\r\\n\\r\\n\\r\\n\\r\\n\\r\\n\\r\\n\\r\\n\\r\\n\\r\\n\\r\\n\\r\\n\\r\\nMiddlemarch\\r\\n\\r\\n\\r\\nBy\\r\\n\\r\\nGeorge Eliot\\r\\n\\r\\n\\r\\n\\r\\n\\r\\nNew York and Boston\\r\\n\\r\\nH. M. Caldwell Company Publishers\\r\\n\\r\\n\\r\\n\\r\\n\\r\\nTo my dear Husband, George Henry Lewes, in this nineteenth year of our\\r\\nblessed union.\\r\\n\\r\\n\\r\\n\\r\\n\\r\\nCONTENTS\\r\\n\\r\\nBOOK I\\r\\n\\r\\nCHAPTER I CHAPTER II CHAPTER III CHAPTER IV CHAPTER V CHAPTER VI\\r\\nCHAPTER VII CHAPTER VIII CHAPTER IX CHAPTER X CHAPTER XI CHAPTER XII\\r\\n\\r\\n\\r\\nBOOK II\\r\\n\\r\\nCHAPTER XIII CHAPTER XIV CHAPTER XV CHAPTER XVI CHAPTER XVII\\r\\nCHAPTER XVIII CHAPTER XIX CHAPTER XX CHAPTER XXI CHAPTER XXII\\r\\n\\r\\n\\r\\nBOOK III\\r\\n\\r\\nCHAPTER XXIII CHAPTER XXIV CHAPTER XXV CHAPTER XXVI CHAPTER XXVII\\r\\nCHAPTER XXVIII CHAPTER XXIX CHAPTER XXX CHAPTER XXXI CHAPTER XXXII\\r\\nCHAPTER XXXIII\\r\\n\\r\\n\\r\\nBOOK IV\\r\\n\\r\\nCHAPTER XXXIV CHAPTER XXXV CHAPTER XXXVI CHAPTER XXXVII CHAPTER XXXVIII\\r\\nCHAPTER XXXIX CHAPTER XL CHAPTER XLI CHAPTER XLII\\r\\n\\r\\n\\r\\nBOOK V\\r\\n\\r\\nCHAPTER XLIII CHAPTER XLIV CHAPTER XLV CHAPTER XLVI CHAPTER XLVII\\r\\nCHAPTER XLVIII CHAPTER XLIX CHAPTER L CHAPTER LI CHAPTER LII\\r\\nCHAPTER LIII\\r\\n\\r\\n\\r\\nBOOK VI\\r\\n\\r\\nCHAPTER LIV CHAPTER LV CHAPTER LVI CHAPTER LVII CHAPTER LVIII\\r\\nCHAPTER LIX CHAPTER LX CHAPTER LXI CHAPTER LXII\\r\\n\\r\\n\\r\\nBOOK VII\\r\\n\\r\\nCHAPTER LXIII CHAPTER LXIV CHAPTER LXV CHAPTER LXVI CHAPTER LXVII\\r\\nCHAPTER LXVIII CHAPTER LXIX CHAPTER LXX CHAPTER LXXI\\r\\n\\r\\n\\r\\nBOOK VIII\\r\\n\\r\\nCHAPTER LXXII CHAPTER LXXIII CHAPTER LXXIV CHAPTER LXXV CHAPTER LXXVI\\r\\nCHAPTER LXXVII CHAPTER LXXVIII CHAPTER LXXIX CHAPTER LXXX CHAPTER LXXXI\\r\\n\\r\\n\\r\\n\\r\\n\\r\\nPRELUDE\\r\\n\\r\\n\\r\\nWho that cares much to know the hi'"
      ]
     },
     "execution_count": 24,
     "metadata": {},
     "output_type": "execute_result"
    }
   ],
   "source": [
    "author = 'eliot'\n",
    "novels[author][:2000]"
   ]
  },
  {
   "cell_type": "code",
   "execution_count": 25,
   "metadata": {},
   "outputs": [
    {
     "data": {
      "text/plain": [
       "'BOOK I.\\r\\n\\r\\nMISS BROOKE.\\r\\n\\r\\n\\r\\n\\r\\nCHAPTER I.\\r\\n\\r\\n    \"Since I can do no good because a woman,\\r\\n     Reach constantly at something that is near it.\\r\\n          --The Maid\\'s Tragedy:  BEAUMONT AND FLETCHER.\\r\\n\\r\\n\\r\\nMiss Brooke had that kind of beauty which seems to be thrown into\\r\\nrelief by poor dress.  Her hand and wrist were so finely formed that\\r\\nshe could wear sleeves not less bare of style than those in which the\\r\\nBlessed Virgin appeared to Italian painters; and her profile as well as\\r\\nher stature and bearing seemed to gain the more dignity from her plain\\r\\ngarments, which by the side of provincial fashion gave her the\\r\\nimpressiveness of a fine quotation from the Bible,--or from one of our\\r\\nelder poets,--in a paragraph of to-day\\'s newspaper.  She was usually\\r\\nspoken of as being remarkably clever, but with the addition that her\\r\\nsister Celia had more common-sense. Nevertheless, Celia wore scarcely\\r\\nmore trimmings; and it was only to close observers that her dress\\r\\ndiffered from her sister\\'s, and had a shade of coquetry in its\\r\\narrangements; for Miss Brooke\\'s plain dressing was due to mixed\\r\\nconditions, in most of which her sister shared.  The pride of being\\r\\nladies had something to do with it: the Brooke connections, though not\\r\\nexactly aristocratic, were unquestionably \"good:\" if you inquired\\r\\nbackward for a generation or two, you would not find any yard-measuring\\r\\nor parcel-tying forefathers--anything lower than an admiral or a\\r\\nclergyman; and there was even an ancestor discernible as a Puritan\\r\\ngentleman who served under Cromwell, but afterwards conformed, and\\r\\nmanaged to come out of all political troubles as the proprietor of a\\r\\nrespectable family estate.  Young women of such birth, living in a\\r\\nquiet country-house, and attending a village church hardly larger than\\r\\na parlor, naturally regarded frippery as the ambition of a huckster\\'s\\r\\ndaughter.  Then there was well-bred economy, which in those days made\\r\\nshow in dress the first item to be deducted from, when any margi'"
      ]
     },
     "execution_count": 25,
     "metadata": {},
     "output_type": "execute_result"
    }
   ],
   "source": [
    "header = 5026\n",
    "novels[author][header:header+2000]"
   ]
  },
  {
   "cell_type": "code",
   "execution_count": 26,
   "metadata": {},
   "outputs": [
    {
     "data": {
      "text/plain": [
       "'End of the Project Gutenberg EBook of Middlemarch, by George Eliot\\r\\n\\r\\n*** END OF THIS PROJECT GUTENBERG EBOOK MIDDLEMARCH ***\\r\\n\\r\\n***** This file should be named 145.txt or 145.zip *****\\r\\nThis and all associated files of various formats will be found in:\\r\\n        http://www.gutenberg.org/1/4/145/\\r\\n\\r\\n\\r\\n\\r\\nUpdated editions will replace the previous one--the old editions\\r\\nwill be renamed.\\r\\n\\r\\nCreating the works from public domain print editions means that no\\r\\none owns a United States copyright in thes'"
      ]
     },
     "execution_count": 26,
     "metadata": {},
     "output_type": "execute_result"
    }
   ],
   "source": [
    "footer = novels[author].find('End of the Project Gutenberg EBook')\n",
    "novels[author][footer:footer+500]"
   ]
  },
  {
   "cell_type": "code",
   "execution_count": 27,
   "metadata": {},
   "outputs": [
    {
     "data": {
      "text/plain": [
       "['BOOK I.\\r\\n\\r\\nMISS BROOKE.\\r\\n',\n",
       " 'BOOK II.\\r\\n\\r\\n\\r\\n',\n",
       " 'BOOK III.\\r\\n\\r\\n\\r\\n',\n",
       " 'BOOK IV.\\r\\n\\r\\n\\r\\n',\n",
       " 'BOOK V.\\r\\n\\r\\n\\r\\n',\n",
       " 'BOOK VI.\\r\\n\\r\\n\\r\\n',\n",
       " 'BOOK VII.\\r\\n\\r\\n\\r\\n',\n",
       " 'BOOK VIII.\\r\\n\\r\\n\\r\\n',\n",
       " 'BOOK OF TOBIT: Marriage Prayer.\\r\\n\\r\\n\\r\\n']"
      ]
     },
     "execution_count": 27,
     "metadata": {},
     "output_type": "execute_result"
    }
   ],
   "source": [
    "book = r'BOOK .*[\\.]\\r\\n\\r\\n.*\\r\\n'\n",
    "re.findall(book, novels[author][header:])"
   ]
  },
  {
   "cell_type": "code",
   "execution_count": 28,
   "metadata": {},
   "outputs": [
    {
     "data": {
      "text/plain": [
       "['CHAPTER I.\\r\\n',\n",
       " 'CHAPTER II.\\r\\n',\n",
       " 'CHAPTER III.\\r\\n',\n",
       " 'CHAPTER IV.\\r\\n',\n",
       " 'CHAPTER V.\\r\\n',\n",
       " 'CHAPTER VI.\\r\\n']"
      ]
     },
     "execution_count": 28,
     "metadata": {},
     "output_type": "execute_result"
    }
   ],
   "source": [
    "chapter = r'CHAPTER .*[\\.]\\r\\n'\n",
    "re.findall(chapter, novels[author][header:header+100000])"
   ]
  },
  {
   "cell_type": "code",
   "execution_count": 29,
   "metadata": {},
   "outputs": [],
   "source": [
    "# remove header and footer info\n",
    "novels[author] = novels[author][header:footer]\n",
    "# remove chapter titles\n",
    "novels[author] = re.sub(chapter, '', novels[author])\n",
    "# remove book titles\n",
    "novels[author] = re.sub(book, '', novels[author])\n",
    "\n",
    "assert re.findall(chapter, novels[author]) == []\n",
    "assert re.findall(r'Project Gutenberg', novels[author]) == []\n",
    "assert novels[author].find('BOOK OF TOBIT: Marriage Prayer.') == -1\n",
    "assert novels[author].find('CHAPTER I.') == -1"
   ]
  },
  {
   "cell_type": "code",
   "execution_count": 30,
   "metadata": {
    "scrolled": false
   },
   "outputs": [
    {
     "data": {
      "text/plain": [
       "'\\r\\n\\r\\n\\r\\n\\r\\n    \"Since I can do no good because a woman,\\r\\n     Reach constantly at something that is near it.\\r\\n          --The Maid\\'s Tragedy:  BEAUMONT AND FLETCHER.\\r\\n\\r\\n\\r\\nMiss Brooke had that kind of beauty which seems to be thrown into\\r\\nrelief by poor dress.  Her hand and wrist were so finely formed that\\r\\nshe could wear sleeves not less bare of style than those in which the\\r\\nBlessed Virgin appeared to Italian painters; and her profile as well as\\r\\nher stature and bearing seemed to gain the more dignity from her plain\\r\\ngarments, which by the side of provincial fashion gave her the\\r\\nimpressiveness of a fine quotation from the Bible,--or from one of our\\r\\nelder poets,--in a paragraph of to-day\\'s newspaper.  She was usually\\r\\nspoken of as being remarkably clever, but with the addition that her\\r\\nsister Celia had more common-sense. Nevertheless, Celia wore scarcely\\r\\nmore trimmings; and it was only to close observers that her dress\\r\\ndiffered from her sister\\'s, and had a shade of coquetry in its\\r\\narrangements; for Miss Brooke\\'s plain dressing was due to mixed\\r\\nconditions, in most of which her sister shared.  The pride of being\\r\\nladies had something to do with it: the Brooke connections, though not\\r\\nexactly aristocratic, were unquestionably \"good:\" if you inquired\\r\\nbackward for a generation or two, you would not find any yard-measuring\\r\\nor parcel-tying forefathers--anything lower than an admiral or a\\r\\nclergyman; and there was even an ancestor discernible as a Puritan\\r\\ngentleman who served under Cromwell, but afterwards conformed, and\\r\\nmanaged to come out of all political troubles as the proprietor of a\\r\\nrespectable family estate.  Young women of such birth, living in a\\r\\nquiet country-house, and attending a village church hardly larger than\\r\\na parlor, naturally regarded frippery as the ambition of a huckster\\'s\\r\\ndaughter.  Then there was well-bred economy, which in those days made\\r\\nshow in dress the first item to be deducted from, when any margin was\\r\\nrequired for expenses more dis'"
      ]
     },
     "execution_count": 30,
     "metadata": {},
     "output_type": "execute_result"
    }
   ],
   "source": [
    "novels[author][:2000]"
   ]
  },
  {
   "cell_type": "markdown",
   "metadata": {},
   "source": [
    "## Gaskell - Wives and Daughters"
   ]
  },
  {
   "cell_type": "code",
   "execution_count": 31,
   "metadata": {
    "scrolled": true
   },
   "outputs": [
    {
     "data": {
      "text/plain": [
       "\"The Project Gutenberg eBook, Wives and Daughters, by Elizabeth Cleghorn\\r\\nGaskell, Illustrated by George du Maurier\\r\\n\\r\\n\\r\\nThis eBook is for the use of anyone anywhere at no cost and with\\r\\nalmost no restrictions whatsoever.  You may copy it, give it away or\\r\\nre-use it under the terms of the Project Gutenberg License included\\r\\nwith this eBook or online at www.gutenberg.org\\r\\n\\r\\n\\r\\n\\r\\n\\r\\n\\r\\nTitle: Wives and Daughters\\r\\n       An Every-Day Story\\r\\n\\r\\n\\r\\nAuthor: Elizabeth Cleghorn Gaskell\\r\\n\\r\\n\\r\\nRelease Date: December 26, 2001  [eBook #4274]\\r\\nMost recently updated: November 4, 2011\\r\\n\\r\\nLanguage: English\\r\\n\\r\\n\\r\\n***START OF THE PROJECT GUTENBERG EBOOK WIVES AND DAUGHTERS***\\r\\n\\r\\n\\r\\nE-text prepared by Charles Aldarondo\\r\\nand revised by Joseph E. Loewenstein, M.D.\\r\\n\\r\\n\\r\\n\\r\\nEditorial note:\\r\\n\\r\\n      _Wives and Daughters_ was first published serially in the\\r\\n      _Cornhill Magazine_ from August, 1864, to January, 1866.\\r\\n      Elizabeth Gaskell died suddenly in November, 1865. She had\\r\\n      completed all but the last chapter, and in that sense the\\r\\n      book, which many consider her masterpiece, is unfinished.\\r\\n      The editor of the _Cornhill Magazine_, Frederick Greenwood,\\r\\n      appended his comments about Mrs. Gaskell's intentions for\\r\\n      the conclusion and about Mrs. Gaskell as a person. Those\\r\\n      comments are included at the end of this e-book. _Wives\\r\\n      and Daughters_ was first published in book form in 1866 by\\r\\n      Smith, Elder.\\r\\n\\r\\n      Both the _Cornhill_ serial and the Smith, Elder first\\r\\n      edition had eighteen full-page illustrations by George\\r\\n      du Maurier, and those are included in this e-book. The\\r\\n      _Cornhill_ edition also had small illustrations at the\\r\\n      beginning of seventeen chapters, and those too are\\r\\n      included. The illustrations can be seen by viewing the\\r\\n      HTML version of this file. See\\r\\n      4274-h.htm or 4274-h.zip:\\r\\n      (http://www.gutenberg.org/files/4274/4274-h/4274-h.htm)\\r\\n      or\\r\\n      (http://www.gutenberg.org/files/4274/42\""
      ]
     },
     "execution_count": 31,
     "metadata": {},
     "output_type": "execute_result"
    }
   ],
   "source": [
    "author = 'gaskell'\n",
    "novels[author][:2000]"
   ]
  },
  {
   "cell_type": "code",
   "execution_count": 32,
   "metadata": {},
   "outputs": [
    {
     "data": {
      "text/plain": [
       "'CHAPTER I.\\r\\n\\r\\nTHE DAWN OF A GALA DAY.\\r\\n\\r\\n\\r\\n[Illustration (untitled)]\\r\\n\\r\\nTo begin with the old rigmarole of childhood. In a country there was\\r\\na shire, and in that shire there was a town, and in that town there\\r\\nwas a house, and in that house there was a room, and in that room\\r\\nthere was a bed, and in that bed there lay a little girl; wide awake\\r\\nand longing to get up, but not daring to do so for fear of the unseen\\r\\npower in the next room--a certain Betty, whose slumbers must not\\r\\nbe disturbed until six o\\'clock struck, when she wakened of herself\\r\\n\"as sure as clockwork,\" and left the household very little peace\\r\\nafterwards. It was a June morning, and early as it was, the room was\\r\\nfull of sunny warmth and light.\\r\\n\\r\\nOn the drawers opposite to the little white dimity bed in which Molly\\r\\nGibson lay, was a primitive kind of bonnet-stand on which was hung a\\r\\nbonnet, carefully covered over from any chance of dust with a large\\r\\ncotton handkerchief, of so heavy and serviceable a texture that if\\r\\nthe thing underneath it had been a flimsy fabric of gauze and lace\\r\\nand flowers, it would have been altogether \"scomfished\" (again to\\r\\nquote from Betty\\'s vocabulary). But the bonnet was made of solid\\r\\nstraw, and its only trimming was a plain white ribbon put over the\\r\\ncrown, and forming the strings. Still, there was a neat little\\r\\nquilling inside, every plait of which Molly knew, for had she not\\r\\nmade it herself the evening before, with infinite pains? and was\\r\\nthere not a little blue bow in this quilling, the very first bit of\\r\\nsuch finery Molly had ever had the prospect of wearing?\\r\\n\\r\\nSix o\\'clock now! the pleasant, brisk ringing of the church bells told\\r\\nthat; calling every one to their daily work, as they had done for\\r\\nhundreds of years. Up jumped Molly, and ran with her bare little feet\\r\\nacross the room, and lifted off the handkerchief and saw once again\\r\\nthe bonnet; the pledge of the gay bright day to come. Then to the\\r\\nwindow, and after some tugging she opened the casement, and'"
      ]
     },
     "execution_count": 32,
     "metadata": {},
     "output_type": "execute_result"
    }
   ],
   "source": [
    "header = 5734\n",
    "novels[author][header:header+2000]"
   ]
  },
  {
   "cell_type": "code",
   "execution_count": 33,
   "metadata": {},
   "outputs": [
    {
     "data": {
      "text/plain": [
       "'***END OF THE PROJECT GUTENBERG EBOOK WIVES AND DAUGHTERS***\\r\\n\\r\\n\\r\\n******* This file should be named 4274-8.txt or 4274-8.zip *******\\r\\n\\r\\n\\r\\nThis and all associated files of various formats will be found in:\\r\\nhttp://www.gutenberg.org/dirs/4/2/7/4274\\r\\n\\r\\n\\r\\n\\r\\nUpdated editions will replace the previous one--the old editions\\r\\nwill be renamed.\\r\\n\\r\\nCreating the works from public domain print editions means that no\\r\\none owns a United States copyright in these works, so the Foundation\\r\\n(and you!) can copy an'"
      ]
     },
     "execution_count": 33,
     "metadata": {},
     "output_type": "execute_result"
    }
   ],
   "source": [
    "footer = novels[author].find('***END OF THE PROJECT GUTENBERG')\n",
    "novels[author][footer:footer+500]"
   ]
  },
  {
   "cell_type": "code",
   "execution_count": 34,
   "metadata": {
    "scrolled": true
   },
   "outputs": [
    {
     "data": {
      "text/plain": [
       "['CHAPTER I.\\r\\n\\r\\nTHE DAWN OF A GALA DAY.\\r\\n\\r\\n\\r\\n[Illustration (untitled)]\\r\\n',\n",
       " \"CHAPTER IV.\\r\\n\\r\\nMR. GIBSON'S NEIGHBOURS.\\r\\n\\r\\n\\r\\n[Illustration (untitled)]\\r\\n\",\n",
       " 'CHAPTER VII.\\r\\n\\r\\nFORESHADOWS OF LOVE PERILS.\\r\\n\\r\\n\\r\\n[Illustration (untitled)]\\r\\n']"
      ]
     },
     "execution_count": 34,
     "metadata": {},
     "output_type": "execute_result"
    }
   ],
   "source": [
    "chapter = r'CHAPTER .*[\\.]\\r\\n\\r\\n.*[\\.]\\r\\n\\r\\n\\r\\n\\[Illustration .*\\]\\r\\n'\n",
    "re.findall(chapter, novels[author][header:header+200000])"
   ]
  },
  {
   "cell_type": "code",
   "execution_count": 35,
   "metadata": {},
   "outputs": [],
   "source": [
    "# remove header and footer info\n",
    "novels[author] = novels[author][header:footer]\n",
    "# remove chapter titles\n",
    "novels[author] = re.sub(chapter, '', novels[author])\n",
    "\n",
    "assert re.findall(chapter, novels[author]) == []\n",
    "assert re.findall(r'Project Gutenberg', novels[author]) == []\n",
    "assert novels[author].find('CHAPTER I.') == -1"
   ]
  },
  {
   "cell_type": "code",
   "execution_count": 36,
   "metadata": {
    "scrolled": false
   },
   "outputs": [
    {
     "data": {
      "text/plain": [
       "'\\r\\nTo begin with the old rigmarole of childhood. In a country there was\\r\\na shire, and in that shire there was a town, and in that town there\\r\\nwas a house, and in that house there was a room, and in that room\\r\\nthere was a bed, and in that bed there lay a little girl; wide awake\\r\\nand longing to get up, but not daring to do so for fear of the unseen\\r\\npower in the next room--a certain Betty, whose slumbers must not\\r\\nbe disturbed until six o\\'clock struck, when she wakened of herself\\r\\n\"as sure as clockwork,\" and left the household very little peace\\r\\nafterwards. It was a June morning, and early as it was, the room was\\r\\nfull of sunny warmth and light.\\r\\n\\r\\nOn the drawers opposite to the little white dimity bed in which Molly\\r\\nGibson lay, was a primitive kind of bonnet-stand on which was hung a\\r\\nbonnet, carefully covered over from any chance of dust with a large\\r\\ncotton handkerchief, of so heavy and serviceable a texture that if\\r\\nthe thing underneath it had been a flimsy fabric of gauze and lace\\r\\nand flowers, it would have been altogether \"scomfished\" (again to\\r\\nquote from Betty\\'s vocabulary). But the bonnet was made of solid\\r\\nstraw, and its only trimming was a plain white ribbon put over the\\r\\ncrown, and forming the strings. Still, there was a neat little\\r\\nquilling inside, every plait of which Molly knew, for had she not\\r\\nmade it herself the evening before, with infinite pains? and was\\r\\nthere not a little blue bow in this quilling, the very first bit of\\r\\nsuch finery Molly had ever had the prospect of wearing?\\r\\n\\r\\nSix o\\'clock now! the pleasant, brisk ringing of the church bells told\\r\\nthat; calling every one to their daily work, as they had done for\\r\\nhundreds of years. Up jumped Molly, and ran with her bare little feet\\r\\nacross the room, and lifted off the handkerchief and saw once again\\r\\nthe bonnet; the pledge of the gay bright day to come. Then to the\\r\\nwindow, and after some tugging she opened the casement, and let in\\r\\nthe sweet morning air. The dew was already off the flowers in'"
      ]
     },
     "execution_count": 36,
     "metadata": {},
     "output_type": "execute_result"
    }
   ],
   "source": [
    "novels[author][:2000]"
   ]
  },
  {
   "cell_type": "markdown",
   "metadata": {},
   "source": [
    "## Hardy - Jude the Obscure"
   ]
  },
  {
   "cell_type": "code",
   "execution_count": 37,
   "metadata": {
    "scrolled": true
   },
   "outputs": [
    {
     "data": {
      "text/plain": [
       "'The Project Gutenberg eBook, Jude the Obscure, by Thomas Hardy\\r\\n\\r\\n\\r\\nThis eBook is for the use of anyone anywhere at no cost and with\\r\\nalmost no restrictions whatsoever.  You may copy it, give it away or\\r\\nre-use it under the terms of the Project Gutenberg License included\\r\\nwith this eBook or online at www.gutenberg.net\\r\\n\\r\\n\\r\\n\\r\\n\\r\\n\\r\\nTitle: Jude the Obscure\\r\\n\\r\\n\\r\\nAuthor: Thomas Hardy\\r\\n\\r\\n\\r\\n\\r\\nRelease Date: August, 1994  [eBook #153]\\r\\n[Most recently updated: September 13, 2005]\\r\\n\\r\\nLanguage: English\\r\\n\\r\\n\\r\\n***START OF THE PROJECT GUTENBERG EBOOK JUDE THE OBSCURE***\\r\\n\\r\\n\\r\\nE-text prepared by John Hamm with OmniPage Professional OCR\\r\\nsoftware donated to Project Gutenberg by Caere Corporation.\\r\\nE-text revised by Joseph E. Loewenstein, M.D.\\r\\n\\r\\n\\r\\n\\r\\nJUDE THE OBSCURE\\r\\n\\r\\nby\\r\\n\\r\\nThomas Hardy\\r\\n\\r\\n\\r\\n\\r\\n\\r\\n\\r\\n\\r\\n\\r\\nCONTENTS\\r\\n\\r\\n   PART FIRST\\r\\n   At Marygreen\\r\\n\\r\\n   PART SECOND\\r\\n   At Christminster\\r\\n\\r\\n   PART THIRD\\r\\n   At Melchester\\r\\n\\r\\n   PART FOURTH\\r\\n   At Shaston\\r\\n\\r\\n   PART FIFTH\\r\\n   At Aldbrickham and Elsewhere\\r\\n\\r\\n   PART SIXTH\\r\\n   At Christminster Again\\r\\n\\r\\n\\r\\n\\r\\n\\r\\nPart First\\r\\n\\r\\nAT MARYGREEN\\r\\n\\r\\n\\r\\n\\r\\n   \"Yea, many there be that have run out of their wits for\\r\\n    women, and become servants for their sakes.  Many also\\r\\n    have perished, have erred, and sinned, for women.... O\\r\\n    ye men, how can it be but women should be strong, seeing\\r\\n    they do thus?\"--ESDRAS.\\r\\n\\r\\n\\r\\nI\\r\\n\\r\\n\\r\\nThe schoolmaster was leaving the village, and everybody seemed sorry.\\r\\nThe miller at Cresscombe lent him the small white tilted cart and\\r\\nhorse to carry his goods to the city of his destination, about twenty\\r\\nmiles off, such a vehicle proving of quite sufficient size for the\\r\\ndeparting teacher\\'s effects.  For the schoolhouse had been partly\\r\\nfurnished by the managers, and the only cumbersome article possessed\\r\\nby the master, in addition to the packing-case of books, was a\\r\\ncottage piano that he had bought at an auction during the year in\\r\\nwhich he thought of learning instrumental music.  But the enthusiasm\\r\\nhaving waned he had ne'"
      ]
     },
     "execution_count": 37,
     "metadata": {},
     "output_type": "execute_result"
    }
   ],
   "source": [
    "author = 'hardy'\n",
    "novels[author][:2000]"
   ]
  },
  {
   "cell_type": "code",
   "execution_count": 38,
   "metadata": {},
   "outputs": [
    {
     "data": {
      "text/plain": [
       "'Part First\\r\\n\\r\\nAT MARYGREEN\\r\\n\\r\\n\\r\\n\\r\\n   \"Yea, many there be that have run out of their wits for\\r\\n    women, and become servants for their sakes.  Many also\\r\\n    have perished, have erred, and sinned, for women.... O\\r\\n    ye men, how can it be but women should be strong, seeing\\r\\n    they do thus?\"--ESDRAS.\\r\\n\\r\\n\\r\\nI\\r\\n\\r\\n\\r\\nThe schoolmaster was leaving the village, and everybody seemed sorry.\\r\\nThe miller at Cresscombe lent him the small white tilted cart and\\r\\nhorse to carry his goods to the city of his destination, about twenty\\r\\nmiles off, such a vehicle proving of quite sufficient size for the\\r\\ndeparting teacher\\'s effects.  For the schoolhouse had been partly\\r\\nfurnished by the managers, and the only cumbersome article possessed\\r\\nby the master, in addition to the packing-case of books, was a\\r\\ncottage piano that he had bought at an auction during the year in\\r\\nwhich he thought of learning instrumental music.  But the enthusiasm\\r\\nhaving waned he had never acquired any skill in playing, and the\\r\\npurchased article had been a perpetual trouble to him ever since in\\r\\nmoving house.\\r\\n\\r\\nThe rector had gone away for the day, being a man who disliked the\\r\\nsight of changes.  He did not mean to return till the evening, when\\r\\nthe new school-teacher would have arrived and settled in, and\\r\\neverything would be smooth again.\\r\\n\\r\\nThe blacksmith, the farm bailiff, and the schoolmaster himself were\\r\\nstanding in perplexed attitudes in the parlour before the instrument.\\r\\nThe master had remarked that even if he got it into the cart he\\r\\nshould not know what to do with it on his arrival at Christminster,\\r\\nthe city he was bound for, since he was only going into temporary\\r\\nlodgings just at first.\\r\\n\\r\\nA little boy of eleven, who had been thoughtfully assisting in the\\r\\npacking, joined the group of men, and as they rubbed their chins he\\r\\nspoke up, blushing at the sound of his own voice: \"Aunt have got a\\r\\ngreat fuel-house, and it could be put there, perhaps, till you\\'ve\\r\\nfound a place to settle in, sir.\"\\r\\n\\r\\n\"A '"
      ]
     },
     "execution_count": 38,
     "metadata": {},
     "output_type": "execute_result"
    }
   ],
   "source": [
    "header = 1047\n",
    "novels[author][header:header+2000]"
   ]
  },
  {
   "cell_type": "code",
   "execution_count": 39,
   "metadata": {},
   "outputs": [
    {
     "data": {
      "text/plain": [
       "'***END OF THE PROJECT GUTENBERG EBOOK JUDE THE OBSCURE***\\r\\n\\r\\n\\r\\n******* This file should be named 153-8.txt or 153-8.zip *******\\r\\n\\r\\n\\r\\nThis and all associated files of various formats will be found in:\\r\\nhttp://www.gutenberg.org/dirs/1/5/153\\r\\n\\r\\n\\r\\n\\r\\nUpdated editions will replace the previous one--the old editions\\r\\nwill be renamed.\\r\\n\\r\\nCreating the works from public domain print editions means that no\\r\\none owns a United States copyright in these works, so the Foundation\\r\\n(and you!) can copy and distri'"
      ]
     },
     "execution_count": 39,
     "metadata": {},
     "output_type": "execute_result"
    }
   ],
   "source": [
    "footer = novels[author].find('***END OF THE PROJECT GUTENBERG')\n",
    "novels[author][footer:footer+500]"
   ]
  },
  {
   "cell_type": "code",
   "execution_count": 40,
   "metadata": {
    "scrolled": true
   },
   "outputs": [
    {
     "data": {
      "text/plain": [
       "['Part First\\r\\n\\r\\nAT MARYGREEN\\r\\n',\n",
       " 'Part Second\\r\\n\\r\\n\\r\\n',\n",
       " 'Part Third\\r\\n\\r\\n\\r\\n',\n",
       " 'Part Fourth\\r\\n\\r\\n\\r\\n',\n",
       " 'Part Fifth\\r\\n\\r\\n\\r\\n',\n",
       " 'Part Sixth\\r\\n\\r\\n\\r\\n']"
      ]
     },
     "execution_count": 40,
     "metadata": {},
     "output_type": "execute_result"
    }
   ],
   "source": [
    "chapter = r'Part .*\\r\\n\\r\\n.*\\r\\n'\n",
    "re.findall(chapter, novels[author][header:])"
   ]
  },
  {
   "cell_type": "code",
   "execution_count": 41,
   "metadata": {},
   "outputs": [],
   "source": [
    "# remove header and footer info\n",
    "novels[author] = novels[author][header:footer]\n",
    "# remove chapter titles\n",
    "novels[author] = re.sub(chapter, '', novels[author])\n",
    "\n",
    "assert re.findall(chapter, novels[author]) == []\n",
    "assert re.findall(r'Project Gutenberg', novels[author]) == []\n",
    "assert novels[author].find('Part First') == -1"
   ]
  },
  {
   "cell_type": "code",
   "execution_count": 42,
   "metadata": {
    "scrolled": false
   },
   "outputs": [
    {
     "data": {
      "text/plain": [
       "'\\r\\n\\r\\n\\r\\n   \"Yea, many there be that have run out of their wits for\\r\\n    women, and become servants for their sakes.  Many also\\r\\n    have perished, have erred, and sinned, for women.... O\\r\\n    ye men, how can it be but women should be strong, seeing\\r\\n    they do thus?\"--ESDRAS.\\r\\n\\r\\n\\r\\nI\\r\\n\\r\\n\\r\\nThe schoolmaster was leaving the village, and everybody seemed sorry.\\r\\nThe miller at Cresscombe lent him the small white tilted cart and\\r\\nhorse to carry his goods to the city of his destination, about twenty\\r\\nmiles off, such a vehicle proving of quite sufficient size for the\\r\\ndeparting teacher\\'s effects.  For the schoolhouse had been partly\\r\\nfurnished by the managers, and the only cumbersome article possessed\\r\\nby the master, in addition to the packing-case of books, was a\\r\\ncottage piano that he had bought at an auction during the year in\\r\\nwhich he thought of learning instrumental music.  But the enthusiasm\\r\\nhaving waned he had never acquired any skill in playing, and the\\r\\npurchased article had been a perpetual trouble to him ever since in\\r\\nmoving house.\\r\\n\\r\\nThe rector had gone away for the day, being a man who disliked the\\r\\nsight of changes.  He did not mean to return till the evening, when\\r\\nthe new school-teacher would have arrived and settled in, and\\r\\neverything would be smooth again.\\r\\n\\r\\nThe blacksmith, the farm bailiff, and the schoolmaster himself were\\r\\nstanding in perplexed attitudes in the parlour before the instrument.\\r\\nThe master had remarked that even if he got it into the cart he\\r\\nshould not know what to do with it on his arrival at Christminster,\\r\\nthe city he was bound for, since he was only going into temporary\\r\\nlodgings just at first.\\r\\n\\r\\nA little boy of eleven, who had been thoughtfully assisting in the\\r\\npacking, joined the group of men, and as they rubbed their chins he\\r\\nspoke up, blushing at the sound of his own voice: \"Aunt have got a\\r\\ngreat fuel-house, and it could be put there, perhaps, till you\\'ve\\r\\nfound a place to settle in, sir.\"\\r\\n\\r\\n\"A proper good notion,\" said th'"
      ]
     },
     "execution_count": 42,
     "metadata": {},
     "output_type": "execute_result"
    }
   ],
   "source": [
    "novels[author][:2000]"
   ]
  },
  {
   "cell_type": "markdown",
   "metadata": {},
   "source": [
    "## James - Portrait of a Lady"
   ]
  },
  {
   "cell_type": "code",
   "execution_count": 43,
   "metadata": {
    "scrolled": true
   },
   "outputs": [
    {
     "data": {
      "text/plain": [
       "'The Project Gutenberg EBook of The Portrait of a Lady, by Henry James\\r\\n\\r\\nThis eBook is for the use of anyone anywhere at no cost and with\\r\\nalmost no restrictions whatsoever.  You may copy it, give it away or\\r\\nre-use it under the terms of the Project Gutenberg License included\\r\\nwith this eBook or online at www.gutenberg.org\\r\\n\\r\\n\\r\\nTitle: The Portrait of a Lady\\r\\n       Volume 1 (of 2)\\r\\n\\r\\nAuthor: Henry James\\r\\n\\r\\nPosting Date: December 1, 2008 [EBook #2833]\\r\\nRelease Date: September, 2001\\r\\nLast Updated: September 20, 2016\\r\\n\\r\\nLanguage: English\\r\\n\\r\\nCharacter set encoding: UTF-8\\r\\n\\r\\n*** START OF THIS PROJECT GUTENBERG EBOOK THE PORTRAIT OF A LADY ***\\r\\n\\r\\n\\r\\n\\r\\n\\r\\nProduced by Eve Sobol\\r\\n\\r\\n\\r\\n\\r\\n\\r\\n\\r\\nTHE PORTRAIT OF A LADY\\r\\n\\r\\nVOLUME I\\r\\n\\r\\n\\r\\nBy Henry James\\r\\n\\r\\n\\r\\n\\r\\n\\r\\nPREFACE\\r\\n\\r\\n“_The Portrait of a Lady_” was, like “_Roderick Hudson_,” begun in Florence,\\r\\nduring three months spent there in the spring of 1879. Like “Roderick”\\r\\n and like “_The American_,” it had been designed for publication in “_The\\r\\nAtlantic Monthly_,” where it began to appear in 1880. It differed from\\r\\nits two predecessors, however, in finding a course also open to it, from\\r\\nmonth to month, in “_Macmillan’s Magazine_”; which was to be for me one of\\r\\nthe last occasions of simultaneous “serialisation” in the two countries\\r\\nthat the changing conditions of literary intercourse between England and\\r\\nthe United States had up to then left unaltered. It is a long novel, and\\r\\nI was long in writing it; I remember being again much occupied with it,\\r\\nthe following year, during a stay of several weeks made in Venice. I had\\r\\nrooms on Riva Schiavoni, at the top of a house near the passage leading\\r\\noff to San Zaccaria; the waterside life, the wondrous lagoon spread\\r\\nbefore me, and the ceaseless human chatter of Venice came in at my\\r\\nwindows, to which I seem to myself to have been constantly driven, in\\r\\nthe fruitless fidget of composition, as if to see whether, out in the\\r\\nblue channel, the ship of some right suggestion, of some better phrase'"
      ]
     },
     "execution_count": 43,
     "metadata": {},
     "output_type": "execute_result"
    }
   ],
   "source": [
    "author = 'james'\n",
    "novels[author][:2000]"
   ]
  },
  {
   "cell_type": "code",
   "execution_count": 44,
   "metadata": {},
   "outputs": [
    {
     "data": {
      "text/plain": [
       "'CHAPTER I\\r\\n\\r\\nUnder certain circumstances there are few hours in life more agreeable\\r\\nthan the hour dedicated to the ceremony known as afternoon tea. There\\r\\nare circumstances in which, whether you partake of the tea or not--some\\r\\npeople of course never do,--the situation is in itself delightful. Those\\r\\nthat I have in mind in beginning to unfold this simple history offered\\r\\nan admirable setting to an innocent pastime. The implements of\\r\\nthe little feast had been disposed upon the lawn of an old English\\r\\ncountry-house, in what I should call the perfect middle of a splendid\\r\\nsummer afternoon. Part of the afternoon had waned, but much of it was\\r\\nleft, and what was left was of the finest and rarest quality. Real dusk\\r\\nwould not arrive for many hours; but the flood of summer light had begun\\r\\nto ebb, the air had grown mellow, the shadows were long upon the smooth,\\r\\ndense turf. They lengthened slowly, however, and the scene expressed\\r\\nthat sense of leisure still to come which is perhaps the chief source\\r\\nof one’s enjoyment of such a scene at such an hour. From five o’clock to\\r\\neight is on certain occasions a little eternity; but on such an occasion\\r\\nas this the interval could be only an eternity of pleasure. The persons\\r\\nconcerned in it were taking their pleasure quietly, and they were not\\r\\nof the sex which is supposed to furnish the regular votaries of the\\r\\nceremony I have mentioned. The shadows on the perfect lawn were straight\\r\\nand angular; they were the shadows of an old man sitting in a deep\\r\\nwicker-chair near the low table on which the tea had been served, and\\r\\nof two younger men strolling to and fro, in desultory talk, in front of\\r\\nhim. The old man had his cup in his hand; it was an unusually large cup,\\r\\nof a different pattern from the rest of the set and painted in brilliant\\r\\ncolours. He disposed of its contents with much circumspection, holding\\r\\nit for a long time close to his chin, with his face turned to the house.\\r\\nHis companions had either finished their tea or '"
      ]
     },
     "execution_count": 44,
     "metadata": {},
     "output_type": "execute_result"
    }
   ],
   "source": [
    "header = 38135\n",
    "novels[author][header:header+2000]"
   ]
  },
  {
   "cell_type": "code",
   "execution_count": 45,
   "metadata": {},
   "outputs": [
    {
     "data": {
      "text/plain": [
       "'End of the Project Gutenberg EBook of The Portrait of a Lady, by Henry James\\r\\n\\r\\n*** END OF THIS PROJECT GUTENBERG EBOOK THE PORTRAIT OF A LADY ***\\r\\n\\r\\n***** This file should be named 2833-0.txt or 2833-0.zip *****\\r\\nThis and all associated files of various formats will be found in:\\r\\n        http://www.gutenberg.org/2/8/3/2833/\\r\\n\\r\\nProduced by Eve Sobol\\r\\n\\r\\nUpdated editions will replace the previous one--the old editions\\r\\nwill be renamed.\\r\\n\\r\\nCreating the works from public domain print editions means '"
      ]
     },
     "execution_count": 45,
     "metadata": {},
     "output_type": "execute_result"
    }
   ],
   "source": [
    "footer = novels[author].find('End of the Project Gutenberg EBook')\n",
    "novels[author][footer:footer+500]"
   ]
  },
  {
   "cell_type": "code",
   "execution_count": 46,
   "metadata": {
    "scrolled": true
   },
   "outputs": [
    {
     "data": {
      "text/plain": [
       "['CHAPTER I\\r\\n',\n",
       " 'CHAPTER II\\r\\n',\n",
       " 'CHAPTER III\\r\\n',\n",
       " 'CHAPTER IV\\r\\n',\n",
       " 'CHAPTER V\\r\\n',\n",
       " 'CHAPTER VI\\r\\n']"
      ]
     },
     "execution_count": 46,
     "metadata": {},
     "output_type": "execute_result"
    }
   ],
   "source": [
    "chapter = r'CHAPTER .*\\r\\n'\n",
    "re.findall(chapter, novels[author][header:header+100000])"
   ]
  },
  {
   "cell_type": "code",
   "execution_count": 47,
   "metadata": {},
   "outputs": [],
   "source": [
    "# remove header and footer info\n",
    "novels[author] = novels[author][header:footer]\n",
    "# remove chapter titles\n",
    "novels[author] = re.sub(chapter, '', novels[author])\n",
    "\n",
    "assert re.findall(chapter, novels[author]) == []\n",
    "assert re.findall(r'Project Gutenberg', novels[author]) == []\n",
    "assert novels[author].find('CHAPTER I.') == -1"
   ]
  },
  {
   "cell_type": "code",
   "execution_count": 48,
   "metadata": {
    "scrolled": false
   },
   "outputs": [
    {
     "data": {
      "text/plain": [
       "'\\r\\nUnder certain circumstances there are few hours in life more agreeable\\r\\nthan the hour dedicated to the ceremony known as afternoon tea. There\\r\\nare circumstances in which, whether you partake of the tea or not--some\\r\\npeople of course never do,--the situation is in itself delightful. Those\\r\\nthat I have in mind in beginning to unfold this simple history offered\\r\\nan admirable setting to an innocent pastime. The implements of\\r\\nthe little feast had been disposed upon the lawn of an old English\\r\\ncountry-house, in what I should call the perfect middle of a splendid\\r\\nsummer afternoon. Part of the afternoon had waned, but much of it was\\r\\nleft, and what was left was of the finest and rarest quality. Real dusk\\r\\nwould not arrive for many hours; but the flood of summer light had begun\\r\\nto ebb, the air had grown mellow, the shadows were long upon the smooth,\\r\\ndense turf. They lengthened slowly, however, and the scene expressed\\r\\nthat sense of leisure still to come which is perhaps the chief source\\r\\nof one’s enjoyment of such a scene at such an hour. From five o’clock to\\r\\neight is on certain occasions a little eternity; but on such an occasion\\r\\nas this the interval could be only an eternity of pleasure. The persons\\r\\nconcerned in it were taking their pleasure quietly, and they were not\\r\\nof the sex which is supposed to furnish the regular votaries of the\\r\\nceremony I have mentioned. The shadows on the perfect lawn were straight\\r\\nand angular; they were the shadows of an old man sitting in a deep\\r\\nwicker-chair near the low table on which the tea had been served, and\\r\\nof two younger men strolling to and fro, in desultory talk, in front of\\r\\nhim. The old man had his cup in his hand; it was an unusually large cup,\\r\\nof a different pattern from the rest of the set and painted in brilliant\\r\\ncolours. He disposed of its contents with much circumspection, holding\\r\\nit for a long time close to his chin, with his face turned to the house.\\r\\nHis companions had either finished their tea or were indiff'"
      ]
     },
     "execution_count": 48,
     "metadata": {},
     "output_type": "execute_result"
    }
   ],
   "source": [
    "novels[author][:2000]"
   ]
  },
  {
   "cell_type": "markdown",
   "metadata": {},
   "source": [
    "## Lawrence - The Lost Girl"
   ]
  },
  {
   "cell_type": "code",
   "execution_count": 49,
   "metadata": {
    "scrolled": true
   },
   "outputs": [
    {
     "data": {
      "text/plain": [
       "\"The Project Gutenberg eBook, The Lost Girl, by D. H. Lawrence\\r\\n\\r\\n\\r\\nThis eBook is for the use of anyone anywhere at no cost and with\\r\\nalmost no restrictions whatsoever.  You may copy it, give it away or\\r\\nre-use it under the terms of the Project Gutenberg License included\\r\\nwith this eBook or online at www.gutenberg.org\\r\\n\\r\\n\\r\\n\\r\\n\\r\\n\\r\\nTitle: The Lost Girl\\r\\n\\r\\n\\r\\nAuthor: D. H. Lawrence\\r\\n\\r\\n\\r\\n\\r\\nRelease Date: December 3, 2007  [eBook #23727]\\r\\n\\r\\nLanguage: English\\r\\n\\r\\n\\r\\n***START OF THE PROJECT GUTENBERG EBOOK THE LOST GIRL***\\r\\n\\r\\n\\r\\nE-text prepared by Roger Frank, Roberta Staehlin, and the Project\\r\\nGutenberg Online Distributed Proofreading Team (http://www.pgdp.net)\\r\\n\\r\\n\\r\\n\\r\\nTHE LOST GIRL\\r\\n\\r\\nby\\r\\n\\r\\nD. H. LAWRENCE\\r\\n\\r\\n\\r\\n\\r\\n\\r\\n\\r\\n\\r\\n\\r\\nNew York\\r\\nThomas Seltzer\\r\\n1921\\r\\n\\r\\nCopyright, 1921,\\r\\nby Thomas Seltzer, Inc.\\r\\nAll rights reserved\\r\\n\\r\\nFirst Printing, February, 1921\\r\\nSecond Printing, February, 1921\\r\\nThird Printing, September, 1921\\r\\n\\r\\nPrinted in the United States of America\\r\\n\\r\\n\\r\\n\\r\\n\\r\\nCONTENTS\\r\\n\\r\\nCHAPTER                                      PAGE\\r\\n\\r\\n   I THE DECLINE OF MANCHESTER HOUSE           7\\r\\n\\r\\n  II THE RISE OF ALVINA HOUGHTON              27\\r\\n\\r\\n III THE MATERNITY NURSE                      36\\r\\n\\r\\n  IV TWO WOMEN DIE                            49\\r\\n\\r\\n   V THE BEAU                                 64\\r\\n\\r\\n  VI HOUGHTON'S LAST ENDEAVOUR                95\\r\\n\\r\\n VII NATCHA-KEE-TAWARA                       130\\r\\n\\r\\nVIII CICCIO                                  164\\r\\n\\r\\n  IX ALVINA BECOMES ALLAYE                   191\\r\\n\\r\\n   X THE FALL OF MANCHESTER HOUSE            235\\r\\n\\r\\n  XI HONOURABLE ENGAGEMENT                   273\\r\\n\\r\\n XII ALLAYE ALSO IS ENGAGED                  304\\r\\n\\r\\nXIII THE WEDDED WIFE                         317\\r\\n\\r\\n XIV THE JOURNEY ACROSS                      327\\r\\n\\r\\n  XV THE PLACE CALLED CALIFANO               350\\r\\n\\r\\n XVI SUSPENSE                                359\\r\\n\\r\\n\\r\\n\\r\\n\\r\\nCHAPTER I\\r\\n\\r\\nTHE DECLINE OF MANCHESTER HOUSE\\r\\n\\r\\n\\r\\nTake a mining townlet like Woodhouse, with a population of ten\\r\\nthousand people, \""
      ]
     },
     "execution_count": 49,
     "metadata": {},
     "output_type": "execute_result"
    }
   ],
   "source": [
    "author = 'lawrence'\n",
    "novels[author][:2000]"
   ]
  },
  {
   "cell_type": "code",
   "execution_count": 50,
   "metadata": {},
   "outputs": [
    {
     "data": {
      "text/plain": [
       "'CHAPTER I\\r\\n\\r\\nTHE DECLINE OF MANCHESTER HOUSE\\r\\n\\r\\n\\r\\nTake a mining townlet like Woodhouse, with a population of ten\\r\\nthousand people, and three generations behind it. This space of\\r\\nthree generations argues a certain well-established society. The old\\r\\n\"County\" has fled from the sight of so much disembowelled coal, to\\r\\nflourish on mineral rights in regions still idyllic. Remains one\\r\\ngreat and inaccessible magnate, the local coal owner: three\\r\\ngenerations old, and clambering on the bottom step of the \"County,\"\\r\\nkicking off the mass below. Rule him out.\\r\\n\\r\\nA well established society in Woodhouse, full of fine shades,\\r\\nranging from the dark of coal-dust to grit of stone-mason and\\r\\nsawdust of timber-merchant, through the lustre of lard and butter\\r\\nand meat, to the perfume of the chemist and the disinfectant of the\\r\\ndoctor, on to the serene gold-tarnish of bank-managers, cashiers for\\r\\nthe firm, clergymen and such-like, as far as the automobile\\r\\nrefulgence of the general-manager of all the collieries. Here the\\r\\n_ne plus ultra_. The general manager lives in the shrubberied\\r\\nseclusion of the so-called Manor. The genuine Hall, abandoned by the\\r\\n\"County,\" has been taken over as offices by the firm.\\r\\n\\r\\nHere we are then: a vast substratum of colliers; a thick sprinkling\\r\\nof tradespeople intermingled with small employers of labour and\\r\\ndiversified by elementary schoolmasters and nonconformist clergy; a\\r\\nhigher layer of bank-managers, rich millers and well-to-do\\r\\nironmasters, episcopal clergy and the managers of collieries, then\\r\\nthe rich and sticky cherry of the local coal-owner glistening over\\r\\nall.\\r\\n\\r\\nSuch the complicated social system of a small industrial town in the\\r\\nMidlands of England, in this year of grace 1920. But let us go back\\r\\na little. Such it was in the last calm year of plenty, 1913.\\r\\n\\r\\nA calm year of plenty. But one chronic and dreary malady: that of\\r\\nthe odd women. Why, in the name of all prosperity, should every\\r\\nclass but the lowest in such a society hang overbu'"
      ]
     },
     "execution_count": 50,
     "metadata": {},
     "output_type": "execute_result"
    }
   ],
   "source": [
    "header = 1869\n",
    "novels[author][header:header+2000]"
   ]
  },
  {
   "cell_type": "code",
   "execution_count": 51,
   "metadata": {},
   "outputs": [
    {
     "data": {
      "text/plain": [
       "'***END OF THE PROJECT GUTENBERG EBOOK THE LOST GIRL***\\r\\n\\r\\n\\r\\n******* This file should be named 23727-8.txt or 23727-8.zip *******\\r\\n\\r\\n\\r\\nThis and all associated files of various formats will be found in:\\r\\nhttp://www.gutenberg.org/dirs/2/3/7/2/23727\\r\\n\\r\\n\\r\\n\\r\\nUpdated editions will replace the previous one--the old editions\\r\\nwill be renamed.\\r\\n\\r\\nCreating the works from public domain print editions means that no\\r\\none owns a United States copyright in these works, so the Foundation\\r\\n(and you!) can copy and'"
      ]
     },
     "execution_count": 51,
     "metadata": {},
     "output_type": "execute_result"
    }
   ],
   "source": [
    "footer = novels[author].find('***END OF THE PROJECT GUTENBERG')\n",
    "novels[author][footer:footer+500]"
   ]
  },
  {
   "cell_type": "code",
   "execution_count": 52,
   "metadata": {
    "scrolled": true
   },
   "outputs": [
    {
     "data": {
      "text/plain": [
       "['CHAPTER I\\r\\n\\r\\nTHE DECLINE OF MANCHESTER HOUSE\\r\\n',\n",
       " 'CHAPTER II\\r\\n\\r\\nTHE RISE OF ALVINA HOUGHTON\\r\\n',\n",
       " 'CHAPTER III\\r\\n\\r\\nTHE MATERNITY NURSE\\r\\n',\n",
       " 'CHAPTER IV\\r\\n\\r\\nTWO WOMEN DIE\\r\\n']"
      ]
     },
     "execution_count": 52,
     "metadata": {},
     "output_type": "execute_result"
    }
   ],
   "source": [
    "chapter = r'CHAPTER .*\\r\\n\\r\\n.*\\r\\n'\n",
    "re.findall(chapter, novels[author][header:header+100000])"
   ]
  },
  {
   "cell_type": "code",
   "execution_count": 53,
   "metadata": {},
   "outputs": [],
   "source": [
    "# remove header and footer info\n",
    "novels[author] = novels[author][header:footer]\n",
    "# remove chapter titles\n",
    "novels[author] = re.sub(chapter, '', novels[author])\n",
    "\n",
    "assert re.findall(chapter, novels[author]) == []\n",
    "assert re.findall(r'Project Gutenberg', novels[author]) == []\n",
    "assert novels[author].find('CHAPTER I') == -1"
   ]
  },
  {
   "cell_type": "code",
   "execution_count": 54,
   "metadata": {
    "scrolled": false
   },
   "outputs": [
    {
     "data": {
      "text/plain": [
       "'\\r\\n\\r\\nTake a mining townlet like Woodhouse, with a population of ten\\r\\nthousand people, and three generations behind it. This space of\\r\\nthree generations argues a certain well-established society. The old\\r\\n\"County\" has fled from the sight of so much disembowelled coal, to\\r\\nflourish on mineral rights in regions still idyllic. Remains one\\r\\ngreat and inaccessible magnate, the local coal owner: three\\r\\ngenerations old, and clambering on the bottom step of the \"County,\"\\r\\nkicking off the mass below. Rule him out.\\r\\n\\r\\nA well established society in Woodhouse, full of fine shades,\\r\\nranging from the dark of coal-dust to grit of stone-mason and\\r\\nsawdust of timber-merchant, through the lustre of lard and butter\\r\\nand meat, to the perfume of the chemist and the disinfectant of the\\r\\ndoctor, on to the serene gold-tarnish of bank-managers, cashiers for\\r\\nthe firm, clergymen and such-like, as far as the automobile\\r\\nrefulgence of the general-manager of all the collieries. Here the\\r\\n_ne plus ultra_. The general manager lives in the shrubberied\\r\\nseclusion of the so-called Manor. The genuine Hall, abandoned by the\\r\\n\"County,\" has been taken over as offices by the firm.\\r\\n\\r\\nHere we are then: a vast substratum of colliers; a thick sprinkling\\r\\nof tradespeople intermingled with small employers of labour and\\r\\ndiversified by elementary schoolmasters and nonconformist clergy; a\\r\\nhigher layer of bank-managers, rich millers and well-to-do\\r\\nironmasters, episcopal clergy and the managers of collieries, then\\r\\nthe rich and sticky cherry of the local coal-owner glistening over\\r\\nall.\\r\\n\\r\\nSuch the complicated social system of a small industrial town in the\\r\\nMidlands of England, in this year of grace 1920. But let us go back\\r\\na little. Such it was in the last calm year of plenty, 1913.\\r\\n\\r\\nA calm year of plenty. But one chronic and dreary malady: that of\\r\\nthe odd women. Why, in the name of all prosperity, should every\\r\\nclass but the lowest in such a society hang overburdened with Dead\\r\\nSea fruit of odd women, unma'"
      ]
     },
     "execution_count": 54,
     "metadata": {},
     "output_type": "execute_result"
    }
   ],
   "source": [
    "novels[author][:2000]"
   ]
  },
  {
   "cell_type": "markdown",
   "metadata": {},
   "source": [
    "## Wharton - The Age of Innocence"
   ]
  },
  {
   "cell_type": "code",
   "execution_count": 55,
   "metadata": {
    "scrolled": true
   },
   "outputs": [
    {
     "data": {
      "text/plain": [
       "'The Project Gutenberg EBook of The Age of Innocence, by Edith Wharton\\r\\n\\r\\nThis eBook is for the use of anyone anywhere at no cost and with\\r\\nalmost no restrictions whatsoever.  You may copy it, give it away or\\r\\nre-use it under the terms of the Project Gutenberg License included\\r\\nwith this eBook or online at www.gutenberg.net\\r\\n\\r\\n\\r\\nTitle: The Age of Innocence\\r\\n\\r\\nAuthor: Edith Wharton\\r\\n\\r\\nPosting Date: August 12, 2008 [EBook #541]\\r\\nRelease Date: May, 1996\\r\\n\\r\\nLanguage: English\\r\\n\\r\\n\\r\\n*** START OF THIS PROJECT GUTENBERG EBOOK THE AGE OF INNOCENCE ***\\r\\n\\r\\n\\r\\n\\r\\n\\r\\nProduced by Judith Boss and Charles Keller.  HTML version by Al Haines.\\r\\n\\r\\n\\r\\n\\r\\n\\r\\n\\r\\n\\r\\n\\r\\n\\r\\n\\r\\nThe Age of Innocence\\r\\n\\r\\n\\r\\nby\\r\\n\\r\\nEdith Wharton\\r\\n\\r\\n\\r\\nJTABLE 6 18 1\\r\\n\\r\\nJTABLE 6 16 19\\r\\n\\r\\n\\r\\nBook I\\r\\n\\r\\n\\r\\n\\r\\nI.\\r\\n\\r\\nOn a January evening of the early seventies, Christine Nilsson was\\r\\nsinging in Faust at the Academy of Music in New York.\\r\\n\\r\\nThough there was already talk of the erection, in remote metropolitan\\r\\ndistances \"above the Forties,\" of a new Opera House which should\\r\\ncompete in costliness and splendour with those of the great European\\r\\ncapitals, the world of fashion was still content to reassemble every\\r\\nwinter in the shabby red and gold boxes of the sociable old Academy.\\r\\nConservatives cherished it for being small and inconvenient, and thus\\r\\nkeeping out the \"new people\" whom New York was beginning to dread and\\r\\nyet be drawn to; and the sentimental clung to it for its historic\\r\\nassociations, and the musical for its excellent acoustics, always so\\r\\nproblematic a quality in halls built for the hearing of music.\\r\\n\\r\\nIt was Madame Nilsson\\'s first appearance that winter, and what the\\r\\ndaily press had already learned to describe as \"an exceptionally\\r\\nbrilliant audience\" had gathered to hear her, transported through the\\r\\nslippery, snowy streets in private broughams, in the spacious family\\r\\nlandau, or in the humbler but more convenient \"Brown coupe.\" To come to\\r\\nthe Opera in a Brown coupe was almost as honourable a way of arriving\\r\\nas in one'"
      ]
     },
     "execution_count": 55,
     "metadata": {},
     "output_type": "execute_result"
    }
   ],
   "source": [
    "author = 'wharton'\n",
    "novels[author][:2000]"
   ]
  },
  {
   "cell_type": "code",
   "execution_count": 56,
   "metadata": {},
   "outputs": [
    {
     "data": {
      "text/plain": [
       "'Book I\\r\\n\\r\\n\\r\\n\\r\\nI.\\r\\n\\r\\nOn a January evening of the early seventies, Christine Nilsson was\\r\\nsinging in Faust at the Academy of Music in New York.\\r\\n\\r\\nThough there was already talk of the erection, in remote metropolitan\\r\\ndistances \"above the Forties,\" of a new Opera House which should\\r\\ncompete in costliness and splendour with those of the great European\\r\\ncapitals, the world of fashion was still content to reassemble every\\r\\nwinter in the shabby red and gold boxes of the sociable old Academy.\\r\\nConservatives cherished it for being small and inconvenient, and thus\\r\\nkeeping out the \"new people\" whom New York was beginning to dread and\\r\\nyet be drawn to; and the sentimental clung to it for its historic\\r\\nassociations, and the musical for its excellent acoustics, always so\\r\\nproblematic a quality in halls built for the hearing of music.\\r\\n\\r\\nIt was Madame Nilsson\\'s first appearance that winter, and what the\\r\\ndaily press had already learned to describe as \"an exceptionally\\r\\nbrilliant audience\" had gathered to hear her, transported through the\\r\\nslippery, snowy streets in private broughams, in the spacious family\\r\\nlandau, or in the humbler but more convenient \"Brown coupe.\" To come to\\r\\nthe Opera in a Brown coupe was almost as honourable a way of arriving\\r\\nas in one\\'s own carriage; and departure by the same means had the\\r\\nimmense advantage of enabling one (with a playful allusion to\\r\\ndemocratic principles) to scramble into the first Brown conveyance in\\r\\nthe line, instead of waiting till the cold-and-gin congested nose of\\r\\none\\'s own coachman gleamed under the portico of the Academy.  It was\\r\\none of the great livery-stableman\\'s most masterly intuitions to have\\r\\ndiscovered that Americans want to get away from amusement even more\\r\\nquickly than they want to get to it.\\r\\n\\r\\nWhen Newland Archer opened the door at the back of the club box the\\r\\ncurtain had just gone up on the garden scene.  There was no reason why\\r\\nthe young man should not have come earlier, for he had dined at seven,\\r\\nalone with '"
      ]
     },
     "execution_count": 56,
     "metadata": {},
     "output_type": "execute_result"
    }
   ],
   "source": [
    "header = 735\n",
    "novels[author][header:header+2000]"
   ]
  },
  {
   "cell_type": "code",
   "execution_count": 57,
   "metadata": {},
   "outputs": [
    {
     "data": {
      "text/plain": [
       "'End of the Project Gutenberg EBook of The Age of Innocence, by Edith Wharton\\r\\n\\r\\n*** END OF THIS PROJECT GUTENBERG EBOOK THE AGE OF INNOCENCE ***\\r\\n\\r\\n***** This file should be named 541.txt or 541.zip *****\\r\\nThis and all associated files of various formats will be found in:\\r\\n        http://www.gutenberg.org/5/4/541/\\r\\n\\r\\nProduced by Judith Boss and Charles Keller.  HTML version by Al Haines.\\r\\n\\r\\nUpdated editions will replace the previous one--the old editions\\r\\nwill be renamed.\\r\\n\\r\\nCreating the works f'"
      ]
     },
     "execution_count": 57,
     "metadata": {},
     "output_type": "execute_result"
    }
   ],
   "source": [
    "footer = novels[author].find('End of the Project Gutenberg EBook')\n",
    "novels[author][footer:footer+500]"
   ]
  },
  {
   "cell_type": "code",
   "execution_count": 58,
   "metadata": {
    "scrolled": true
   },
   "outputs": [
    {
     "data": {
      "text/plain": [
       "['Book I\\r\\n',\n",
       " 'Book II\\r\\n',\n",
       " 'Book of The Age of Innocence, by Edith Wharton\\r\\n',\n",
       " 'Book for nearly any purpose\\r\\n',\n",
       " 'Book is for the use of anyone anywhere at no cost and with\\r\\n',\n",
       " 'Book or online at www.gutenberg.net\\r\\n']"
      ]
     },
     "execution_count": 58,
     "metadata": {},
     "output_type": "execute_result"
    }
   ],
   "source": [
    "chapter = r'Book .*\\r\\n'\n",
    "re.findall(chapter, novels[author][header:])"
   ]
  },
  {
   "cell_type": "code",
   "execution_count": 59,
   "metadata": {},
   "outputs": [],
   "source": [
    "# remove header and footer info\n",
    "novels[author] = novels[author][header:footer]\n",
    "# remove chapter titles\n",
    "novels[author] = re.sub(chapter, '', novels[author])\n",
    "\n",
    "assert re.findall(chapter, novels[author]) == []\n",
    "assert re.findall(r'Project Gutenberg', novels[author]) == []\n",
    "assert novels[author].find('Book I') == -1"
   ]
  },
  {
   "cell_type": "code",
   "execution_count": 60,
   "metadata": {
    "scrolled": false
   },
   "outputs": [
    {
     "data": {
      "text/plain": [
       "'\\r\\n\\r\\n\\r\\nI.\\r\\n\\r\\nOn a January evening of the early seventies, Christine Nilsson was\\r\\nsinging in Faust at the Academy of Music in New York.\\r\\n\\r\\nThough there was already talk of the erection, in remote metropolitan\\r\\ndistances \"above the Forties,\" of a new Opera House which should\\r\\ncompete in costliness and splendour with those of the great European\\r\\ncapitals, the world of fashion was still content to reassemble every\\r\\nwinter in the shabby red and gold boxes of the sociable old Academy.\\r\\nConservatives cherished it for being small and inconvenient, and thus\\r\\nkeeping out the \"new people\" whom New York was beginning to dread and\\r\\nyet be drawn to; and the sentimental clung to it for its historic\\r\\nassociations, and the musical for its excellent acoustics, always so\\r\\nproblematic a quality in halls built for the hearing of music.\\r\\n\\r\\nIt was Madame Nilsson\\'s first appearance that winter, and what the\\r\\ndaily press had already learned to describe as \"an exceptionally\\r\\nbrilliant audience\" had gathered to hear her, transported through the\\r\\nslippery, snowy streets in private broughams, in the spacious family\\r\\nlandau, or in the humbler but more convenient \"Brown coupe.\" To come to\\r\\nthe Opera in a Brown coupe was almost as honourable a way of arriving\\r\\nas in one\\'s own carriage; and departure by the same means had the\\r\\nimmense advantage of enabling one (with a playful allusion to\\r\\ndemocratic principles) to scramble into the first Brown conveyance in\\r\\nthe line, instead of waiting till the cold-and-gin congested nose of\\r\\none\\'s own coachman gleamed under the portico of the Academy.  It was\\r\\none of the great livery-stableman\\'s most masterly intuitions to have\\r\\ndiscovered that Americans want to get away from amusement even more\\r\\nquickly than they want to get to it.\\r\\n\\r\\nWhen Newland Archer opened the door at the back of the club box the\\r\\ncurtain had just gone up on the garden scene.  There was no reason why\\r\\nthe young man should not have come earlier, for he had dined at seven,\\r\\nalone with his moth'"
      ]
     },
     "execution_count": 60,
     "metadata": {},
     "output_type": "execute_result"
    }
   ],
   "source": [
    "novels[author][:2000]"
   ]
  },
  {
   "cell_type": "markdown",
   "metadata": {},
   "source": [
    "## Woolf - The Voyage Out"
   ]
  },
  {
   "cell_type": "code",
   "execution_count": 61,
   "metadata": {
    "scrolled": true
   },
   "outputs": [
    {
     "data": {
      "text/plain": [
       "\"The Project Gutenberg EBook of The Voyage Out, by Virginia Woolf\\r\\n\\r\\nThis eBook is for the use of anyone anywhere at no cost and with\\r\\nalmost no restrictions whatsoever.  You may copy it, give it away or\\r\\nre-use it under the terms of the Project Gutenberg License included\\r\\nwith this eBook or online at www.gutenberg.org\\r\\n\\r\\n\\r\\nTitle: The Voyage Out\\r\\n\\r\\nAuthor: Virginia Woolf\\r\\n\\r\\nRelease Date: January 12, 2006 [EBook #144]\\r\\n[Last updated: July 19, 2011]\\r\\n\\r\\nLanguage: English\\r\\n\\r\\nCharacter set encoding: UTF-8\\r\\n\\r\\n*** START OF THIS PROJECT GUTENBERG EBOOK THE VOYAGE OUT ***\\r\\n\\r\\n\\r\\n\\r\\n\\r\\nProduced by Judith Boss and David Widger\\r\\n\\r\\n\\r\\n\\r\\n\\r\\n\\r\\nTHE VOYAGE OUT (1915)\\r\\n\\r\\n\\r\\nby Virginia Woolf (1882-1941)\\r\\n\\r\\n\\r\\n\\r\\nChapter I\\r\\n\\r\\n\\r\\nAs the streets that lead from the Strand to the Embankment are very\\r\\nnarrow, it is better not to walk down them arm-in-arm. If you persist,\\r\\nlawyers' clerks will have to make flying leaps into the mud; young lady\\r\\ntypists will have to fidget behind you. In the streets of London where\\r\\nbeauty goes unregarded, eccentricity must pay the penalty, and it is\\r\\nbetter not to be very tall, to wear a long blue cloak, or to beat the\\r\\nair with your left hand.\\r\\n\\r\\nOne afternoon in the beginning of October when the traffic was becoming\\r\\nbrisk a tall man strode along the edge of the pavement with a lady on\\r\\nhis arm. Angry glances struck upon their backs. The small, agitated\\r\\nfigures--for in comparison with this couple most people looked\\r\\nsmall--decorated with fountain pens, and burdened with despatch-boxes,\\r\\nhad appointments to keep, and drew a weekly salary, so that there\\r\\nwas some reason for the unfriendly stare which was bestowed upon Mr.\\r\\nAmbrose's height and upon Mrs. Ambrose's cloak. But some enchantment had\\r\\nput both man and woman beyond the reach of malice and unpopularity. In\\r\\nhis case one might guess from the moving lips that it was thought; and\\r\\nin hers from the eyes fixed stonily straight in front of her at a level\\r\\nabove the eyes of most that it was sorrow. It was only by s\""
      ]
     },
     "execution_count": 61,
     "metadata": {},
     "output_type": "execute_result"
    }
   ],
   "source": [
    "author = 'woolf'\n",
    "novels[author][:2000]"
   ]
  },
  {
   "cell_type": "code",
   "execution_count": 62,
   "metadata": {},
   "outputs": [
    {
     "data": {
      "text/plain": [
       "\"Chapter I\\r\\n\\r\\n\\r\\nAs the streets that lead from the Strand to the Embankment are very\\r\\nnarrow, it is better not to walk down them arm-in-arm. If you persist,\\r\\nlawyers' clerks will have to make flying leaps into the mud; young lady\\r\\ntypists will have to fidget behind you. In the streets of London where\\r\\nbeauty goes unregarded, eccentricity must pay the penalty, and it is\\r\\nbetter not to be very tall, to wear a long blue cloak, or to beat the\\r\\nair with your left hand.\\r\\n\\r\\nOne afternoon in the beginning of October when the traffic was becoming\\r\\nbrisk a tall man strode along the edge of the pavement with a lady on\\r\\nhis arm. Angry glances struck upon their backs. The small, agitated\\r\\nfigures--for in comparison with this couple most people looked\\r\\nsmall--decorated with fountain pens, and burdened with despatch-boxes,\\r\\nhad appointments to keep, and drew a weekly salary, so that there\\r\\nwas some reason for the unfriendly stare which was bestowed upon Mr.\\r\\nAmbrose's height and upon Mrs. Ambrose's cloak. But some enchantment had\\r\\nput both man and woman beyond the reach of malice and unpopularity. In\\r\\nhis case one might guess from the moving lips that it was thought; and\\r\\nin hers from the eyes fixed stonily straight in front of her at a level\\r\\nabove the eyes of most that it was sorrow. It was only by scorning all\\r\\nshe met that she kept herself from tears, and the friction of people\\r\\nbrushing past her was evidently painful. After watching the traffic on\\r\\nthe Embankment for a minute or two with a stoical gaze she twitched her\\r\\nhusband's sleeve, and they crossed between the swift discharge of motor\\r\\ncars. When they were safe on the further side, she gently withdrew her\\r\\narm from his, allowing her mouth at the same time to relax, to tremble;\\r\\nthen tears rolled down, and leaning her elbows on the balustrade, she\\r\\nshielded her face from the curious. Mr. Ambrose attempted consolation;\\r\\nhe patted her shoulder; but she showed no signs of admitting him, and\\r\\nfeeling it awkward to stand beside\""
      ]
     },
     "execution_count": 62,
     "metadata": {},
     "output_type": "execute_result"
    }
   ],
   "source": [
    "header = 694\n",
    "novels[author][header:header+2000]"
   ]
  },
  {
   "cell_type": "code",
   "execution_count": 63,
   "metadata": {},
   "outputs": [
    {
     "data": {
      "text/plain": [
       "'End of the Project Gutenberg EBook of The Voyage Out, by Virginia Woolf\\r\\n\\r\\n*** END OF THIS PROJECT GUTENBERG EBOOK THE VOYAGE OUT ***\\r\\n\\r\\n***** This file should be named 144.txt or 144.zip *****\\r\\nThis and all associated files of various formats will be found in:\\r\\n        http://www.gutenberg.org/1/4/144/\\r\\n\\r\\nProduced by Judith Boss and David Widger\\r\\n\\r\\nUpdated editions will replace the previous one--the old editions\\r\\nwill be renamed.\\r\\n\\r\\nCreating the works from public domain print editions means tha'"
      ]
     },
     "execution_count": 63,
     "metadata": {},
     "output_type": "execute_result"
    }
   ],
   "source": [
    "footer = novels[author].find('End of the Project Gutenberg EBook')\n",
    "novels[author][footer:footer+500]"
   ]
  },
  {
   "cell_type": "code",
   "execution_count": 64,
   "metadata": {
    "scrolled": true
   },
   "outputs": [
    {
     "data": {
      "text/plain": [
       "['Chapter I\\r\\n', 'Chapter II\\r\\n', 'Chapter III\\r\\n', 'Chapter IV\\r\\n']"
      ]
     },
     "execution_count": 64,
     "metadata": {},
     "output_type": "execute_result"
    }
   ],
   "source": [
    "chapter = r'Chapter .*\\r\\n'\n",
    "re.findall(chapter, novels[author][header:header+100000])"
   ]
  },
  {
   "cell_type": "code",
   "execution_count": 65,
   "metadata": {},
   "outputs": [],
   "source": [
    "# remove header and footer info\n",
    "novels[author] = novels[author][header:footer]\n",
    "# remove chapter titles\n",
    "novels[author] = re.sub(chapter, '', novels[author])\n",
    "\n",
    "assert re.findall(chapter, novels[author]) == []\n",
    "assert re.findall(r'Project Gutenberg', novels[author]) == []\n",
    "assert novels[author].find('Chapter I') == -1"
   ]
  },
  {
   "cell_type": "code",
   "execution_count": 66,
   "metadata": {
    "scrolled": false
   },
   "outputs": [
    {
     "data": {
      "text/plain": [
       "\"\\r\\n\\r\\nAs the streets that lead from the Strand to the Embankment are very\\r\\nnarrow, it is better not to walk down them arm-in-arm. If you persist,\\r\\nlawyers' clerks will have to make flying leaps into the mud; young lady\\r\\ntypists will have to fidget behind you. In the streets of London where\\r\\nbeauty goes unregarded, eccentricity must pay the penalty, and it is\\r\\nbetter not to be very tall, to wear a long blue cloak, or to beat the\\r\\nair with your left hand.\\r\\n\\r\\nOne afternoon in the beginning of October when the traffic was becoming\\r\\nbrisk a tall man strode along the edge of the pavement with a lady on\\r\\nhis arm. Angry glances struck upon their backs. The small, agitated\\r\\nfigures--for in comparison with this couple most people looked\\r\\nsmall--decorated with fountain pens, and burdened with despatch-boxes,\\r\\nhad appointments to keep, and drew a weekly salary, so that there\\r\\nwas some reason for the unfriendly stare which was bestowed upon Mr.\\r\\nAmbrose's height and upon Mrs. Ambrose's cloak. But some enchantment had\\r\\nput both man and woman beyond the reach of malice and unpopularity. In\\r\\nhis case one might guess from the moving lips that it was thought; and\\r\\nin hers from the eyes fixed stonily straight in front of her at a level\\r\\nabove the eyes of most that it was sorrow. It was only by scorning all\\r\\nshe met that she kept herself from tears, and the friction of people\\r\\nbrushing past her was evidently painful. After watching the traffic on\\r\\nthe Embankment for a minute or two with a stoical gaze she twitched her\\r\\nhusband's sleeve, and they crossed between the swift discharge of motor\\r\\ncars. When they were safe on the further side, she gently withdrew her\\r\\narm from his, allowing her mouth at the same time to relax, to tremble;\\r\\nthen tears rolled down, and leaning her elbows on the balustrade, she\\r\\nshielded her face from the curious. Mr. Ambrose attempted consolation;\\r\\nhe patted her shoulder; but she showed no signs of admitting him, and\\r\\nfeeling it awkward to stand beside a grief th\""
      ]
     },
     "execution_count": 66,
     "metadata": {},
     "output_type": "execute_result"
    }
   ],
   "source": [
    "novels[author][:2000]"
   ]
  },
  {
   "cell_type": "markdown",
   "metadata": {},
   "source": [
    "## Check data cleaning so far"
   ]
  },
  {
   "cell_type": "code",
   "execution_count": 67,
   "metadata": {},
   "outputs": [
    {
     "name": "stdout",
     "output_type": "stream",
     "text": [
      "***austen***\n",
      "\n",
      "\n",
      "It is a truth universally acknowledged, that a single man in possession\n",
      "of a good fortune, must\n",
      "***bronte***\n",
      "\n",
      "\n",
      "My godmother lived in a handsome house in the clean and ancient town of\n",
      "Bretton. Her husband's \n",
      "***collins***\n",
      "\n",
      "\n",
      "This is the story of what a Woman's patience can endure, and what a\n",
      "Man's resolution can achiev\n",
      "***eliot***\n",
      "\n",
      "\n",
      "\n",
      "\n",
      "    \"Since I can do no good because a woman,\n",
      "     Reach constantly at something that is nea\n",
      "***gaskell***\n",
      "\n",
      "To begin with the old rigmarole of childhood. In a country there was\n",
      "a shire, and in that shire t\n",
      "***hardy***\n",
      "\n",
      "\n",
      "\n",
      "   \"Yea, many there be that have run out of their wits for\n",
      "    women, and become servants for\n",
      "***james***\n",
      "\n",
      "Under certain circumstances there are few hours in life more agreeable\n",
      "than the hour dedicated to\n",
      "***lawrence***\n",
      "\n",
      "\n",
      "Take a mining townlet like Woodhouse, with a population of ten\n",
      "thousand people, and three gener\n",
      "***wharton***\n",
      "\n",
      "\n",
      "\n",
      "I.\n",
      "\n",
      "On a January evening of the early seventies, Christine Nilsson was\n",
      "singing in Faust at \n",
      "***woolf***\n",
      "\n",
      "\n",
      "As the streets that lead from the Strand to the Embankment are very\n",
      "narrow, it is better not to\n"
     ]
    }
   ],
   "source": [
    "for author, text in novels.items():\n",
    "    print('***{}***'.format(author))\n",
    "    print(text[:100])"
   ]
  },
  {
   "cell_type": "markdown",
   "metadata": {},
   "source": [
    "## Uniform data cleaning"
   ]
  },
  {
   "cell_type": "code",
   "execution_count": 68,
   "metadata": {},
   "outputs": [
    {
     "name": "stdout",
     "output_type": "stream",
     "text": [
      "681165\n",
      "1087183\n",
      "1344288\n",
      "1768143\n",
      "1467388\n",
      "792791\n",
      "616587\n",
      "763711\n",
      "574886\n",
      "760716\n"
     ]
    }
   ],
   "source": [
    "shortest = np.inf\n",
    "for author in novels:\n",
    "    # remove double hyphens\n",
    "    novels[author] = novels[author].replace('--',' ')\n",
    "    # remove extra white space\n",
    "    novels[author] = ' '.join(novels[author].split())\n",
    "    novel_length = len(novels[author])\n",
    "    print(novel_length)\n",
    "    if novel_length < shortest:\n",
    "        shortest = novel_length"
   ]
  },
  {
   "cell_type": "code",
   "execution_count": 69,
   "metadata": {},
   "outputs": [
    {
     "name": "stdout",
     "output_type": "stream",
     "text": [
      "***austen***\n",
      "It is a truth universally acknowledged, that a single man in possession of a good fortune, must be i\n",
      "***bronte***\n",
      "My godmother lived in a handsome house in the clean and ancient town of Bretton. Her husband's famil\n",
      "***collins***\n",
      "This is the story of what a Woman's patience can endure, and what a Man's resolution can achieve. If\n",
      "***eliot***\n",
      "\"Since I can do no good because a woman, Reach constantly at something that is near it. The Maid's T\n",
      "***gaskell***\n",
      "To begin with the old rigmarole of childhood. In a country there was a shire, and in that shire ther\n",
      "***hardy***\n",
      "\"Yea, many there be that have run out of their wits for women, and become servants for their sakes. \n",
      "***james***\n",
      "Under certain circumstances there are few hours in life more agreeable than the hour dedicated to th\n",
      "***lawrence***\n",
      "Take a mining townlet like Woodhouse, with a population of ten thousand people, and three generation\n",
      "***wharton***\n",
      "I. On a January evening of the early seventies, Christine Nilsson was singing in Faust at the Academ\n",
      "***woolf***\n",
      "As the streets that lead from the Strand to the Embankment are very narrow, it is better not to walk\n"
     ]
    }
   ],
   "source": [
    "for author, text in novels.items():\n",
    "    print('***{}***'.format(author))\n",
    "    print(text[:100])"
   ]
  },
  {
   "cell_type": "code",
   "execution_count": 70,
   "metadata": {
    "scrolled": false
   },
   "outputs": [
    {
     "data": {
      "application/vnd.jupyter.widget-view+json": {
       "model_id": "129a1094b5d04d30a2b09c83d406bf3f",
       "version_major": 2,
       "version_minor": 0
      },
      "text/plain": [
       "HBox(children=(IntProgress(value=0, max=10), HTML(value='')))"
      ]
     },
     "metadata": {},
     "output_type": "display_data"
    },
    {
     "name": "stdout",
     "output_type": "stream",
     "text": [
      "121225\n",
      "126742\n",
      "124453\n",
      "121284\n",
      "128619\n",
      "127166\n",
      "127338\n",
      "132042\n",
      "122668\n",
      "126064\n",
      "\n"
     ]
    }
   ],
   "source": [
    "for author in tqdm_notebook(novels):\n",
    "    novels[author] = nlp(novels[author][:shortest])\n",
    "    print(len(novels[author]))"
   ]
  },
  {
   "cell_type": "code",
   "execution_count": 71,
   "metadata": {},
   "outputs": [],
   "source": [
    "docs = []\n",
    "labels = []\n",
    "for author in novels:\n",
    "    labels += [author] * 480\n",
    "    for i in range(480):\n",
    "        docs.append(novels[author][i*250:(i+1)*250])"
   ]
  },
  {
   "cell_type": "code",
   "execution_count": 72,
   "metadata": {
    "scrolled": false
   },
   "outputs": [
    {
     "name": "stdout",
     "output_type": "stream",
     "text": [
      "***austen***\n",
      "“No more have I,” said Mr. Bennet; “and I am glad to find that you do not depend on her serving you.” Mrs. Bennet deigned not to make any reply, but, unable to contain herself, began scolding one of her daughters. “Don't keep coughing so, Kitty, for Heaven's sake! Have a little compassion on my nerves. You tear them to pieces.” “Kitty has no discretion in her coughs,” said her father; “she times them ill.” “I do not cough for my own amusement,” replied Kitty fretfully. “When is your next ball to be, Lizzy?” “To-morrow fortnight.” “Aye, so it is,” cried her mother, “and Mrs. Long does not come back till the day before; so it will be impossible for her to introduce him, for she will not know him herself.” “Then, my dear, you may have the advantage of your friend, and introduce Mr. Bingley to _her_.” “Impossible, Mr. Bennet, impossible, when I am not acquainted with him myself; how can you be so teasing?” “I honour your circumspection. A fortnight's acquaintance is certainly very little. One cannot know what a\n",
      "***bronte***\n",
      "the evening paper while she waited; I sewed. It was a wet night; the rain lashed the panes, and the wind sounded angry and restless. \"Poor child!\" said Mrs. Bretton from time to time. \"What weather for her journey! I wish she were safe here.\" A little before ten the door-bell announced Warren's return. No sooner was the door opened than I ran down into the hall; there lay a trunk and some band-boxes, beside them stood a person like a nurse-girl, and at the foot of the staircase was Warren with a shawled bundle in his arms. \"Is that the child?\" I asked. \"Yes, miss.\" I would have opened the shawl, and tried to get a peep at the face, but it was hastily turned from me to Warren's shoulder. \"Put me down, please,\" said a small voice when Warren opened the drawing-room door, \"and take off this shawl,\" continued the speaker, extracting with its minute hand the pin, and with a sort of fastidious haste doffing the clumsy wrapping. The creature which now appeared made a deft attempt to fold the shawl; but the drapery was much too heavy and large to be sustained or wielded by\n",
      "***collins***\n",
      "had the opportunity of joining them; firmly persuaded that he could adopt our national amusements of the field by an effort of will precisely as he had adopted our national gaiters and our national white hat. I had seen him risk his limbs blindly at a fox-hunt and in a cricket-field; and soon afterwards I saw him risk his life, just as blindly, in the sea at Brighton. We had met there accidentally, and were bathing together. If we had been engaged in any exercise peculiar to my own nation I should, of course, have looked after Pesca carefully; but as foreigners are generally quite as well able to take care of themselves in the water as Englishmen, it never occurred to me that the art of swimming might merely add one more to the list of manly exercises which the Professor believed that he could learn impromptu. Soon after we had both struck out from shore, I stopped, finding my friend did not gain on me, and turned round to look for him. To my horror and amazement, I saw nothing between me and the beach but two little white arms which struggled for an instant above the surface of the water, and then disappeared from view. When I dived for him, the poor little man was lying quietly coiled up at the bottom\n",
      "***eliot***\n",
      "opinion about the new young ladies, even among the cottagers, was generally in favor of Celia, as being so amiable and innocent-looking, while Miss Brooke's large eyes seemed, like her religion, too unusual and striking. Poor Dorothea! compared with her, the innocent-looking Celia was knowing and worldly-wise; so much subtler is a human mind than the outside tissues which make a sort of blazonry or clock-face for it. Yet those who approached Dorothea, though prejudiced against her by this alarming hearsay, found that she had a charm unaccountably reconcilable with it. Most men thought her bewitching when she was on horseback. She loved the fresh air and the various aspects of the country, and when her eyes and cheeks glowed with mingled pleasure she looked very little like a devotee. Riding was an indulgence which she allowed herself in spite of conscientious qualms; she felt that she enjoyed it in a pagan sensuous way, and always looked forward to renouncing it. She was open, ardent, and not in the least self-admiring; indeed, it was pretty to see how her imagination adorned her sister Celia with attractions altogether superior to her own, and if any gentleman appeared to come to the Grange from some other motive than that of seeing Mr. Brooke, she concluded\n",
      "***gaskell***\n",
      "all the better for this habit of his. Lord Cumnor had certainly a little time for gossip, which he contrived to combine with the failing of personal intervention between the old land-steward and the tenantry. But, then, the countess made up by her unapproachable dignity for this weakness of the earl's. Once a year she was condescending. She and the ladies, her daughters, had set up a school; not a school after the manner of schools now-a-days, where far better intellectual teaching is given to the boys and girls of labourers and work-people than often falls to the lot of their betters in worldly estate; but a school of the kind we should call \"industrial,\" where girls are taught to sew beautifully, to be capital housemaids, and pretty fair cooks, and, above all, to dress neatly in a kind of charity uniform devised by the ladies of Cumnor Towers; white caps, white tippets, check aprons, blue gowns, and ready curtseys, and \"please, ma'ams,\" being _de rigueur_. Now, as the countess was absent from the Towers for a considerable part of the year, she was glad to enlist the sympathy of the Hollingford ladies in this school, with a view to obtaining their aid as visitors during the\n",
      "***hardy***\n",
      "old woman who had emerged from her door towards the garden gate of a green-thatched cottage not far off. The boy quickly waved a signal of assent, drew the water with what was a great effort for one of his stature, landed and emptied the big bucket into his own pair of smaller ones, and pausing a moment for breath, started with them across the patch of clammy greensward whereon the well stood nearly in the centre of the little village, or rather hamlet of Marygreen. It was as old-fashioned as it was small, and it rested in the lap of an undulating upland adjoining the North Wessex downs. Old as it was, however, the well-shaft was probably the only relic of the local history that remained absolutely unchanged. Many of the thatched and dormered dwelling-houses had been pulled down of late years, and many trees felled on the green. Above all, the original church, hump-backed, wood-turreted, and quaintly hipped, had been taken down, and either cracked up into heaps of road-metal in the lane, or utilized as pig-sty walls, garden seats, guard-stones to fences, and rockeries in the flower-beds of the neighbourhood. In place of it a tall new building of modern Gothic design\n",
      "***james***\n"
     ]
    },
    {
     "name": "stdout",
     "output_type": "stream",
     "text": [
      "knees, and his feet were encased in thick, embroidered slippers. A beautiful collie dog lay upon the grass near his chair, watching the master’s face almost as tenderly as the master took in the still more magisterial physiognomy of the house; and a little bristling, bustling terrier bestowed a desultory attendance upon the other gentlemen. One of these was a remarkably well-made man of five-and-thirty, with a face as English as that of the old gentleman I have just sketched was something else; a noticeably handsome face, fresh-coloured, fair and frank, with firm, straight features, a lively grey eye and the rich adornment of a chestnut beard. This person had a certain fortunate, brilliant exceptional look the air of a happy temperament fertilised by a high civilisation which would have made almost any observer envy him at a venture. He was booted and spurred, as if he had dismounted from a long ride; he wore a white hat, which looked too large for him; he held his two hands behind him, and in one of them a large, white, well-shaped fist was crumpled a pair of soiled dog-skin gloves. His companion, measuring the length of the lawn beside him, was a person of quite a different pattern, who,\n",
      "***lawrence***\n",
      "why James Houghton failed to become the Liberty or the Snelgrove of his day. Perhaps he had too much imagination. Be that as it may, in those early days when he brought his wife to her new home, his window on the Manchester side was a foam and a may-blossom of muslins and prints, his window on the London side was an autumn evening of silks and rich fabrics. What wife could fail to be dazzled! But she, poor darling, from her stone hall in stony Derbyshire, was a little bit repulsed by the man's dancing in front of his stock, like David before the ark. The home to which he brought her was a monument. In the great bedroom over the shop he had his furniture _built_: built of solid mahogany: oh too, too solid. No doubt he hopped or skipped himself with satisfaction into the monstrous matrimonial bed: it could only be mounted by means of a stool and chair. But the poor, secluded little woman, older than he, must have climbed up with a heavy heart, to lie and face the gloomy Bastille of mahogany, the great cupboard opposite, or to turn wearily sideways to the great cheval mirror, which performed a perpetual and hideous bow before her grace. Such furniture! It could never\n",
      "***wharton***\n",
      "of her muslin chemisette, listened with downcast eyes to M. Capoul's impassioned wooing, and affected a guileless incomprehension of his designs whenever, by word or glance, he persuasively indicated the ground floor window of the neat brick villa projecting obliquely from the right wing. \"The darling!\" thought Newland Archer, his glance flitting back to the young girl with the lilies-of-the-valley. \"She doesn't even guess what it's all about.\" And he contemplated her absorbed young face with a thrill of possessorship in which pride in his own masculine initiation was mingled with a tender reverence for her abysmal purity. \"We'll read Faust together ... by the Italian lakes ...\" he thought, somewhat hazily confusing the scene of his projected honey-moon with the masterpieces of literature which it would be his manly privilege to reveal to his bride. It was only that afternoon that May Welland had let him guess that she \"cared\" (New York's consecrated phrase of maiden avowal), and already his imagination, leaping ahead of the engagement ring, the betrothal kiss and the march from Lohengrin, pictured her at his side in some scene of old European witchery. He did not in the least wish the future Mrs. Newland Archer to be a simpleton. He meant her (thanks\n",
      "***woolf***\n",
      "no piece of waste paper comes amiss fell flat as a bad joke; bold lovers, sheltered behind one cloak, seemed to her sordid, past their passion; the flower women, a contented company, whose talk is always worth hearing, were sodden hags; the red, yellow, and blue flowers, whose heads were pressed together, would not blaze. Moreover, her husband walking with a quick rhythmic stride, jerking his free hand occasionally, was either a Viking or a stricken Nelson; the sea-gulls had changed his note. \"Ridley, shall we drive? Shall we drive, Ridley?\" Mrs. Ambrose had to speak sharply; by this time he was far away. The cab, by trotting steadily along the same road, soon withdrew them from the West End, and plunged them into London. It appeared that this was a great manufacturing place, where the people were engaged in making things, as though the West End, with its electric lamps, its vast plate-glass windows all shining yellow, its carefully-finished houses, and tiny live figures trotting on the pavement, or bowled along on wheels in the road, was the finished work. It appeared to her a very small bit of work for such an enormous factory to have made. For some reason it\n"
     ]
    }
   ],
   "source": [
    "for text, label in zip(docs[5::480], labels[::480]):\n",
    "    print('***{}***'.format(label))\n",
    "    print(text)"
   ]
  },
  {
   "cell_type": "markdown",
   "metadata": {},
   "source": [
    "# Continued in next notebook"
   ]
  },
  {
   "cell_type": "code",
   "execution_count": 73,
   "metadata": {},
   "outputs": [],
   "source": [
    "# saving the current data to load in the next notebook\n",
    "# will recreate the docs and labels data becasue Spans are views of the\n",
    "# parent Doc and shouldn't be pickled\n",
    "with open('data/love-stories-novels.pickle', 'wb') as f:\n",
    "    pickle.dump(novels, f)"
   ]
  }
 ],
 "metadata": {
  "kernelspec": {
   "display_name": "Python 3",
   "language": "python",
   "name": "python3"
  },
  "language_info": {
   "codemirror_mode": {
    "name": "ipython",
    "version": 3
   },
   "file_extension": ".py",
   "mimetype": "text/x-python",
   "name": "python",
   "nbconvert_exporter": "python",
   "pygments_lexer": "ipython3",
   "version": "3.7.2"
  }
 },
 "nbformat": 4,
 "nbformat_minor": 2
}
