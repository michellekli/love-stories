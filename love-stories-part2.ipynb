{
 "cells": [
  {
   "cell_type": "markdown",
   "metadata": {},
   "source": [
    "# Introduction¶\n",
    "In this project, I compare modeling and clustering for text classification and conclude that modeling is superior to clustering for this task. This notebook is part 2 of a two-notebook project on novels obtained from Project Gutenberg, and in this notebook I create features, evaluate models, and evaluate clustering algorithms. I also propose a method for estimating the accuracy of a clustering algorithm on a text classification problem based on resampling. [Part 1](https://github.com/michellekli/thinkful/blob/master/bootcamp/love-stories-part1.ipynb) covers data cleaning."
   ]
  },
  {
   "cell_type": "code",
   "execution_count": 1,
   "metadata": {},
   "outputs": [],
   "source": [
    "import numpy as np\n",
    "import numpy.ma as ma\n",
    "import pandas as pd\n",
    "import matplotlib.pyplot as plt\n",
    "import seaborn as sns\n",
    "import spacy\n",
    "from collections import Counter\n",
    "from tqdm import tnrange, tqdm_notebook\n",
    "from sklearn.cluster import (MeanShift, estimate_bandwidth, SpectralClustering, AffinityPropagation,\n",
    "                             KMeans, DBSCAN)\n",
    "from sklearn.preprocessing import normalize\n",
    "from sklearn.decomposition import TruncatedSVD\n",
    "from sklearn.model_selection import train_test_split, cross_val_score, RandomizedSearchCV\n",
    "from sklearn.linear_model import LogisticRegression\n",
    "from sklearn.naive_bayes import MultinomialNB, GaussianNB, BernoulliNB\n",
    "from sklearn.svm import SVC\n",
    "from sklearn.ensemble import RandomForestClassifier\n",
    "from sklearn.neural_network import MLPClassifier\n",
    "from sklearn.metrics import accuracy_score, adjusted_rand_score\n",
    "from sklearn.metrics.pairwise import cosine_similarity\n",
    "from sklearn.feature_extraction.text import CountVectorizer, TfidfVectorizer\n",
    "from sklearn.decomposition import TruncatedSVD\n",
    "from sklearn.pipeline import make_pipeline, Pipeline\n",
    "from sklearn.preprocessing import Normalizer\n",
    "from sklearn.base import BaseEstimator, TransformerMixin\n",
    "from scipy.sparse import csr_matrix\n",
    "from scipy import special\n",
    "import scipy.stats as stats\n",
    "import gensim\n",
    "from gensim.models import word2vec\n",
    "\n",
    "import time\n",
    "from os import listdir\n",
    "from os.path import isfile, join\n",
    "import codecs\n",
    "import re\n",
    "import random\n",
    "import pickle\n",
    "from toolz import itertoolz, compose\n",
    "from toolz.curried import map as cmap, sliding_window, pluck\n",
    "\n",
    "%matplotlib inline\n",
    "nlp = spacy.load('en_core_web_sm')\n",
    "np.random.seed(42)"
   ]
  },
  {
   "cell_type": "code",
   "execution_count": 2,
   "metadata": {},
   "outputs": [],
   "source": [
    "# load data from end of last notebook\n",
    "with open('data/love-stories-novels.pickle', 'rb') as f:\n",
    "    novels = pickle.load(f)"
   ]
  },
  {
   "cell_type": "code",
   "execution_count": 3,
   "metadata": {},
   "outputs": [],
   "source": [
    "# recreate docs and labels\n",
    "docs = []\n",
    "labels = []\n",
    "for author in novels:\n",
    "    labels += [author] * 480\n",
    "    for i in range(480):\n",
    "        docs.append(novels[author][i*250:(i+1)*250])"
   ]
  },
  {
   "cell_type": "code",
   "execution_count": 4,
   "metadata": {
    "scrolled": false
   },
   "outputs": [
    {
     "name": "stdout",
     "output_type": "stream",
     "text": [
      "***austen***\n",
      "“No more have I,” said Mr. Bennet; “and I am glad to find that you do not depend on her serving you.” Mrs. Bennet deigned not to make any reply, but, unable to contain herself, began scolding one of her daughters. “Don't keep coughing so, Kitty, for Heaven's sake! Have a little compassion on my nerves. You tear them to pieces.” “Kitty has no discretion in her coughs,” said her father; “she times them ill.” “I do not cough for my own amusement,” replied Kitty fretfully. “When is your next ball to be, Lizzy?” “To-morrow fortnight.” “Aye, so it is,” cried her mother, “and Mrs. Long does not come back till the day before; so it will be impossible for her to introduce him, for she will not know him herself.” “Then, my dear, you may have the advantage of your friend, and introduce Mr. Bingley to _her_.” “Impossible, Mr. Bennet, impossible, when I am not acquainted with him myself; how can you be so teasing?” “I honour your circumspection. A fortnight's acquaintance is certainly very little. One cannot know what a\n",
      "***bronte***\n",
      "the evening paper while she waited; I sewed. It was a wet night; the rain lashed the panes, and the wind sounded angry and restless. \"Poor child!\" said Mrs. Bretton from time to time. \"What weather for her journey! I wish she were safe here.\" A little before ten the door-bell announced Warren's return. No sooner was the door opened than I ran down into the hall; there lay a trunk and some band-boxes, beside them stood a person like a nurse-girl, and at the foot of the staircase was Warren with a shawled bundle in his arms. \"Is that the child?\" I asked. \"Yes, miss.\" I would have opened the shawl, and tried to get a peep at the face, but it was hastily turned from me to Warren's shoulder. \"Put me down, please,\" said a small voice when Warren opened the drawing-room door, \"and take off this shawl,\" continued the speaker, extracting with its minute hand the pin, and with a sort of fastidious haste doffing the clumsy wrapping. The creature which now appeared made a deft attempt to fold the shawl; but the drapery was much too heavy and large to be sustained or wielded by\n",
      "***collins***\n",
      "had the opportunity of joining them; firmly persuaded that he could adopt our national amusements of the field by an effort of will precisely as he had adopted our national gaiters and our national white hat. I had seen him risk his limbs blindly at a fox-hunt and in a cricket-field; and soon afterwards I saw him risk his life, just as blindly, in the sea at Brighton. We had met there accidentally, and were bathing together. If we had been engaged in any exercise peculiar to my own nation I should, of course, have looked after Pesca carefully; but as foreigners are generally quite as well able to take care of themselves in the water as Englishmen, it never occurred to me that the art of swimming might merely add one more to the list of manly exercises which the Professor believed that he could learn impromptu. Soon after we had both struck out from shore, I stopped, finding my friend did not gain on me, and turned round to look for him. To my horror and amazement, I saw nothing between me and the beach but two little white arms which struggled for an instant above the surface of the water, and then disappeared from view. When I dived for him, the poor little man was lying quietly coiled up at the bottom\n",
      "***eliot***\n",
      "opinion about the new young ladies, even among the cottagers, was generally in favor of Celia, as being so amiable and innocent-looking, while Miss Brooke's large eyes seemed, like her religion, too unusual and striking. Poor Dorothea! compared with her, the innocent-looking Celia was knowing and worldly-wise; so much subtler is a human mind than the outside tissues which make a sort of blazonry or clock-face for it. Yet those who approached Dorothea, though prejudiced against her by this alarming hearsay, found that she had a charm unaccountably reconcilable with it. Most men thought her bewitching when she was on horseback. She loved the fresh air and the various aspects of the country, and when her eyes and cheeks glowed with mingled pleasure she looked very little like a devotee. Riding was an indulgence which she allowed herself in spite of conscientious qualms; she felt that she enjoyed it in a pagan sensuous way, and always looked forward to renouncing it. She was open, ardent, and not in the least self-admiring; indeed, it was pretty to see how her imagination adorned her sister Celia with attractions altogether superior to her own, and if any gentleman appeared to come to the Grange from some other motive than that of seeing Mr. Brooke, she concluded\n",
      "***gaskell***\n",
      "all the better for this habit of his. Lord Cumnor had certainly a little time for gossip, which he contrived to combine with the failing of personal intervention between the old land-steward and the tenantry. But, then, the countess made up by her unapproachable dignity for this weakness of the earl's. Once a year she was condescending. She and the ladies, her daughters, had set up a school; not a school after the manner of schools now-a-days, where far better intellectual teaching is given to the boys and girls of labourers and work-people than often falls to the lot of their betters in worldly estate; but a school of the kind we should call \"industrial,\" where girls are taught to sew beautifully, to be capital housemaids, and pretty fair cooks, and, above all, to dress neatly in a kind of charity uniform devised by the ladies of Cumnor Towers; white caps, white tippets, check aprons, blue gowns, and ready curtseys, and \"please, ma'ams,\" being _de rigueur_. Now, as the countess was absent from the Towers for a considerable part of the year, she was glad to enlist the sympathy of the Hollingford ladies in this school, with a view to obtaining their aid as visitors during the\n",
      "***hardy***\n",
      "old woman who had emerged from her door towards the garden gate of a green-thatched cottage not far off. The boy quickly waved a signal of assent, drew the water with what was a great effort for one of his stature, landed and emptied the big bucket into his own pair of smaller ones, and pausing a moment for breath, started with them across the patch of clammy greensward whereon the well stood nearly in the centre of the little village, or rather hamlet of Marygreen. It was as old-fashioned as it was small, and it rested in the lap of an undulating upland adjoining the North Wessex downs. Old as it was, however, the well-shaft was probably the only relic of the local history that remained absolutely unchanged. Many of the thatched and dormered dwelling-houses had been pulled down of late years, and many trees felled on the green. Above all, the original church, hump-backed, wood-turreted, and quaintly hipped, had been taken down, and either cracked up into heaps of road-metal in the lane, or utilized as pig-sty walls, garden seats, guard-stones to fences, and rockeries in the flower-beds of the neighbourhood. In place of it a tall new building of modern Gothic design\n",
      "***james***\n",
      "knees, and his feet were encased in thick, embroidered slippers. A beautiful collie dog lay upon the grass near his chair, watching the master’s face almost as tenderly as the master took in the still more magisterial physiognomy of the house; and a little bristling, bustling terrier bestowed a desultory attendance upon the other gentlemen. One of these was a remarkably well-made man of five-and-thirty, with a face as English as that of the old gentleman I have just sketched was something else; a noticeably handsome face, fresh-coloured, fair and frank, with firm, straight features, a lively grey eye and the rich adornment of a chestnut beard. This person had a certain fortunate, brilliant exceptional look the air of a happy temperament fertilised by a high civilisation which would have made almost any observer envy him at a venture. He was booted and spurred, as if he had dismounted from a long ride; he wore a white hat, which looked too large for him; he held his two hands behind him, and in one of them a large, white, well-shaped fist was crumpled a pair of soiled dog-skin gloves. His companion, measuring the length of the lawn beside him, was a person of quite a different pattern, who,\n",
      "***lawrence***\n",
      "why James Houghton failed to become the Liberty or the Snelgrove of his day. Perhaps he had too much imagination. Be that as it may, in those early days when he brought his wife to her new home, his window on the Manchester side was a foam and a may-blossom of muslins and prints, his window on the London side was an autumn evening of silks and rich fabrics. What wife could fail to be dazzled! But she, poor darling, from her stone hall in stony Derbyshire, was a little bit repulsed by the man's dancing in front of his stock, like David before the ark. The home to which he brought her was a monument. In the great bedroom over the shop he had his furniture _built_: built of solid mahogany: oh too, too solid. No doubt he hopped or skipped himself with satisfaction into the monstrous matrimonial bed: it could only be mounted by means of a stool and chair. But the poor, secluded little woman, older than he, must have climbed up with a heavy heart, to lie and face the gloomy Bastille of mahogany, the great cupboard opposite, or to turn wearily sideways to the great cheval mirror, which performed a perpetual and hideous bow before her grace. Such furniture! It could never\n",
      "***wharton***\n",
      "of her muslin chemisette, listened with downcast eyes to M. Capoul's impassioned wooing, and affected a guileless incomprehension of his designs whenever, by word or glance, he persuasively indicated the ground floor window of the neat brick villa projecting obliquely from the right wing. \"The darling!\" thought Newland Archer, his glance flitting back to the young girl with the lilies-of-the-valley. \"She doesn't even guess what it's all about.\" And he contemplated her absorbed young face with a thrill of possessorship in which pride in his own masculine initiation was mingled with a tender reverence for her abysmal purity. \"We'll read Faust together ... by the Italian lakes ...\" he thought, somewhat hazily confusing the scene of his projected honey-moon with the masterpieces of literature which it would be his manly privilege to reveal to his bride. It was only that afternoon that May Welland had let him guess that she \"cared\" (New York's consecrated phrase of maiden avowal), and already his imagination, leaping ahead of the engagement ring, the betrothal kiss and the march from Lohengrin, pictured her at his side in some scene of old European witchery. He did not in the least wish the future Mrs. Newland Archer to be a simpleton. He meant her (thanks\n",
      "***woolf***\n",
      "no piece of waste paper comes amiss fell flat as a bad joke; bold lovers, sheltered behind one cloak, seemed to her sordid, past their passion; the flower women, a contented company, whose talk is always worth hearing, were sodden hags; the red, yellow, and blue flowers, whose heads were pressed together, would not blaze. Moreover, her husband walking with a quick rhythmic stride, jerking his free hand occasionally, was either a Viking or a stricken Nelson; the sea-gulls had changed his note. \"Ridley, shall we drive? Shall we drive, Ridley?\" Mrs. Ambrose had to speak sharply; by this time he was far away. The cab, by trotting steadily along the same road, soon withdrew them from the West End, and plunged them into London. It appeared that this was a great manufacturing place, where the people were engaged in making things, as though the West End, with its electric lamps, its vast plate-glass windows all shining yellow, its carefully-finished houses, and tiny live figures trotting on the pavement, or bowled along on wheels in the road, was the finished work. It appeared to her a very small bit of work for such an enormous factory to have made. For some reason it\n"
     ]
    }
   ],
   "source": [
    "for text, label in zip(docs[5::480], labels[::480]):\n",
    "    print('***{}***'.format(label))\n",
    "    print(text)"
   ]
  },
  {
   "cell_type": "markdown",
   "metadata": {},
   "source": [
    "# Feature creation"
   ]
  },
  {
   "cell_type": "code",
   "execution_count": 5,
   "metadata": {},
   "outputs": [],
   "source": [
    "# split into train and test\n",
    "X_train, X_test, y_train, y_test = train_test_split(docs, labels, test_size=0.25, random_state=42)\n",
    "\n",
    "assert len(X_train) == 3600\n",
    "assert len(X_test) == 1200\n",
    "assert len(y_train) == 3600\n",
    "assert len(y_test) == 1200"
   ]
  },
  {
   "cell_type": "markdown",
   "metadata": {},
   "source": [
    "## Bag of Words (BOW)"
   ]
  },
  {
   "cell_type": "markdown",
   "metadata": {},
   "source": [
    "### Binary BOW"
   ]
  },
  {
   "cell_type": "code",
   "execution_count": 6,
   "metadata": {},
   "outputs": [
    {
     "data": {
      "text/plain": [
       "Pipeline(memory=None,\n",
       "     steps=[('count', CountVectorizer(analyzer='word', binary=True, decode_error='strict',\n",
       "        dtype=<class 'numpy.int64'>, encoding='utf-8', input='content',\n",
       "        lowercase=False, max_df=0.5737424253012685, max_features=None,\n",
       "        min_df=3, ngram_range=(1, 1), preprocessor=None, stop_words=Non...ry=None)), ('classify', MultinomialNB(alpha=0.17346465350777207, class_prior=None, fit_prior=True))])"
      ]
     },
     "execution_count": 6,
     "metadata": {},
     "output_type": "execute_result"
    }
   ],
   "source": [
    "def spacy_tokenizer(doc):\n",
    "    return [token.lemma_.lower() for token in doc if not (token.is_stop or\n",
    "                                                          token.pos_ == 'PROPN' or\n",
    "                                                          token.is_punct)]\n",
    "\n",
    "bow_binary_mnb_pipe = Pipeline([\n",
    "    ('count', CountVectorizer(input='content', \n",
    "                              encoding='utf-8', \n",
    "                              decode_error='strict', \n",
    "                              strip_accents=None, \n",
    "                              lowercase=False, \n",
    "                              preprocessor=None,\n",
    "                              tokenizer=spacy_tokenizer, \n",
    "                              stop_words=None,\n",
    "                              binary=True)),\n",
    "    ('classify', MultinomialNB())\n",
    "])\n",
    "\n",
    "param_dist = {\n",
    "    'count__max_df': stats.uniform(.3, .7),\n",
    "    'count__min_df': stats.randint(2, 10),\n",
    "    'classify__alpha': stats.uniform(0.0001, 1)\n",
    "}\n",
    "\n",
    "bow_binary_mnb_search = RandomizedSearchCV(bow_binary_mnb_pipe, param_distributions=param_dist, n_iter=30, cv=5, n_jobs=1, iid=False)\n",
    "bow_binary_mnb_search.fit(X_train, y_train)\n",
    "bow_binary_mnb_search.best_estimator_"
   ]
  },
  {
   "cell_type": "code",
   "execution_count": 7,
   "metadata": {},
   "outputs": [
    {
     "name": "stdout",
     "output_type": "stream",
     "text": [
      "Accuracy on all training data:  0.9972222222222222\n",
      "Mean cv score:  0.8880785058870503\n",
      "Std cv score:  0.009075435307416611\n"
     ]
    }
   ],
   "source": [
    "def print_search_results(search, X_train, y_train):\n",
    "    print('Accuracy on all training data: ', accuracy_score(search.best_estimator_.predict(X_train), y_train))\n",
    "    print('Mean cv score: ', search.cv_results_['mean_test_score'][np.where(search.cv_results_['rank_test_score'] == 1)[0][0]])\n",
    "    print('Std cv score: ', search.cv_results_['std_test_score'][np.where(search.cv_results_['rank_test_score'] == 1)[0][0]])\n",
    "    \n",
    "print_search_results(bow_binary_mnb_search, X_train, y_train)"
   ]
  },
  {
   "cell_type": "code",
   "execution_count": 8,
   "metadata": {},
   "outputs": [
    {
     "name": "stdout",
     "output_type": "stream",
     "text": [
      "7792\n",
      "['-pron-', '11th', '15th', '17th', '18th', '1st', \"a'most\", 'aback', 'abandon', 'abandonment', 'abate', 'abbess', 'abdicate', 'aberration', 'abeyance', 'abhor', 'abhorrence', 'abide', 'ability', 'abject', 'able', 'abode', 'abominable', 'abound', 'abroad', 'abrupt', 'abruptly', 'abruptness', 'absence', 'absent', 'absently', 'absolute', 'absolutely', 'absorb', 'absorbed', 'absorption', 'abstain', 'abstract', 'abstractedly', 'abstraction', 'absurd', 'absurdity', 'absurdly', 'abundance', 'abundant', 'abundantly', 'abuse', 'abyss', 'accent', 'accept', 'acceptable', 'acceptance', 'access', 'accident', 'accidental', 'accidentally', 'accommodate', 'accommodation', 'accompaniment', 'accompany', 'accomplish', 'accomplished', 'accomplishment', 'accord', 'accordance', 'accordingly', 'accost', 'account', 'accumulate', 'accumulation', 'accuracy', 'accurate', 'accurately', 'accusation', 'accuse', 'accustom', 'accustomed', 'ache', 'achieve', 'achievement', 'acid', 'acknowledge', 'acknowledgment', 'acquaint', 'acquaintance', 'acquaintanceship', 'acquiesce', 'acquiescence', 'acquiescent', 'acquire', 'acquirement', 'acquisition', 'acre', 'act', 'action', 'active', 'actively', 'activity', 'actor', 'actress']\n"
     ]
    }
   ],
   "source": [
    "bow_binary_vectorizer = CountVectorizer(\n",
    "    input='content',\n",
    "    encoding='utf-8',\n",
    "    decode_error='strict',\n",
    "    strip_accents=None,\n",
    "    lowercase=False,                # lowercasing done in the tokenizer\n",
    "    preprocessor=None,\n",
    "    tokenizer=spacy_tokenizer,\n",
    "    stop_words=None,                # stop words taken care of in the tokenizer\n",
    "    max_df=0.5737424253012685,\n",
    "    min_df=3,\n",
    "    binary=True,\n",
    ")\n",
    "bow_binary_features = bow_binary_vectorizer.fit_transform(X_train).toarray()\n",
    "print(len(bow_binary_vectorizer.get_feature_names()))\n",
    "print(bow_binary_vectorizer.get_feature_names()[:100])"
   ]
  },
  {
   "cell_type": "markdown",
   "metadata": {},
   "source": [
    "### Reduce BOW dimensionality\n",
    "I use latent semantic analysis (LSA) instead of principal component analysis (PCA) to reduce the dimensionality because BOW creates features using counts. PCA would mean-center the data before performing SVD decomposition, so the counts of 0 would become informative. LSA performs SVD decomposition before normalizing the data, so the counts of 0 remain uninformative. I select the number of dimensions to use in LSA with the formula proposed in [\"Automatic Estimation of the LSA Dimension\"](http://web.ist.utl.pt/mjf/publications/2014-2010/pdf/kdir11.pdf) (Fernandes, Artífice, & Fonseca, 2011)."
   ]
  },
  {
   "cell_type": "code",
   "execution_count": 9,
   "metadata": {},
   "outputs": [
    {
     "data": {
      "text/plain": [
       "420.10445906429896"
      ]
     },
     "execution_count": 9,
     "metadata": {},
     "output_type": "execute_result"
    }
   ],
   "source": [
    "# formula for estimating LSA dimension - depends on number of documents\n",
    "(3600) ** (1 / (1 + (np.log10(3600)/10)))"
   ]
  },
  {
   "cell_type": "code",
   "execution_count": 12,
   "metadata": {},
   "outputs": [],
   "source": [
    "def reduce_features(features, svd_components):\n",
    "    svd = TruncatedSVD(svd_components)\n",
    "    lsa = make_pipeline(svd, Normalizer(copy=False))\n",
    "    features_lsa = lsa.fit_transform(features)\n",
    "\n",
    "    variance_explained = svd.explained_variance_ratio_\n",
    "    total_variance = variance_explained.sum()\n",
    "    print(\"Percent variance captured by all components:\", total_variance*100)\n",
    "    return features_lsa, svd, lsa"
   ]
  },
  {
   "cell_type": "code",
   "execution_count": 13,
   "metadata": {},
   "outputs": [
    {
     "name": "stdout",
     "output_type": "stream",
     "text": [
      "Percent variance captured by all components: 56.50088196242095\n"
     ]
    }
   ],
   "source": [
    "bow_binary_svd_components = 421\n",
    "bow_binary_features_lsa, bow_binary_svd, bow_binary_lsa = reduce_features(bow_binary_features, bow_binary_svd_components)"
   ]
  },
  {
   "cell_type": "code",
   "execution_count": 14,
   "metadata": {},
   "outputs": [],
   "source": [
    "assert bow_binary_features_lsa.shape[0] == bow_binary_features.shape[0]\n",
    "assert bow_binary_features_lsa.shape[1] == bow_binary_svd_components"
   ]
  },
  {
   "cell_type": "markdown",
   "metadata": {},
   "source": [
    "### Multinomial BOW"
   ]
  },
  {
   "cell_type": "code",
   "execution_count": 15,
   "metadata": {},
   "outputs": [
    {
     "data": {
      "text/plain": [
       "Pipeline(memory=None,\n",
       "     steps=[('count', CountVectorizer(analyzer='word', binary=False, decode_error='strict',\n",
       "        dtype=<class 'numpy.int64'>, encoding='utf-8', input='content',\n",
       "        lowercase=False, max_df=0.550149958600467, max_features=None,\n",
       "        min_df=2, ngram_range=(1, 1), preprocessor=None, stop_words=Non...ry=None)), ('classify', MultinomialNB(alpha=0.16853731944749584, class_prior=None, fit_prior=True))])"
      ]
     },
     "metadata": {},
     "output_type": "display_data"
    },
    {
     "name": "stdout",
     "output_type": "stream",
     "text": [
      "Accuracy on all training data:  0.9958333333333333\n",
      "Mean cv score:  0.8888787607938091\n",
      "Std cv score:  0.010010834758104678\n"
     ]
    }
   ],
   "source": [
    "bow_multinomial_mnb_pipe = Pipeline([\n",
    "    ('count', CountVectorizer(input='content', \n",
    "                              encoding='utf-8', \n",
    "                              decode_error='strict', \n",
    "                              strip_accents=None, \n",
    "                              lowercase=False, \n",
    "                              preprocessor=None,\n",
    "                              tokenizer=spacy_tokenizer, \n",
    "                              stop_words=None,\n",
    "                              binary=False)),\n",
    "    ('classify', MultinomialNB())\n",
    "])\n",
    "\n",
    "param_dist = {\n",
    "    'count__max_df': stats.uniform(.3, .7),\n",
    "    'count__min_df': stats.randint(2, 10),\n",
    "    'classify__alpha': stats.uniform(0.0001, 1)\n",
    "}\n",
    "\n",
    "bow_multinomial_mnb_search = RandomizedSearchCV(bow_multinomial_mnb_pipe,\n",
    "                                                param_distributions=param_dist,\n",
    "                                                n_iter=30,\n",
    "                                                cv=5,\n",
    "                                                n_jobs=1,\n",
    "                                                iid=False)\n",
    "bow_multinomial_mnb_search.fit(X_train, y_train)\n",
    "display(bow_multinomial_mnb_search.best_estimator_)\n",
    "print_search_results(bow_multinomial_mnb_search, X_train, y_train)"
   ]
  },
  {
   "cell_type": "code",
   "execution_count": 17,
   "metadata": {},
   "outputs": [
    {
     "name": "stdout",
     "output_type": "stream",
     "text": [
      "10162\n",
      "['-pron-', '11th', '12th', '15th', '16th', '17th', '1830', '18th', '19th', '1st', '2', '20th', '25', '25th', '2d', '3', '30th', \"a'most\", 'aback', 'abandon', 'abandonment', 'abate', 'abatement', 'abbess', 'abbey', 'abdicate', 'aberration', 'abeyance', 'abhor', 'abhorrence', 'abide', 'ability', 'abject', 'abjectly', 'able', 'ablution', 'abnormal', 'abode', 'abolish', 'abominable', 'abominably', 'abound', 'abroad', 'abrupt', 'abruptly', 'abruptness', 'absence', 'absent', 'absently', 'absolute', 'absolutely', 'absorb', 'absorbed', 'absorption', 'abstain', 'abstract', 'abstractedly', 'abstraction', 'absurd', 'absurdity', 'absurdly', 'abundance', 'abundant', 'abundantly', 'abuse', 'abyss', 'acacia', 'accede', 'accent', 'accentuate', 'accept', 'acceptable', 'acceptance', 'access', 'accessory', 'accident', 'accidental', 'accidentally', 'accommodate', 'accommodation', 'accompaniment', 'accompany', 'accomplice', 'accomplish', 'accomplished', 'accomplishment', 'accord', 'accordance', 'accordingly', 'accost', 'account', 'accounting', 'accredited', 'accumulate', 'accumulation', 'accuracy', 'accurate', 'accurately', 'accusation', 'accuse']\n"
     ]
    }
   ],
   "source": [
    "bow_multinomial_vectorizer = CountVectorizer(\n",
    "    input='content',\n",
    "    encoding='utf-8',\n",
    "    decode_error='strict',\n",
    "    strip_accents=None,\n",
    "    lowercase=False,                # lowercasing done in the tokenizer\n",
    "    preprocessor=None,\n",
    "    tokenizer=spacy_tokenizer,\n",
    "    stop_words=None,                # stop words taken care of in the tokenizer\n",
    "    max_df=0.550149958600467,\n",
    "    min_df=2,\n",
    "    binary=False,\n",
    ")\n",
    "bow_multinomial_features = bow_multinomial_vectorizer.fit_transform(X_train).toarray()\n",
    "print(len(bow_multinomial_vectorizer.get_feature_names()))\n",
    "print(bow_multinomial_vectorizer.get_feature_names()[:100])"
   ]
  },
  {
   "cell_type": "markdown",
   "metadata": {},
   "source": [
    "### Reduce BOW dimensionality"
   ]
  },
  {
   "cell_type": "code",
   "execution_count": 18,
   "metadata": {},
   "outputs": [
    {
     "name": "stdout",
     "output_type": "stream",
     "text": [
      "Percent variance captured by all components: 62.39186315794123\n"
     ]
    }
   ],
   "source": [
    "bow_multinomial_svd_components = 421\n",
    "bow_multinomial_features_lsa, bow_multinomial_svd, bow_multinomial_lsa = reduce_features(bow_multinomial_features, bow_multinomial_svd_components)"
   ]
  },
  {
   "cell_type": "code",
   "execution_count": 19,
   "metadata": {},
   "outputs": [],
   "source": [
    "assert bow_multinomial_features_lsa.shape[0] == bow_multinomial_features.shape[0]\n",
    "assert bow_multinomial_features_lsa.shape[1] == bow_multinomial_svd_components"
   ]
  },
  {
   "cell_type": "markdown",
   "metadata": {},
   "source": [
    "## Term frequency-inverse document frequency (tf-idf)"
   ]
  },
  {
   "cell_type": "code",
   "execution_count": 20,
   "metadata": {},
   "outputs": [
    {
     "data": {
      "text/plain": [
       "Pipeline(memory=None,\n",
       "     steps=[('tfidf', TfidfVectorizer(analyzer='word', binary=False, decode_error='strict',\n",
       "        dtype=<class 'numpy.float64'>, encoding='utf-8', input='content',\n",
       "        lowercase=False, max_df=0.4877853751950982, max_features=None,\n",
       "        min_df=2, ngram_range=(1, 1), norm='l2', preprocessor=None,\n",
       "...ry=None)), ('classify', MultinomialNB(alpha=0.06663238084169089, class_prior=None, fit_prior=True))])"
      ]
     },
     "metadata": {},
     "output_type": "display_data"
    },
    {
     "name": "stdout",
     "output_type": "stream",
     "text": [
      "Accuracy on all training data:  0.9991666666666666\n",
      "Mean cv score:  0.8911194987737107\n",
      "Std cv score:  0.010940590498855029\n"
     ]
    }
   ],
   "source": [
    "tfidf_mnb_pipe = Pipeline([\n",
    "    ('tfidf', TfidfVectorizer(input='content', \n",
    "                              encoding='utf-8', \n",
    "                              decode_error='strict', \n",
    "                              strip_accents=None, \n",
    "                              lowercase=False, \n",
    "                              preprocessor=None,\n",
    "                              tokenizer=spacy_tokenizer, \n",
    "                              stop_words=None,\n",
    "                              binary=False,\n",
    "                              use_idf=True, \n",
    "                              smooth_idf=True,\n",
    "                              sublinear_tf=True)),\n",
    "    ('classify', MultinomialNB())\n",
    "])\n",
    "\n",
    "param_dist = {\n",
    "    'tfidf__max_df': stats.uniform(.3, .7),\n",
    "    'tfidf__min_df': stats.randint(2, 10),\n",
    "    'classify__alpha': stats.uniform(0.0001, 1)\n",
    "}\n",
    "\n",
    "tfidf_mnb_search = RandomizedSearchCV(tfidf_mnb_pipe,\n",
    "                                      param_distributions=param_dist,\n",
    "                                      n_iter=30,\n",
    "                                      cv=5,\n",
    "                                      n_jobs=1,\n",
    "                                      iid=False)\n",
    "tfidf_mnb_search.fit(X_train, y_train)\n",
    "display(tfidf_mnb_search.best_estimator_)\n",
    "print_search_results(tfidf_mnb_search, X_train, y_train)"
   ]
  },
  {
   "cell_type": "code",
   "execution_count": 21,
   "metadata": {
    "scrolled": true
   },
   "outputs": [
    {
     "name": "stdout",
     "output_type": "stream",
     "text": [
      "10162\n",
      "['-pron-', '11th', '12th', '15th', '16th', '17th', '1830', '18th', '19th', '1st', '2', '20th', '25', '25th', '2d', '3', '30th', \"a'most\", 'aback', 'abandon', 'abandonment', 'abate', 'abatement', 'abbess', 'abbey', 'abdicate', 'aberration', 'abeyance', 'abhor', 'abhorrence', 'abide', 'ability', 'abject', 'abjectly', 'able', 'ablution', 'abnormal', 'abode', 'abolish', 'abominable', 'abominably', 'abound', 'abroad', 'abrupt', 'abruptly', 'abruptness', 'absence', 'absent', 'absently', 'absolute', 'absolutely', 'absorb', 'absorbed', 'absorption', 'abstain', 'abstract', 'abstractedly', 'abstraction', 'absurd', 'absurdity', 'absurdly', 'abundance', 'abundant', 'abundantly', 'abuse', 'abyss', 'acacia', 'accede', 'accent', 'accentuate', 'accept', 'acceptable', 'acceptance', 'access', 'accessory', 'accident', 'accidental', 'accidentally', 'accommodate', 'accommodation', 'accompaniment', 'accompany', 'accomplice', 'accomplish', 'accomplished', 'accomplishment', 'accord', 'accordance', 'accordingly', 'accost', 'account', 'accounting', 'accredited', 'accumulate', 'accumulation', 'accuracy', 'accurate', 'accurately', 'accusation', 'accuse']\n"
     ]
    }
   ],
   "source": [
    "tfidf_vectorizer = TfidfVectorizer(\n",
    "    input='content',\n",
    "    encoding='utf-8',\n",
    "    decode_error='strict',\n",
    "    strip_accents=None,\n",
    "    lowercase=False,                # lowercasing done in the tokenizer\n",
    "    preprocessor=None,\n",
    "    tokenizer=spacy_tokenizer,\n",
    "    stop_words=None,                # stop words taken care of in the tokenizer\n",
    "    max_df=0.4877853751950982,\n",
    "    min_df=2,\n",
    "    binary=False,\n",
    "    norm=None,\n",
    "    use_idf=True,\n",
    "    smooth_idf=True,                # smoothing\n",
    "    sublinear_tf=True\n",
    ")\n",
    "tfidf_features = tfidf_vectorizer.fit_transform(X_train).toarray()\n",
    "print(len(tfidf_vectorizer.get_feature_names()))\n",
    "print(tfidf_vectorizer.get_feature_names()[:100])"
   ]
  },
  {
   "cell_type": "markdown",
   "metadata": {},
   "source": [
    "### Reduce tf-idf dimensionality"
   ]
  },
  {
   "cell_type": "code",
   "execution_count": 22,
   "metadata": {},
   "outputs": [
    {
     "name": "stdout",
     "output_type": "stream",
     "text": [
      "Percent variance captured by all components: 38.596109115391975\n"
     ]
    }
   ],
   "source": [
    "tfidf_svd_components = 421\n",
    "tfidf_features_lsa, tfidf_svd, tfidf_lsa = reduce_features(tfidf_features, tfidf_svd_components)"
   ]
  },
  {
   "cell_type": "code",
   "execution_count": 23,
   "metadata": {},
   "outputs": [],
   "source": [
    "assert tfidf_features_lsa.shape[0] == tfidf_features.shape[0]\n",
    "assert tfidf_features_lsa.shape[1] == tfidf_svd_components"
   ]
  },
  {
   "cell_type": "markdown",
   "metadata": {},
   "source": [
    "## Positive pointwise mutual information (PPMI)\n",
    "I follow the method described in the [Word Vectors From PMI Matrix](https://www.kaggle.com/gabrielaltay/word-vectors-from-pmi-matrix#Word-Word-Count-Matrix) Kaggle notebook by Gabriel Altay to create word vectors using PPMI."
   ]
  },
  {
   "cell_type": "markdown",
   "metadata": {},
   "source": [
    "### Unigram Probabilities\n",
    "The probability that a word occurs."
   ]
  },
  {
   "cell_type": "code",
   "execution_count": 24,
   "metadata": {},
   "outputs": [],
   "source": [
    "unigram_vectorizer = CountVectorizer(\n",
    "    input='content',\n",
    "    encoding='utf-8',\n",
    "    decode_error='strict',\n",
    "    strip_accents=None,\n",
    "    lowercase=False,                # lowercasing done in the tokenizer\n",
    "    preprocessor=None,\n",
    "    tokenizer=spacy_tokenizer,\n",
    "    stop_words=None,                # stop words taken care of in the tokenizer\n",
    "    max_df=1.0,\n",
    "    min_df=1,\n",
    "    binary=False,\n",
    ")\n",
    "unigram_features = unigram_vectorizer.fit_transform(X_train).toarray()"
   ]
  },
  {
   "cell_type": "code",
   "execution_count": 25,
   "metadata": {},
   "outputs": [
    {
     "data": {
      "text/plain": [
       "array([ 2,  2, 61, ...,  1, 97, 78], dtype=int64)"
      ]
     },
     "execution_count": 25,
     "metadata": {},
     "output_type": "execute_result"
    }
   ],
   "source": [
    "unigram_counts = np.apply_along_axis(np.sum, 0, unigram_features)\n",
    "unigram_counts"
   ]
  },
  {
   "cell_type": "code",
   "execution_count": 26,
   "metadata": {},
   "outputs": [],
   "source": [
    "assert unigram_counts.shape[0] == unigram_features.shape[1]"
   ]
  },
  {
   "cell_type": "code",
   "execution_count": 27,
   "metadata": {
    "scrolled": true
   },
   "outputs": [
    {
     "data": {
      "text/plain": [
       "array([7.37082627e-06, 7.37082627e-06, 2.24810201e-04, ...,\n",
       "       3.68541313e-06, 3.57485074e-04, 2.87462225e-04])"
      ]
     },
     "execution_count": 27,
     "metadata": {},
     "output_type": "execute_result"
    }
   ],
   "source": [
    "unigram_freqs = unigram_counts/np.sum(unigram_counts)\n",
    "unigram_freqs"
   ]
  },
  {
   "cell_type": "markdown",
   "metadata": {},
   "source": [
    "### Skipgram Probabilities\n",
    "The probability that a 2 word sequence occurs."
   ]
  },
  {
   "cell_type": "code",
   "execution_count": 28,
   "metadata": {},
   "outputs": [],
   "source": [
    "# thanks to rth on how to produce 1-skips-2-grams\n",
    "# https://stackoverflow.com/questions/39725052/implementing-skip-gram-with-scikit-learn\n",
    "class SkipGramVectorizer(CountVectorizer):\n",
    "    def __init__(self, **kwargs):\n",
    "        CountVectorizer.__init__(self, **kwargs)\n",
    "        \n",
    "    def build_analyzer(self):\n",
    "        preprocess = self.build_preprocessor()\n",
    "        stop_words = self.get_stop_words()\n",
    "        tokenize = self.build_tokenizer()\n",
    "        return lambda doc: self._word_skip_grams(\n",
    "                compose(tokenize, preprocess, self.decode)(doc),\n",
    "                stop_words)\n",
    "\n",
    "    def _word_skip_grams(self, tokens, stop_words=None):\n",
    "        # handle stop words\n",
    "        if stop_words is not None:\n",
    "            tokens = [w for w in tokens if w not in stop_words]\n",
    "\n",
    "        return compose(cmap(' '.join), pluck([0, 2]), sliding_window(3))(tokens)"
   ]
  },
  {
   "cell_type": "code",
   "execution_count": 29,
   "metadata": {},
   "outputs": [
    {
     "name": "stdout",
     "output_type": "stream",
     "text": [
      "20424\n",
      "['-pron- -pron-', '-pron- come', '-pron- like', '-pron- say', '-pron- shall', 'able answer', 'able hear', 'able idea', 'able know', 'able listen', 'able long', 'able ought', 'able question', 'able say', 'able tell', 'able think', 'able tolerable', 'abroad home', 'abroad people', 'abroad say', 'abruptly be', 'absence follow', 'absence place', 'absence say', 'absent come', 'absent think', 'absent year', 'absolute go', 'absolutely feeling', 'absolutely give', 'absolutely have', 'absolutely know', 'absolutely mind', 'absolutely oh', 'absolutely think', 'absorb hear', 'abyss feel', 'accept bear', 'accept invitation', 'accept issue', 'accept month', 'accept offer', 'accept thank', 'accept thing', 'accident happen', 'accident late', 'accidentally family', 'accomplished say', 'accord day', 'accord room', 'accord say', 'accordingly lie', 'account family', 'account go', 'account influence', 'account know', 'account letter', 'account mean', 'account take', 'accuse tell', 'accustomed bring', 'ache heart', 'acknowledge man', 'acknowledge say', 'acquaint present', 'acquaintance go', 'acquaintance good', 'acquaintance hear', 'acquaintance lady', 'acquaintance little', 'acquaintance love', 'acquaintance mention', 'acquaintance pass', 'acquaintance sure', 'act feel', 'act good', 'act hand', 'act intention', 'act know', 'act let', 'act like', 'act love', 'act mother', 'act strength', 'act suggest', 'act think', 'act time', 'act yes', 'action man', 'active moment', 'add be', 'add believe', 'add blush', 'add book', 'add certainly', 'add change', 'add consequence', 'add decision', 'add early', 'add get']\n"
     ]
    }
   ],
   "source": [
    "oneskip_vectorizer = SkipGramVectorizer(\n",
    "    input='content',\n",
    "    encoding='utf-8',\n",
    "    decode_error='strict',\n",
    "    strip_accents=None,\n",
    "    lowercase=False,                # lowercasing done in the tokenizer\n",
    "    preprocessor=None,\n",
    "    tokenizer=spacy_tokenizer,\n",
    "    stop_words=None,                # stop words taken care of in the tokenizer\n",
    "    ngram_range=(2,2),\n",
    "    max_df=1.0,\n",
    "    min_df=2,\n",
    "    binary=False,\n",
    ")\n",
    "oneskip_features = oneskip_vectorizer.fit_transform(X_train).toarray()\n",
    "print(len(oneskip_vectorizer.get_feature_names()))\n",
    "print(oneskip_vectorizer.get_feature_names()[:100])"
   ]
  },
  {
   "cell_type": "code",
   "execution_count": 30,
   "metadata": {},
   "outputs": [
    {
     "name": "stdout",
     "output_type": "stream",
     "text": [
      "23845\n",
      "['aback say', 'abhor crime', 'able answer', 'able bear', 'able come', 'able friend', 'able good', 'able help', 'able indulge', 'able look', 'able man', 'able marry', 'able meet', 'able pay', 'able read', 'able reason', 'able say', 'able send', 'able sleep', 'able tell', 'able understand', 'abominable pride', 'abroad hope', 'abroad say', 'abruptly away', 'absence family', 'absence mind', 'absent considerable', 'absent minded', 'absolutely certain', 'absolutely necessary', 'absolutely sure', 'absorb thought', 'absorbed look', 'accent good', 'accent know', 'accept apology', 'accept decision', 'accept defeat', 'accept feel', 'accept good', 'accept husband', 'accept invitation', 'accept lot', 'accept man', 'accept offer', 'accident happen', 'accompany aunt', 'accompany friend', 'accompany husband', 'accompany young', 'accomplished woman', 'accomplishment say', 'accord account', 'accord calculation', 'accord custom', 'accord presence', 'accord rule', 'accord usual', 'accordance wish', 'accordingly place', 'account action', 'account expense', 'account happen', 'account hour', 'account plain', 'account thing', 'accumulate money', 'accurate knowledge', 'accuse have', 'accustomed think', 'ache away', 'ache good', 'acquaint family', 'acquaintance court', 'acquaintance day', 'acquaintance have', 'acquaintance know', 'acquaintance literature', 'acquaintance say', 'acquaintance time', 'act accordingly', 'act act', 'act day', 'act good', 'act impulse', 'act little', 'act matter', 'act not', 'act wish', 'act wrongly', 'action know', 'action man', 'active passive', 'actually come', 'actually think', 'add account', 'add bad', 'add choose', 'add come']\n"
     ]
    }
   ],
   "source": [
    "zeroskip_vectorizer = CountVectorizer(\n",
    "    input='content',\n",
    "    encoding='utf-8',\n",
    "    decode_error='strict',\n",
    "    strip_accents=None,\n",
    "    lowercase=False,                # lowercasing done in the tokenizer\n",
    "    preprocessor=None,\n",
    "    tokenizer=spacy_tokenizer,\n",
    "    stop_words=None,                # stop words taken care of in the tokenizer\n",
    "    ngram_range=(2,2),\n",
    "    max_df=1.0,\n",
    "    min_df=2,\n",
    "    binary=False,\n",
    ")\n",
    "zeroskip_features = zeroskip_vectorizer.fit_transform(X_train).toarray()\n",
    "print(len(zeroskip_vectorizer.get_feature_names()))\n",
    "print(zeroskip_vectorizer.get_feature_names()[:100])"
   ]
  },
  {
   "cell_type": "markdown",
   "metadata": {},
   "source": [
    "#### Combine counts for the zeroskip and oneskip skipgrams\n",
    "Some skipgrams only appear when skipping by one, while others only appear when not skipping. Futhermore, some skipgrams appear when skipping and not skipping, so their counts need to be combined."
   ]
  },
  {
   "cell_type": "code",
   "execution_count": 31,
   "metadata": {},
   "outputs": [],
   "source": [
    "oneskip_missing_idxs = []\n",
    "oneskip_same_idxs = []\n",
    "zeroskip_same_idxs = []\n",
    "\n",
    "same_skipgrams = []\n",
    "oneskip_missing_skipgrams = []\n",
    "for skipgram in list(oneskip_vectorizer.vocabulary_.keys()):\n",
    "    if skipgram not in zeroskip_vectorizer.vocabulary_:\n",
    "        oneskip_missing_idxs.append(oneskip_vectorizer.vocabulary_[skipgram])\n",
    "        oneskip_missing_skipgrams.append(skipgram)\n",
    "    else:\n",
    "        oneskip_same_idxs.append(oneskip_vectorizer.vocabulary_[skipgram])\n",
    "        zeroskip_same_idxs.append(zeroskip_vectorizer.vocabulary_[skipgram])\n",
    "        same_skipgrams.append(skipgram)\n",
    "        \n",
    "zeroskip_missing_idxs = []\n",
    "zeroskip_missing_skipgrams = []\n",
    "for skipgram in list(zeroskip_vectorizer.vocabulary_.keys()):\n",
    "    if skipgram not in oneskip_vectorizer.vocabulary_:\n",
    "        zeroskip_missing_idxs.append(zeroskip_vectorizer.vocabulary_[skipgram])\n",
    "        zeroskip_missing_skipgrams.append(skipgram)"
   ]
  },
  {
   "cell_type": "code",
   "execution_count": 32,
   "metadata": {},
   "outputs": [],
   "source": [
    "skipgram_index_values = list(range(0, len(oneskip_same_idxs) + len(oneskip_missing_idxs) + len(zeroskip_missing_idxs)))\n",
    "skipgram_index_keys = same_skipgrams + oneskip_missing_skipgrams + zeroskip_missing_skipgrams"
   ]
  },
  {
   "cell_type": "code",
   "execution_count": 33,
   "metadata": {},
   "outputs": [],
   "source": [
    "assert len(skipgram_index_values) == len(skipgram_index_keys)"
   ]
  },
  {
   "cell_type": "code",
   "execution_count": 34,
   "metadata": {},
   "outputs": [],
   "source": [
    "skipgram_index = {key:value for key, value in zip(skipgram_index_keys, skipgram_index_values)}"
   ]
  },
  {
   "cell_type": "code",
   "execution_count": 35,
   "metadata": {},
   "outputs": [],
   "source": [
    "# combine counts for shared skipgrams and those only in the one skipgrams\n",
    "skipgram_features = np.append(oneskip_features[:, oneskip_same_idxs] + zeroskip_features[:, zeroskip_same_idxs],\n",
    "                              oneskip_features[:, oneskip_missing_idxs],\n",
    "                              axis=1)\n",
    "\n",
    "# combine counts with the zero skipgrams\n",
    "skipgram_features = np.append(skipgram_features,\n",
    "                              zeroskip_features[:, zeroskip_missing_idxs],\n",
    "                              axis=1)"
   ]
  },
  {
   "cell_type": "code",
   "execution_count": 36,
   "metadata": {},
   "outputs": [],
   "source": [
    "assert len(list(skipgram_index.keys())) == skipgram_features.shape[1]\n",
    "assert skipgram_features.shape[0] == len(X_train)"
   ]
  },
  {
   "cell_type": "code",
   "execution_count": 37,
   "metadata": {},
   "outputs": [
    {
     "data": {
      "text/plain": [
       "array([8, 4, 5, ..., 2, 2, 2], dtype=int64)"
      ]
     },
     "execution_count": 37,
     "metadata": {},
     "output_type": "execute_result"
    }
   ],
   "source": [
    "skipgram_counts = np.apply_along_axis(np.sum, 0, skipgram_features)\n",
    "skipgram_counts"
   ]
  },
  {
   "cell_type": "code",
   "execution_count": 38,
   "metadata": {},
   "outputs": [],
   "source": [
    "assert skipgram_counts.shape[0] == skipgram_features.shape[1]"
   ]
  },
  {
   "cell_type": "markdown",
   "metadata": {},
   "source": [
    "### Normalized Skipgram Probability (PPMI)\n",
    "The probability that a 2 word combination occurs divided by the probability of each of those words occuring together independently. If this probability is > 1, the probability of two words occuring together is higher than the probability of them occuring together by chance, so those probabilities are informative and we will keep them. "
   ]
  },
  {
   "cell_type": "code",
   "execution_count": 39,
   "metadata": {
    "scrolled": true
   },
   "outputs": [
    {
     "data": {
      "text/plain": [
       "0.00028521399305555086"
      ]
     },
     "execution_count": 39,
     "metadata": {},
     "output_type": "execute_result"
    }
   ],
   "source": [
    "# % total possible skipgrams observed\n",
    "len(skipgram_index) / special.comb(len(unigram_counts), 2, repetition=True)"
   ]
  },
  {
   "cell_type": "code",
   "execution_count": 43,
   "metadata": {},
   "outputs": [],
   "source": [
    "def calculate_pmi(w1w2count, w2w1count, w1freq, w2freq, alpha):\n",
    "    possible_skipgrams = special.comb(len(unigram_counts), 2, repetition=True)\n",
    "    smoothed_numerator = (w1w2count + w2w1count + alpha) / (np.sum(skipgram_counts) + (alpha*possible_skipgrams))\n",
    "    denominator = (w1freq * w2freq)\n",
    "    return np.log2(smoothed_numerator/denominator)\n",
    "\n",
    "def calculate_ppmi(skipgram, alpha):\n",
    "    w1, w2 = skipgram.split(' ')\n",
    "    w1w2 = skipgram_counts[skipgram_index[skipgram]]\n",
    "    w2w1 = 0\n",
    "    if w1 != w2 and skipgram_index.get(w2 + ' ' + w1, None) is not None:\n",
    "        w2w1 = skipgram_counts[skipgram_index[w2 + ' ' + w1]]\n",
    "    \n",
    "    pmi = calculate_pmi(w1w2,\n",
    "                        w2w1,\n",
    "                        unigram_freqs[unigram_vectorizer.vocabulary_[w1]],\n",
    "                        unigram_freqs[unigram_vectorizer.vocabulary_[w2]],\n",
    "                        alpha)\n",
    "    # check if pmi > 0 instead of > 1 because we take log base 2 of the pmi    \n",
    "    return pmi if pmi > 0 else 0"
   ]
  },
  {
   "cell_type": "code",
   "execution_count": 44,
   "metadata": {},
   "outputs": [],
   "source": [
    "assert calculate_pmi(skipgram_counts[skipgram_index['say say']],\n",
    "                     0,\n",
    "                     unigram_freqs[unigram_vectorizer.vocabulary_['say']],\n",
    "                     unigram_freqs[unigram_vectorizer.vocabulary_['say']],\n",
    "                     0) > 0\n",
    "assert (np.log2((skipgram_counts[skipgram_index['say say']] / np.sum(skipgram_counts)) /\n",
    "                (unigram_freqs[unigram_vectorizer.vocabulary_['say']] ** 2))\n",
    "       ==\n",
    "       calculate_ppmi('say say', 0))\n",
    "\n",
    "assert calculate_pmi(skipgram_counts[skipgram_index['say say']],\n",
    "                     0,\n",
    "                     unigram_freqs[unigram_vectorizer.vocabulary_['say']],\n",
    "                     unigram_freqs[unigram_vectorizer.vocabulary_['say']],\n",
    "                     0.02) < 0\n",
    "assert (calculate_ppmi('say say', 0.02) == 0)"
   ]
  },
  {
   "cell_type": "markdown",
   "metadata": {},
   "source": [
    "#### Effect of different alpha values on PPMI\n",
    "Alpha is the smoothing factor applied when calculating PPMI. Without [smoothing](https://en.wikipedia.org/wiki/Additive_smoothing), the PPMI for the majority of skipgram combinations would be 0 because fewer than 0.03% of all possible skipgram combinations occur in the dataset."
   ]
  },
  {
   "cell_type": "code",
   "execution_count": 45,
   "metadata": {},
   "outputs": [],
   "source": [
    "def ppmi_for_alpha(alpha):\n",
    "    print(calculate_ppmi('say say', alpha))\n",
    "    print(calculate_ppmi('come come', alpha))\n",
    "    print(calculate_ppmi('small hand', alpha))\n",
    "    print(calculate_ppmi('discuss subject', alpha))"
   ]
  },
  {
   "cell_type": "code",
   "execution_count": 46,
   "metadata": {},
   "outputs": [
    {
     "name": "stdout",
     "output_type": "stream",
     "text": [
      "1.5749275790913486\n",
      "2.7819946021085045\n",
      "4.074382540199247\n",
      "7.83894027481667\n"
     ]
    }
   ],
   "source": [
    "ppmi_for_alpha(0.00003)"
   ]
  },
  {
   "cell_type": "code",
   "execution_count": 47,
   "metadata": {},
   "outputs": [
    {
     "name": "stdout",
     "output_type": "stream",
     "text": [
      "1.2498846298025297\n",
      "2.456955001918189\n",
      "3.7493713952527203\n",
      "7.513991096694218\n"
     ]
    }
   ],
   "source": [
    "ppmi_for_alpha(0.0003)"
   ]
  },
  {
   "cell_type": "code",
   "execution_count": 48,
   "metadata": {},
   "outputs": [
    {
     "name": "stdout",
     "output_type": "stream",
     "text": [
      "0\n",
      "0.8637789663021058\n",
      "2.1564798661229814\n",
      "5.921718922271414\n"
     ]
    }
   ],
   "source": [
    "ppmi_for_alpha(0.003)"
   ]
  },
  {
   "cell_type": "code",
   "execution_count": 49,
   "metadata": {},
   "outputs": [
    {
     "name": "stdout",
     "output_type": "stream",
     "text": [
      "0\n",
      "0\n",
      "0\n",
      "2.9892311263438085\n"
     ]
    }
   ],
   "source": [
    "ppmi_for_alpha(0.03)"
   ]
  },
  {
   "cell_type": "markdown",
   "metadata": {},
   "source": [
    "### PPMI Matrix"
   ]
  },
  {
   "cell_type": "code",
   "execution_count": 50,
   "metadata": {},
   "outputs": [],
   "source": [
    "skipgram_words = []\n",
    "for skipgram in list(skipgram_index.keys()):\n",
    "    w1, w2 = skipgram.split(' ')\n",
    "    skipgram_words.append(w1)\n",
    "    skipgram_words.append(w2)\n",
    "idx2word = np.unique(skipgram_words)"
   ]
  },
  {
   "cell_type": "code",
   "execution_count": 51,
   "metadata": {},
   "outputs": [],
   "source": [
    "word2idx = {word:np.where(idx2word==word)[0][0] for word in skipgram_words}"
   ]
  },
  {
   "cell_type": "code",
   "execution_count": 54,
   "metadata": {
    "scrolled": true
   },
   "outputs": [],
   "source": [
    "def create_ppmi_matrix(alpha):\n",
    "    row_idxs = []\n",
    "    col_idxs = []\n",
    "    csr_data = []\n",
    "    observed_skipgrams = dict()\n",
    "\n",
    "    for skipgram in tqdm_notebook(list(skipgram_index.keys())):\n",
    "        w1, w2 = skipgram.split(' ')\n",
    "        row_idxs.append(word2idx[w1])\n",
    "        col_idxs.append(word2idx[w2])\n",
    "        csr_data.append(calculate_ppmi(skipgram, alpha))\n",
    "        if word2idx[w1] not in observed_skipgrams:\n",
    "            observed_skipgrams[word2idx[w1]] = [word2idx[w2]]\n",
    "        else:\n",
    "            observed_skipgrams[word2idx[w1]].append(word2idx[w2])\n",
    "\n",
    "        if w2 + ' ' + w1 not in skipgram_index:\n",
    "            # the reverse ordering for some skipgrams doesn't occur, so make an entry for those\n",
    "            row_idxs.append(word2idx[w2])\n",
    "            col_idxs.append(word2idx[w1])\n",
    "            csr_data.append(calculate_ppmi(skipgram, alpha))\n",
    "            if word2idx[w2] not in observed_skipgrams:\n",
    "                observed_skipgrams[word2idx[w2]] = [word2idx[w1]]\n",
    "            else:\n",
    "                observed_skipgrams[word2idx[w2]].append(word2idx[w1])\n",
    "\n",
    "    # smoothing - many skipgram combinations are never observed. pretend 1 occurrence was observed\n",
    "    for i in tqdm_notebook(range(len(idx2word))):\n",
    "        for j in range(len(idx2word)):\n",
    "            if j <= i:\n",
    "                # compute for lower half, including the diagonal\n",
    "                if i in observed_skipgrams and j in observed_skipgrams[i]:\n",
    "                    pass\n",
    "                else:\n",
    "                    # skipgram hasn't been observed, pretend it was observed once\n",
    "                    pmi = calculate_pmi(0,\n",
    "                                        0,\n",
    "                                        unigram_freqs[unigram_vectorizer.vocabulary_[idx2word[i]]],\n",
    "                                        unigram_freqs[unigram_vectorizer.vocabulary_[idx2word[j]]],\n",
    "                                        alpha)\n",
    "                    # check if pmi > 0 instead of > 1 because we take log base 2 of the pmi\n",
    "                    pmi = pmi if pmi > 0 else 0\n",
    "                    if pmi != 0:\n",
    "                        # only make an entry for non-zero values\n",
    "                        row_idxs.append(i)\n",
    "                        col_idxs.append(j)\n",
    "                        csr_data.append(pmi)\n",
    "                        if i != j:\n",
    "                            # create entry on upper half of triangle if not on diagonal\n",
    "                            row_idxs.append(j)\n",
    "                            col_idxs.append(i)\n",
    "                            csr_data.append(pmi)\n",
    "\n",
    "    return csr_matrix((csr_data, (row_idxs, col_idxs)), shape=(len(idx2word), len(idx2word)))"
   ]
  },
  {
   "cell_type": "code",
   "execution_count": 55,
   "metadata": {},
   "outputs": [
    {
     "data": {
      "application/vnd.jupyter.widget-view+json": {
       "model_id": "18a2ec85f665462d990bbcacff6c3ad3",
       "version_major": 2,
       "version_minor": 0
      },
      "text/plain": [
       "HBox(children=(IntProgress(value=0, max=37966), HTML(value='')))"
      ]
     },
     "metadata": {},
     "output_type": "display_data"
    },
    {
     "name": "stdout",
     "output_type": "stream",
     "text": [
      "\n"
     ]
    },
    {
     "data": {
      "application/vnd.jupyter.widget-view+json": {
       "model_id": "706ecf2c152d428fbb706598775eb5e7",
       "version_major": 2,
       "version_minor": 0
      },
      "text/plain": [
       "HBox(children=(IntProgress(value=0, max=4120), HTML(value='')))"
      ]
     },
     "metadata": {},
     "output_type": "display_data"
    },
    {
     "name": "stdout",
     "output_type": "stream",
     "text": [
      "\n"
     ]
    }
   ],
   "source": [
    "ppmi_word_features_00003 = create_ppmi_matrix(0.00003)"
   ]
  },
  {
   "cell_type": "code",
   "execution_count": 57,
   "metadata": {},
   "outputs": [
    {
     "data": {
      "application/vnd.jupyter.widget-view+json": {
       "model_id": "883d05e318674319962025977034e853",
       "version_major": 2,
       "version_minor": 0
      },
      "text/plain": [
       "HBox(children=(IntProgress(value=0, max=37966), HTML(value='')))"
      ]
     },
     "metadata": {},
     "output_type": "display_data"
    },
    {
     "name": "stdout",
     "output_type": "stream",
     "text": [
      "\n"
     ]
    },
    {
     "data": {
      "application/vnd.jupyter.widget-view+json": {
       "model_id": "11e5afd23898484eaaf098969fdeefb8",
       "version_major": 2,
       "version_minor": 0
      },
      "text/plain": [
       "HBox(children=(IntProgress(value=0, max=4120), HTML(value='')))"
      ]
     },
     "metadata": {},
     "output_type": "display_data"
    },
    {
     "name": "stdout",
     "output_type": "stream",
     "text": [
      "\n"
     ]
    }
   ],
   "source": [
    "ppmi_word_features_0003 = create_ppmi_matrix(0.0003)"
   ]
  },
  {
   "cell_type": "code",
   "execution_count": 58,
   "metadata": {},
   "outputs": [
    {
     "data": {
      "application/vnd.jupyter.widget-view+json": {
       "model_id": "d7ef92f1a7f743c896e3d8e554d3f4e8",
       "version_major": 2,
       "version_minor": 0
      },
      "text/plain": [
       "HBox(children=(IntProgress(value=0, max=37966), HTML(value='')))"
      ]
     },
     "metadata": {},
     "output_type": "display_data"
    },
    {
     "name": "stdout",
     "output_type": "stream",
     "text": [
      "\n"
     ]
    },
    {
     "data": {
      "application/vnd.jupyter.widget-view+json": {
       "model_id": "fd0c4f643ee84dcda9042524be645f9a",
       "version_major": 2,
       "version_minor": 0
      },
      "text/plain": [
       "HBox(children=(IntProgress(value=0, max=4120), HTML(value='')))"
      ]
     },
     "metadata": {},
     "output_type": "display_data"
    },
    {
     "name": "stdout",
     "output_type": "stream",
     "text": [
      "\n"
     ]
    }
   ],
   "source": [
    "ppmi_word_features_003 = create_ppmi_matrix(0.003)"
   ]
  },
  {
   "cell_type": "code",
   "execution_count": 62,
   "metadata": {},
   "outputs": [],
   "source": [
    "assert ppmi_word_features_003.shape[0] == len(idx2word)\n",
    "assert ppmi_word_features_003.shape[1] == len(idx2word)\n",
    "# should be symmetric\n",
    "assert np.allclose(ppmi_word_features_003.toarray(), ppmi_word_features_003.T.toarray(), rtol=1e-05, atol=1e-08) "
   ]
  },
  {
   "cell_type": "markdown",
   "metadata": {},
   "source": [
    "### Create sentence vectors through averages of word vectors"
   ]
  },
  {
   "cell_type": "code",
   "execution_count": 63,
   "metadata": {
    "scrolled": true
   },
   "outputs": [],
   "source": [
    "def create_ppmi_sentence_features(ppmi_word_features):\n",
    "    ppmi_sentence_features = []\n",
    "    for doc in tqdm_notebook(X_train):\n",
    "        word_idxs = []\n",
    "        for word in doc:\n",
    "            idx = word2idx.get(word.text, None)\n",
    "            if idx is not None:\n",
    "                word_idxs.append(idx)\n",
    "        ppmi_sentence_features.append(np.array(np.mean(ppmi_word_features[word_idxs], axis=0))[0])\n",
    "    return np.asmatrix(ppmi_sentence_features)"
   ]
  },
  {
   "cell_type": "code",
   "execution_count": 64,
   "metadata": {},
   "outputs": [
    {
     "data": {
      "application/vnd.jupyter.widget-view+json": {
       "model_id": "25d9b5ebe5f24447b1eab0b3bbbf8cd2",
       "version_major": 2,
       "version_minor": 0
      },
      "text/plain": [
       "HBox(children=(IntProgress(value=0, max=3600), HTML(value='')))"
      ]
     },
     "metadata": {},
     "output_type": "display_data"
    },
    {
     "name": "stdout",
     "output_type": "stream",
     "text": [
      "\n"
     ]
    },
    {
     "data": {
      "application/vnd.jupyter.widget-view+json": {
       "model_id": "441123d1657c499c885d24a09fc88ea0",
       "version_major": 2,
       "version_minor": 0
      },
      "text/plain": [
       "HBox(children=(IntProgress(value=0, max=3600), HTML(value='')))"
      ]
     },
     "metadata": {},
     "output_type": "display_data"
    },
    {
     "name": "stdout",
     "output_type": "stream",
     "text": [
      "\n"
     ]
    },
    {
     "data": {
      "application/vnd.jupyter.widget-view+json": {
       "model_id": "ca5aa216ef3f4e46838e999708018e71",
       "version_major": 2,
       "version_minor": 0
      },
      "text/plain": [
       "HBox(children=(IntProgress(value=0, max=3600), HTML(value='')))"
      ]
     },
     "metadata": {},
     "output_type": "display_data"
    },
    {
     "name": "stdout",
     "output_type": "stream",
     "text": [
      "\n"
     ]
    }
   ],
   "source": [
    "ppmi_sentence_features_00003 = create_ppmi_sentence_features(ppmi_word_features_00003)\n",
    "ppmi_sentence_features_0003 = create_ppmi_sentence_features(ppmi_word_features_0003)\n",
    "ppmi_sentence_features_003 = create_ppmi_sentence_features(ppmi_word_features_003)"
   ]
  },
  {
   "cell_type": "code",
   "execution_count": 65,
   "metadata": {},
   "outputs": [],
   "source": [
    "assert ppmi_sentence_features_003.shape[0] == len(X_train)\n",
    "assert ppmi_sentence_features_003.shape[1] == len(idx2word)"
   ]
  },
  {
   "cell_type": "markdown",
   "metadata": {},
   "source": [
    "### Select best value for alpha"
   ]
  },
  {
   "cell_type": "code",
   "execution_count": 66,
   "metadata": {},
   "outputs": [
    {
     "data": {
      "text/plain": [
       "Pipeline(memory=None,\n",
       "     steps=[('classify', MultinomialNB(alpha=0.20564811033371322, class_prior=None, fit_prior=True))])"
      ]
     },
     "metadata": {},
     "output_type": "display_data"
    },
    {
     "name": "stdout",
     "output_type": "stream",
     "text": [
      "Accuracy on all training data:  0.3327777777777778\n",
      "Mean cv score:  0.3155963333512172\n",
      "Std cv score:  0.012708577458091178\n"
     ]
    }
   ],
   "source": [
    "ppmi_mnb_pipe = Pipeline([\n",
    "    ('classify', MultinomialNB())\n",
    "])\n",
    "\n",
    "param_dist = {\n",
    "    'classify__alpha': stats.uniform(0.0001, 1)\n",
    "}\n",
    "\n",
    "ppmi_mnb_search = RandomizedSearchCV(ppmi_mnb_pipe,\n",
    "                                     param_distributions=param_dist,\n",
    "                                     n_iter=10,\n",
    "                                     cv=5,\n",
    "                                     n_jobs=4,\n",
    "                                     iid=False)\n",
    "ppmi_mnb_search.fit(ppmi_sentence_features_00003, y_train)\n",
    "display(ppmi_mnb_search.best_estimator_)\n",
    "print_search_results(ppmi_mnb_search, ppmi_sentence_features_00003, y_train)"
   ]
  },
  {
   "cell_type": "code",
   "execution_count": 67,
   "metadata": {},
   "outputs": [
    {
     "data": {
      "text/plain": [
       "Pipeline(memory=None,\n",
       "     steps=[('classify', MultinomialNB(alpha=0.2366128586231595, class_prior=None, fit_prior=True))])"
      ]
     },
     "metadata": {},
     "output_type": "display_data"
    },
    {
     "name": "stdout",
     "output_type": "stream",
     "text": [
      "Accuracy on all training data:  0.3333333333333333\n",
      "Mean cv score:  0.31532240299989633\n",
      "Std cv score:  0.013405968755512495\n"
     ]
    }
   ],
   "source": [
    "ppmi_mnb_search = RandomizedSearchCV(ppmi_mnb_pipe,\n",
    "                                     param_distributions=param_dist,\n",
    "                                     n_iter=10,\n",
    "                                     cv=5,\n",
    "                                     n_jobs=4,\n",
    "                                     iid=False)\n",
    "ppmi_mnb_search.fit(ppmi_sentence_features_0003, y_train)\n",
    "display(ppmi_mnb_search.best_estimator_)\n",
    "print_search_results(ppmi_mnb_search, ppmi_sentence_features_0003, y_train)"
   ]
  },
  {
   "cell_type": "code",
   "execution_count": 68,
   "metadata": {},
   "outputs": [
    {
     "data": {
      "text/plain": [
       "Pipeline(memory=None,\n",
       "     steps=[('classify', MultinomialNB(alpha=0.49108033955017194, class_prior=None, fit_prior=True))])"
      ]
     },
     "metadata": {},
     "output_type": "display_data"
    },
    {
     "name": "stdout",
     "output_type": "stream",
     "text": [
      "Accuracy on all training data:  0.2911111111111111\n",
      "Mean cv score:  0.2733787884269786\n",
      "Std cv score:  0.013677098440000979\n"
     ]
    }
   ],
   "source": [
    "ppmi_mnb_search = RandomizedSearchCV(ppmi_mnb_pipe,\n",
    "                                     param_distributions=param_dist,\n",
    "                                     n_iter=10,\n",
    "                                     cv=5,\n",
    "                                     n_jobs=4,\n",
    "                                     iid=False)\n",
    "ppmi_mnb_search.fit(ppmi_sentence_features_003, y_train)\n",
    "display(ppmi_mnb_search.best_estimator_)\n",
    "print_search_results(ppmi_mnb_search, ppmi_sentence_features_003, y_train)"
   ]
  },
  {
   "cell_type": "code",
   "execution_count": 69,
   "metadata": {},
   "outputs": [],
   "source": [
    "# best is with alpha=0.0003\n",
    "ppmi_word_features = ppmi_word_features_0003\n",
    "ppmi_sentence_features = ppmi_sentence_features_0003"
   ]
  },
  {
   "cell_type": "markdown",
   "metadata": {},
   "source": [
    "### Look at word similarities"
   ]
  },
  {
   "cell_type": "code",
   "execution_count": 70,
   "metadata": {},
   "outputs": [],
   "source": [
    "def get_similar_words_ppmi(word, ppmi_word_features):\n",
    "    word_vec = ppmi_word_features.getrow(word2idx[word])\n",
    "    similarities = cosine_similarity(ppmi_word_features, word_vec).flatten()\n",
    "    sim_idxs = np.argsort(similarities)[::-1]\n",
    "    display([(idx2word[sim_idx], similarities[sim_idx]) for sim_idx in sim_idxs[:10]])"
   ]
  },
  {
   "cell_type": "code",
   "execution_count": 71,
   "metadata": {},
   "outputs": [
    {
     "data": {
      "text/plain": [
       "[('dream', 1.0),\n",
       " ('reality', 0.21861520723575956),\n",
       " ('past', 0.21499873737192057),\n",
       " ('tale', 0.208434000047652),\n",
       " ('slip', 0.20543349968615665),\n",
       " ('apart', 0.20083778499568872),\n",
       " ('stream', 0.1927740848445128),\n",
       " ('abruptly', 0.18108965209612435),\n",
       " ('ah', 0.18060844187969738),\n",
       " ('sleep', 0.17864644606244257)]"
      ]
     },
     "metadata": {},
     "output_type": "display_data"
    }
   ],
   "source": [
    "get_similar_words_ppmi('dream', ppmi_word_features)"
   ]
  },
  {
   "cell_type": "code",
   "execution_count": 72,
   "metadata": {},
   "outputs": [
    {
     "data": {
      "text/plain": [
       "[('eye', 0.9999999999999994),\n",
       " ('face', 0.31338994907019185),\n",
       " ('look', 0.3002497589046372),\n",
       " ('hand', 0.24915996681932556),\n",
       " ('see', 0.24397090169276966),\n",
       " ('little', 0.23020556073406664),\n",
       " ('head', 0.2281832168416515),\n",
       " ('stand', 0.22817868728982602),\n",
       " ('turn', 0.22816838904236264),\n",
       " ('come', 0.22040817214963834)]"
      ]
     },
     "metadata": {},
     "output_type": "display_data"
    }
   ],
   "source": [
    "get_similar_words_ppmi('eye', ppmi_word_features)"
   ]
  },
  {
   "cell_type": "code",
   "execution_count": 73,
   "metadata": {},
   "outputs": [
    {
     "data": {
      "text/plain": [
       "[('chair', 0.9999999999999997),\n",
       " ('arm', 0.2994340831755071),\n",
       " ('table', 0.2871161449931003),\n",
       " ('sit', 0.28616354847079734),\n",
       " ('sofa', 0.25537750971474876),\n",
       " ('rise', 0.24897534044253683),\n",
       " ('seat', 0.24845099072358653),\n",
       " ('near', 0.2468370228190495),\n",
       " ('open', 0.24398605619814295),\n",
       " ('stand', 0.24361905336530035)]"
      ]
     },
     "metadata": {},
     "output_type": "display_data"
    }
   ],
   "source": [
    "get_similar_words_ppmi('chair', ppmi_word_features)"
   ]
  },
  {
   "cell_type": "markdown",
   "metadata": {},
   "source": [
    "### Look at sentence similarities"
   ]
  },
  {
   "cell_type": "code",
   "execution_count": 74,
   "metadata": {},
   "outputs": [],
   "source": [
    "def get_similar_sentences(sentence_idx, ppmi_sentence_features):\n",
    "    print(X_train[sentence_idx])\n",
    "    sentence_vec = ppmi_sentence_features[sentence_idx]\n",
    "    similarities = cosine_similarity(ppmi_sentence_features, sentence_vec).flatten()\n",
    "    sim_idxs = np.argsort(similarities)[::-1]\n",
    "    display([(X_train[sim_idx], similarities[sim_idx]) for sim_idx in sim_idxs[1:3]])"
   ]
  },
  {
   "cell_type": "code",
   "execution_count": 75,
   "metadata": {},
   "outputs": [
    {
     "name": "stdout",
     "output_type": "stream",
     "text": [
      "heedless folly. To a feather-brained school-girl nothing is sacred.\" \"But you forget: I have not been accustomed to look on Miss Fanshawe in the light of a feather-brained school-girl. Was she not my divinity the angel of my career?\" \"Hem! There was your mistake.\" \"To speak the honest truth, without any false rant or assumed romance, there actually was a moment, six months ago, when I thought her divine. Do you remember our conversation about the presents? I was not quite open with you in discussing that subject: the warmth with which you took it up amused me. By way of having the full benefit of your lights, I allowed you to think me more in the dark than I really was. It was that test of the presents which first proved Ginevra mortal. Still her beauty retained its fascination: three days three hours ago, I was very much her slave. As she passed me to-night, triumphant in beauty, my emotions did her homage; but for one luckless sneer, I should yet be the humblest of her servants. She might have scoffed at _me_, and, while wounding, she would not soon have alienated me: through myself, she could not in ten\n"
     ]
    },
    {
     "data": {
      "text/plain": [
       "[(and in this respect perhaps bore more resemblance to Rosamond Vincy, who had excellent taste in costume, with that nymph-like figure and pure blindness which give the largest range to choice in the flow and color of drapery. But these things made only part of her charm. She was admitted to be the flower of Mrs. Lemon's school, the chief school in the county, where the teaching included all that was demanded in the accomplished female even to extras, such as the getting in and out of a carriage. Mrs. Lemon herself had always held up Miss Vincy as an example: no pupil, she said, exceeded that young lady for mental acquisition and propriety of speech, while her musical execution was quite exceptional. We cannot help the way in which people speak of us, and probably if Mrs. Lemon had undertaken to describe Juliet or Imogen, these heroines would not have seemed poetical. The first vision of Rosamond would have been enough with most judges to dispel any prejudice excited by Mrs. Lemon's praise. Lydgate could not be long in Middlemarch without having that agreeable vision, or even without making the acquaintance of the Vincy family; for though Mr. Peacock, whose practice he had paid something to enter on, had not been their doctor (Mrs. Vincy not liking the lowering system adopted by,\n",
       "  0.9385448294336687),\n",
       " (that we should not have known her again.” However little Mr. Darcy might have liked such an address, he contented himself with coolly replying that he perceived no other alteration than her being rather tanned, no miraculous consequence of travelling in the summer. “For my own part,” she rejoined, “I must confess that I never could see any beauty in her. Her face is too thin; her complexion has no brilliancy; and her features are not at all handsome. Her nose wants character there is nothing marked in its lines. Her teeth are tolerable, but not out of the common way; and as for her eyes, which have sometimes been called so fine, I could never see anything extraordinary in them. They have a sharp, shrewish look, which I do not like at all; and in her air altogether there is a self-sufficiency without fashion, which is intolerable.” Persuaded as Miss Bingley was that Darcy admired Elizabeth, this was not the best method of recommending herself; but angry people are not always wise; and in seeing him at last look somewhat nettled, she had all the success she expected. He was resolutely silent, however, and, from a determination of making him speak, she continued: “I remember, when we first knew,\n",
       "  0.9349194837792911)]"
      ]
     },
     "metadata": {},
     "output_type": "display_data"
    }
   ],
   "source": [
    "get_similar_sentences(10, ppmi_sentence_features)"
   ]
  },
  {
   "cell_type": "markdown",
   "metadata": {},
   "source": [
    "### Reduce PPMI dimensionality\n",
    "PPMI is also created using counts, so I use LSA instead of PCA."
   ]
  },
  {
   "cell_type": "code",
   "execution_count": 79,
   "metadata": {},
   "outputs": [
    {
     "name": "stdout",
     "output_type": "stream",
     "text": [
      "Percent variance captured by all components: 93.79259881605707\n"
     ]
    }
   ],
   "source": [
    "ppmi_word_svd_components = 421\n",
    "ppmi_word_svd = TruncatedSVD(ppmi_word_svd_components)\n",
    "\n",
    "# normalize after averaging the word vectors to make sentence features\n",
    "ppm_word_features_lsa = ppmi_word_svd.fit_transform(ppmi_word_features)\n",
    "\n",
    "variance_explained = ppmi_word_svd.explained_variance_ratio_\n",
    "total_variance = variance_explained.sum()\n",
    "print(\"Percent variance captured by all components:\", total_variance*100)"
   ]
  },
  {
   "cell_type": "code",
   "execution_count": 80,
   "metadata": {},
   "outputs": [],
   "source": [
    "assert ppmi_word_features_lsa.shape[0] == ppmi_word_features.shape[0]\n",
    "assert ppmi_word_features_lsa.shape[1] == ppmi_word_svd_components"
   ]
  },
  {
   "cell_type": "code",
   "execution_count": 81,
   "metadata": {},
   "outputs": [
    {
     "data": {
      "text/plain": [
       "[('dream', 1.0000000000000002),\n",
       " ('modern', 0.32950928881946784),\n",
       " ('past', 0.31807292560698447),\n",
       " ('pocket', 0.30581419722017045),\n",
       " ('wander', 0.2969503726582212),\n",
       " ('slip', 0.29537685084092236),\n",
       " ('apart', 0.28727581973423894),\n",
       " ('sleep', 0.2862794117527282),\n",
       " ('fond', 0.2804911955297321),\n",
       " ('ah', 0.2783042647954783)]"
      ]
     },
     "metadata": {},
     "output_type": "display_data"
    }
   ],
   "source": [
    "def get_similar_words_ppmi_lsa(word, ppmi_word_features):\n",
    "    word_vec = ppmi_word_features[word2idx[word]]\n",
    "    similarities = cosine_similarity(ppmi_word_features, word_vec.reshape(1, -1)).flatten()\n",
    "    sim_idxs = np.argsort(similarities)[::-1]\n",
    "    display([(idx2word[sim_idx], similarities[sim_idx]) for sim_idx in sim_idxs[:10]])\n",
    "\n",
    "get_similar_words_ppmi_lsa('dream', ppmi_word_features_lsa)"
   ]
  },
  {
   "cell_type": "code",
   "execution_count": 82,
   "metadata": {},
   "outputs": [
    {
     "data": {
      "text/plain": [
       "[('eye', 1.0),\n",
       " ('face', 0.3163996310754278),\n",
       " ('look', 0.30129637762067146),\n",
       " ('hand', 0.25030709946464685),\n",
       " ('see', 0.24501291922047175),\n",
       " ('pale', 0.23731299432798597),\n",
       " ('head', 0.23222606524745765),\n",
       " ('stand', 0.23220609130116263),\n",
       " ('little', 0.23055109043227137),\n",
       " ('turn', 0.22996210141300077)]"
      ]
     },
     "metadata": {},
     "output_type": "display_data"
    }
   ],
   "source": [
    "get_similar_words_ppmi_lsa('eye', ppmi_word_features_lsa)"
   ]
  },
  {
   "cell_type": "code",
   "execution_count": 83,
   "metadata": {},
   "outputs": [
    {
     "data": {
      "text/plain": [
       "[('chair', 1.0),\n",
       " ('sofa', 0.33535162068571395),\n",
       " ('arm', 0.3317021154725828),\n",
       " ('table', 0.31876603204011844),\n",
       " ('opposite', 0.3065132895589645),\n",
       " ('sit', 0.30512148459006205),\n",
       " ('seat', 0.28840873782033066),\n",
       " ('near', 0.28687635095747144),\n",
       " ('gaze', 0.2752470301283423),\n",
       " ('elbow', 0.27378016546146355)]"
      ]
     },
     "metadata": {},
     "output_type": "display_data"
    }
   ],
   "source": [
    "get_similar_words_ppmi_lsa('chair', ppmi_word_features_lsa)"
   ]
  },
  {
   "cell_type": "markdown",
   "metadata": {},
   "source": [
    "### Create sentence vectors through averages of reduced PPMI"
   ]
  },
  {
   "cell_type": "code",
   "execution_count": 91,
   "metadata": {
    "scrolled": false
   },
   "outputs": [
    {
     "data": {
      "application/vnd.jupyter.widget-view+json": {
       "model_id": "1229b58490b340ff93c2fcf53f4f5177",
       "version_major": 2,
       "version_minor": 0
      },
      "text/plain": [
       "HBox(children=(IntProgress(value=0, max=3600), HTML(value='')))"
      ]
     },
     "metadata": {},
     "output_type": "display_data"
    },
    {
     "name": "stdout",
     "output_type": "stream",
     "text": [
      "\n"
     ]
    }
   ],
   "source": [
    "ppmi_sentence_features_lsa = []\n",
    "for doc in tqdm_notebook(X_train):\n",
    "    word_idxs = []\n",
    "    for word in doc:\n",
    "        idx = word2idx.get(word.text, None)\n",
    "        if idx is not None:\n",
    "            word_idxs.append(idx)\n",
    "    ppmi_sentence_features_lsa.append(np.mean(ppmi_word_features_lsa[word_idxs], axis=0))\n",
    "ppmi_sentence_features_lsa = np.asmatrix(ppmi_sentence_features_lsa)\n",
    "\n",
    "ppmi_sentence_features = Normalizer(copy=False).fit_transform(ppmi_sentence_features)"
   ]
  },
  {
   "cell_type": "code",
   "execution_count": 93,
   "metadata": {},
   "outputs": [],
   "source": [
    "assert ppmi_sentence_features_lsa.shape[0] == len(X_train)\n",
    "assert ppmi_sentence_features_lsa.shape[1] == ppmi_word_svd_components"
   ]
  },
  {
   "cell_type": "markdown",
   "metadata": {},
   "source": [
    "## Word2Vec"
   ]
  },
  {
   "cell_type": "code",
   "execution_count": 94,
   "metadata": {},
   "outputs": [],
   "source": [
    "tokenized_docs = []\n",
    "for doc in X_train:\n",
    "    tokenized_docs.append(spacy_tokenizer(doc))"
   ]
  },
  {
   "cell_type": "code",
   "execution_count": 140,
   "metadata": {},
   "outputs": [],
   "source": [
    "class Word2VecWrapper(BaseEstimator, TransformerMixin):   \n",
    "    def __init__(self, size=421, min_count=2, window=4, sg=0, hs=0, sentences=None):\n",
    "        self.size = size\n",
    "        self.min_count = min_count\n",
    "        self.window = window\n",
    "        self.sg = sg\n",
    "        self.hs = hs\n",
    "        self.sentences = sentences\n",
    "       \n",
    "    def fit(self, X, y=None):\n",
    "        return self\n",
    "    \n",
    "    def transform(self, X, y=None):\n",
    "        w2v_model = word2vec.Word2Vec(sentences=self.sentences,\n",
    "                                      workers=8,\n",
    "                                      sample=1e-3,\n",
    "                                      size=self.size,\n",
    "                                      min_count = self.min_count,\n",
    "                                      window=self.window,\n",
    "                                      sg=self.sg,\n",
    "                                      hs=self.hs)\n",
    "            \n",
    "        w2v_sentence_features = []\n",
    "        for doc in X:\n",
    "            word_vectors = []\n",
    "            for word in doc:\n",
    "                if word.text in w2v_model.wv:\n",
    "                    word_vectors.append(w2v_model.wv[word.text])\n",
    "            w2v_sentence_features.append(np.mean(word_vectors, axis=0))\n",
    "        return np.matrix(w2v_sentence_features)"
   ]
  },
  {
   "cell_type": "code",
   "execution_count": 149,
   "metadata": {},
   "outputs": [
    {
     "data": {
      "text/plain": [
       "Pipeline(memory=None,\n",
       "     steps=[('w2v', Word2VecWrapper(hs=0, min_count=5,\n",
       "        sentences=[['stand', 'make', 'caper', 'unwillingly', 'swing', 'cradle', 'prisoner', 'trip', 'fall', 'rise', 'lie', 'near', 'fall', 'bear', 'carry', 'food', 'brave', 'converse', 'dumb', 'swing', 'cradle', 'croon', 'man', 'rise', 'bend', 'priso...']],\n",
       "        sg=1, size=421, window=8)), ('classify', GaussianNB(priors=None, var_smoothing=1e-09))])"
      ]
     },
     "metadata": {},
     "output_type": "display_data"
    },
    {
     "name": "stdout",
     "output_type": "stream",
     "text": [
      "Accuracy on all training data:  0.3252777777777778\n",
      "Mean cv score:  0.3053391877620485\n",
      "Std cv score:  0.01846396287899849\n"
     ]
    }
   ],
   "source": [
    "w2v_gnb_pipe = Pipeline([\n",
    "    ('w2v', Word2VecWrapper()),\n",
    "    ('classify', GaussianNB())\n",
    "])\n",
    "\n",
    "param_dist = {\n",
    "    'w2v__size': [421],\n",
    "    'w2v__min_count': stats.randint(2, 10),\n",
    "    'w2v__window': stats.randint(4, 10),\n",
    "    'w2v__sg': [0, 1],\n",
    "    'w2v__hs': [0, 1],\n",
    "    'w2v__sentences': [tokenized_docs]\n",
    "}\n",
    "\n",
    "w2v_gnb_search = RandomizedSearchCV(w2v_gnb_pipe,\n",
    "                                    param_distributions=param_dist,\n",
    "                                    n_iter=30,\n",
    "                                    cv=5,\n",
    "                                    n_jobs=1,\n",
    "                                    iid=False)\n",
    "w2v_gnb_search.fit(X_train, y_train)\n",
    "display(w2v_gnb_search.best_estimator_)\n",
    "print_search_results(w2v_gnb_search, X_train, y_train)"
   ]
  },
  {
   "cell_type": "code",
   "execution_count": 151,
   "metadata": {},
   "outputs": [
    {
     "data": {
      "text/plain": [
       "1"
      ]
     },
     "execution_count": 151,
     "metadata": {},
     "output_type": "execute_result"
    }
   ],
   "source": [
    "w2v_gnb_search.best_estimator_.get_params()['w2v__sg']"
   ]
  },
  {
   "cell_type": "code",
   "execution_count": 152,
   "metadata": {},
   "outputs": [
    {
     "data": {
      "text/plain": [
       "0"
      ]
     },
     "execution_count": 152,
     "metadata": {},
     "output_type": "execute_result"
    }
   ],
   "source": [
    "w2v_gnb_search.best_estimator_.get_params()['w2v__hs']"
   ]
  },
  {
   "cell_type": "code",
   "execution_count": 153,
   "metadata": {},
   "outputs": [
    {
     "data": {
      "text/plain": [
       "5"
      ]
     },
     "execution_count": 153,
     "metadata": {},
     "output_type": "execute_result"
    }
   ],
   "source": [
    "w2v_gnb_search.best_estimator_.get_params()['w2v__min_count']"
   ]
  },
  {
   "cell_type": "code",
   "execution_count": 154,
   "metadata": {},
   "outputs": [
    {
     "data": {
      "text/plain": [
       "8"
      ]
     },
     "execution_count": 154,
     "metadata": {},
     "output_type": "execute_result"
    }
   ],
   "source": [
    "w2v_gnb_search.best_estimator_.get_params()['w2v__window']"
   ]
  },
  {
   "cell_type": "code",
   "execution_count": 156,
   "metadata": {},
   "outputs": [],
   "source": [
    "w2v_model = word2vec.Word2Vec(\n",
    "    sentences=tokenized_docs,\n",
    "    workers=8,     \n",
    "    min_count=5,   \n",
    "    window=8,      \n",
    "    sg=1,          \n",
    "    sample=1e-3 ,  \n",
    "    size=421,     \n",
    "    hs=0           \n",
    ")"
   ]
  },
  {
   "cell_type": "code",
   "execution_count": 173,
   "metadata": {},
   "outputs": [
    {
     "data": {
      "text/plain": [
       "array([-0.00983173,  0.13725197,  0.02070317, -0.0238939 , -0.18515779,\n",
       "        0.1134801 ,  0.17005533, -0.16983797,  0.03542572,  0.05974755,\n",
       "       -0.11642511,  0.15933448,  0.07874326,  0.11826028, -0.03117385,\n",
       "        0.01069693,  0.02015251, -0.04643857,  0.02489041,  0.02657832,\n",
       "       -0.02830398, -0.02335694,  0.00735081, -0.03042876, -0.03251961,\n",
       "        0.06982772,  0.10338963,  0.11879747, -0.13995473, -0.0401814 ,\n",
       "       -0.08641958,  0.08487034, -0.0106484 , -0.00631432,  0.10476308,\n",
       "        0.12661432, -0.18515599,  0.04897057,  0.1731152 , -0.08570024,\n",
       "       -0.05115266, -0.1021991 ,  0.05028792,  0.09764243,  0.01398826,\n",
       "        0.08340689,  0.0615388 ,  0.04981545,  0.07083961, -0.02193971,\n",
       "       -0.10802756,  0.01242014, -0.07787722,  0.00454734,  0.0141415 ,\n",
       "        0.10809925,  0.02129839, -0.0161681 , -0.0561263 ,  0.15892768,\n",
       "        0.02801913, -0.0038277 , -0.02213627,  0.01113166,  0.03182039,\n",
       "       -0.05229004, -0.09454355,  0.0185762 , -0.03140206, -0.13137685,\n",
       "       -0.02430922, -0.1432538 ,  0.00286658,  0.1863534 ,  0.04521058,\n",
       "        0.08902134,  0.15261053,  0.08414373,  0.08764314,  0.01134198,\n",
       "       -0.01822045,  0.07300911, -0.02146337, -0.08841584, -0.10906259,\n",
       "       -0.10366723, -0.00072842,  0.03182424, -0.09615927,  0.22720334,\n",
       "        0.08599361,  0.05129707,  0.00960143, -0.09059886, -0.02056598,\n",
       "        0.01396948,  0.03628363,  0.03235335,  0.0183059 ,  0.1080903 ,\n",
       "       -0.11970004,  0.08215191,  0.02149381,  0.20559785, -0.04124579,\n",
       "        0.06458798, -0.03111944, -0.03069536,  0.10773436, -0.1736345 ,\n",
       "        0.00041425,  0.04679918, -0.01940166, -0.05959114,  0.07761279,\n",
       "        0.04553598,  0.04304442, -0.12341636,  0.11139223,  0.1520365 ,\n",
       "        0.05147915,  0.01927255, -0.00640392,  0.16435482, -0.01667506,\n",
       "       -0.09281252,  0.10336707, -0.07474141, -0.06821118, -0.07809228,\n",
       "       -0.06541517, -0.18242237, -0.1804977 , -0.09779058, -0.04074383,\n",
       "        0.19515473, -0.04311274, -0.08043326, -0.06648085,  0.00688757,\n",
       "        0.15202267, -0.0985139 ,  0.02663446, -0.00976447, -0.13110416,\n",
       "        0.03100727, -0.00939927, -0.14209004,  0.00179209, -0.01274884,\n",
       "        0.10678671, -0.02031692, -0.05221632,  0.12235005,  0.10543399,\n",
       "       -0.06165991, -0.03223179,  0.01144592, -0.07509199, -0.06534947,\n",
       "        0.15883958, -0.0386544 ,  0.0611698 , -0.19286357, -0.03097638,\n",
       "       -0.11309419,  0.01550491,  0.07542649, -0.00392874, -0.04750187,\n",
       "       -0.07004125, -0.14875592,  0.02479497, -0.15307066,  0.0406856 ,\n",
       "       -0.02964849,  0.06797022, -0.03016534, -0.01821348,  0.02247198,\n",
       "        0.02346448,  0.11331999,  0.02355781,  0.08250547, -0.18163869,\n",
       "        0.04597248,  0.05490744,  0.07239125, -0.07735767, -0.00944834,\n",
       "       -0.00607145, -0.06181167, -0.01443037, -0.00751656, -0.18239097,\n",
       "       -0.06615163, -0.08008914,  0.08718359, -0.07833119, -0.15260983,\n",
       "       -0.00195853, -0.01819537,  0.01781414,  0.01845266, -0.08109286,\n",
       "        0.11560417, -0.0132884 , -0.09858648,  0.11494961, -0.02816316,\n",
       "       -0.03826792, -0.06804529, -0.06109459,  0.07100967,  0.09035926,\n",
       "       -0.02048622, -0.04815394, -0.16701834, -0.04211033, -0.01831047,\n",
       "        0.03063999, -0.097418  , -0.05257063, -0.0415192 , -0.02941654,\n",
       "        0.10421048,  0.01463151, -0.02612389,  0.0761086 ,  0.01333664,\n",
       "        0.0147683 ,  0.01594952, -0.09977973,  0.00892246,  0.03506238,\n",
       "        0.00171638, -0.0153489 , -0.04336087,  0.0022726 , -0.03977516,\n",
       "        0.03704577,  0.00620623, -0.02525681,  0.10737525, -0.00263445,\n",
       "       -0.08231851, -0.07398786, -0.10813811, -0.12980491, -0.12324819,\n",
       "       -0.06730251,  0.04046771,  0.04455091,  0.12797554, -0.13859683,\n",
       "        0.0556968 ,  0.10531942,  0.0053637 ,  0.11035407, -0.06471398,\n",
       "       -0.09404154,  0.05140329, -0.0407879 ,  0.05109071,  0.03440012,\n",
       "        0.08020014, -0.00551284,  0.02688702, -0.05867165, -0.02283612,\n",
       "        0.00702983, -0.04775122,  0.01648148,  0.16284469,  0.02544412,\n",
       "        0.08414487, -0.11429273,  0.04118498, -0.00050945,  0.04199759,\n",
       "        0.05223641, -0.00762897,  0.02696464, -0.1703155 ,  0.01324966,\n",
       "       -0.08281499, -0.02457057,  0.0314385 , -0.01306923,  0.10668971,\n",
       "       -0.14079197, -0.05945163,  0.14085427, -0.0195698 ,  0.0588752 ,\n",
       "        0.00082313, -0.01442855,  0.04634519, -0.05066193,  0.05597501,\n",
       "        0.02275503, -0.0262043 , -0.00171847,  0.00610843, -0.04097347,\n",
       "       -0.02177475, -0.07229242,  0.07256259,  0.08820449, -0.0126598 ,\n",
       "        0.04025387,  0.11223941,  0.07216721, -0.01005657, -0.12137681,\n",
       "        0.08199027, -0.07450511, -0.04308101, -0.02672588,  0.08255302,\n",
       "       -0.0733427 , -0.19764505, -0.12278821, -0.05695204, -0.00065135,\n",
       "        0.03527754, -0.03471201,  0.11524398, -0.01066365,  0.00149309,\n",
       "        0.05817229, -0.00710403, -0.01555379, -0.00965969,  0.060641  ,\n",
       "        0.07526875, -0.01869191, -0.16802578,  0.04007828,  0.00228472,\n",
       "       -0.13163921,  0.08424218, -0.0430947 , -0.04937251, -0.0199377 ,\n",
       "        0.08190998,  0.05866179, -0.05464448,  0.00050506,  0.02327152,\n",
       "       -0.05132104, -0.07588528, -0.03371029, -0.05307531,  0.1117381 ,\n",
       "       -0.09146088, -0.00537202, -0.0552397 , -0.07212099, -0.03586677,\n",
       "        0.02965432,  0.1220201 ,  0.1204968 , -0.06079911,  0.12578358,\n",
       "        0.01660694, -0.06161445, -0.11021516, -0.06011759,  0.06184418,\n",
       "        0.11367957, -0.0298252 ,  0.14927776,  0.00683464,  0.00737799,\n",
       "        0.04635327,  0.1685269 , -0.06365678,  0.06612057,  0.02378581,\n",
       "       -0.10318344, -0.06221658, -0.11324421,  0.0065546 , -0.09643854,\n",
       "       -0.01574788, -0.00537111,  0.00288172,  0.05179313,  0.0214186 ,\n",
       "        0.06258129,  0.19161564,  0.02333283, -0.07416245,  0.02265745,\n",
       "        0.05831476,  0.03204096,  0.00846758,  0.07307869,  0.05175458,\n",
       "        0.07517716,  0.11629996, -0.02020327, -0.02625108, -0.05359967,\n",
       "       -0.0045416 ,  0.02690809,  0.09424084, -0.02745071,  0.04138297,\n",
       "        0.06511971, -0.10485073, -0.10488442, -0.04339212, -0.09802962,\n",
       "       -0.10391483,  0.0369336 , -0.01113706, -0.01691201,  0.04872404,\n",
       "       -0.1047108 ], dtype=float32)"
      ]
     },
     "execution_count": 173,
     "metadata": {},
     "output_type": "execute_result"
    }
   ],
   "source": [
    "# word vectors\n",
    "w2v_model.wv['able']"
   ]
  },
  {
   "cell_type": "markdown",
   "metadata": {},
   "source": [
    "### Look at word similarities"
   ]
  },
  {
   "cell_type": "code",
   "execution_count": 174,
   "metadata": {},
   "outputs": [
    {
     "data": {
      "text/plain": [
       "[('reality', 0.8942505121231079),\n",
       " ('end', 0.8702810406684875),\n",
       " ('atmosphere', 0.8636699318885803),\n",
       " ('interval', 0.8562098741531372),\n",
       " ('vague', 0.8464004993438721),\n",
       " ('past', 0.8435460329055786),\n",
       " ('apart', 0.8420435190200806),\n",
       " ('excitement', 0.8405673503875732),\n",
       " ('waste', 0.8357800245285034),\n",
       " ('voyage', 0.8275482654571533)]"
      ]
     },
     "execution_count": 174,
     "metadata": {},
     "output_type": "execute_result"
    }
   ],
   "source": [
    "w2v_model.wv.similar_by_word('dream')"
   ]
  },
  {
   "cell_type": "code",
   "execution_count": 175,
   "metadata": {},
   "outputs": [
    {
     "data": {
      "text/plain": [
       "[('face', 0.8925896883010864),\n",
       " ('pale', 0.7982565760612488),\n",
       " ('faint', 0.7855298519134521),\n",
       " ('mouth', 0.7807100415229797),\n",
       " ('derisive', 0.7790213823318481),\n",
       " ('watch', 0.778321385383606),\n",
       " ('grave', 0.7779223918914795),\n",
       " ('lip', 0.7755231857299805),\n",
       " ('sideways', 0.7742254734039307),\n",
       " ('smile', 0.7740456461906433)]"
      ]
     },
     "execution_count": 175,
     "metadata": {},
     "output_type": "execute_result"
    }
   ],
   "source": [
    "w2v_model.wv.similar_by_word('eye')"
   ]
  },
  {
   "cell_type": "code",
   "execution_count": 176,
   "metadata": {},
   "outputs": [
    {
     "data": {
      "text/plain": [
       "[('table', 0.9224915504455566),\n",
       " ('seat', 0.9047768712043762),\n",
       " ('fire', 0.9041956067085266),\n",
       " ('sofa', 0.8840657472610474),\n",
       " ('stool', 0.8822919130325317),\n",
       " ('knee', 0.8707557916641235),\n",
       " ('push', 0.8684278130531311),\n",
       " ('sate', 0.8682296872138977),\n",
       " ('opposite', 0.8680965900421143),\n",
       " ('fold', 0.864145040512085)]"
      ]
     },
     "execution_count": 176,
     "metadata": {},
     "output_type": "execute_result"
    }
   ],
   "source": [
    "w2v_model.wv.similar_by_word('chair')"
   ]
  },
  {
   "cell_type": "markdown",
   "metadata": {},
   "source": [
    "### Create sentence vectors through averages of word vectors"
   ]
  },
  {
   "cell_type": "code",
   "execution_count": 178,
   "metadata": {
    "scrolled": true
   },
   "outputs": [
    {
     "data": {
      "application/vnd.jupyter.widget-view+json": {
       "model_id": "986fe62bdeaa4848b48e35887972c4d2",
       "version_major": 2,
       "version_minor": 0
      },
      "text/plain": [
       "HBox(children=(IntProgress(value=0, max=3600), HTML(value='')))"
      ]
     },
     "metadata": {},
     "output_type": "display_data"
    },
    {
     "name": "stdout",
     "output_type": "stream",
     "text": [
      "\n"
     ]
    }
   ],
   "source": [
    "w2v_sentence_features = []\n",
    "for doc in tqdm_notebook(X_train):\n",
    "    word_vectors = []\n",
    "    for word in doc:\n",
    "        if word.text in w2v_model.wv:\n",
    "            word_vectors.append(w2v_model.wv[word.text])\n",
    "    w2v_sentence_features.append(np.mean(word_vectors, axis=0))\n",
    "w2v_sentence_features = np.asmatrix(w2v_sentence_features)\n",
    "\n",
    "w2v_sentence_features = Normalizer(copy=False).fit_transform(w2v_sentence_features)"
   ]
  },
  {
   "cell_type": "code",
   "execution_count": 179,
   "metadata": {},
   "outputs": [],
   "source": [
    "assert w2v_sentence_features.shape[0] == len(X_train)\n",
    "assert w2v_sentence_features.shape[1] == 421"
   ]
  },
  {
   "cell_type": "markdown",
   "metadata": {},
   "source": [
    "# Modeling"
   ]
  },
  {
   "cell_type": "code",
   "execution_count": 188,
   "metadata": {},
   "outputs": [],
   "source": [
    "def tune_model(model, param_dist, X_train, y_train, n_iter=5):\n",
    "    clf = RandomizedSearchCV(model,\n",
    "                             param_distributions=param_dist,\n",
    "                             n_iter=n_iter,\n",
    "                             cv=5,\n",
    "                             n_jobs=4,\n",
    "                             iid=False)\n",
    "    clf.fit(X_train, y_train)\n",
    "    print('Accuracy on all training data: ', accuracy_score(clf.best_estimator_.predict(X_train), y_train))\n",
    "    print('Mean cv score: ', clf.cv_results_['mean_test_score'][np.where(clf.cv_results_['rank_test_score'] == 1)[0][0]])\n",
    "    print('Std cv score: ', clf.cv_results_['std_test_score'][np.where(clf.cv_results_['rank_test_score'] == 1)[0][0]])\n",
    "    return clf.best_estimator_\n",
    "\n",
    "def evaluate_feature_sets(feature_sets, y_train, model, param_dist, n_iter):\n",
    "    best_estimators = []\n",
    "    for feature in tqdm_notebook(feature_sets):\n",
    "        print(feature)\n",
    "        best_estimators.append(tune_model(model, param_dist, feature_sets[feature], y_train, n_iter))\n",
    "        print()\n",
    "    return best_estimators"
   ]
  },
  {
   "cell_type": "code",
   "execution_count": 189,
   "metadata": {},
   "outputs": [],
   "source": [
    "feature_sets = {\n",
    "    'bow_binary_lsa': bow_binary_features_lsa,\n",
    "    'bow_multinomial_lsa': bow_multinomial_features_lsa,\n",
    "    'tfidf_lsa': tfidf_features_lsa,\n",
    "    'w2v_lsa': w2v_sentence_features,\n",
    "    'ppmi_lsa': ppmi_sentence_features_lsa,\n",
    "}"
   ]
  },
  {
   "cell_type": "markdown",
   "metadata": {},
   "source": [
    "## Model evaluation"
   ]
  },
  {
   "cell_type": "markdown",
   "metadata": {},
   "source": [
    "### Logistic Regression"
   ]
  },
  {
   "cell_type": "code",
   "execution_count": 190,
   "metadata": {
    "scrolled": false
   },
   "outputs": [
    {
     "data": {
      "application/vnd.jupyter.widget-view+json": {
       "model_id": "5f6c78097fe5435b9cb9de09f4a2257e",
       "version_major": 2,
       "version_minor": 0
      },
      "text/plain": [
       "HBox(children=(IntProgress(value=0, max=5), HTML(value='')))"
      ]
     },
     "metadata": {},
     "output_type": "display_data"
    },
    {
     "name": "stdout",
     "output_type": "stream",
     "text": [
      "bow_binary_lsa\n",
      "Accuracy on all training data:  0.985\n",
      "Mean cv score:  0.8005739007945678\n",
      "Std cv score:  0.01053074367351519\n",
      "\n",
      "bow_multinomial_lsa\n",
      "Accuracy on all training data:  0.9794444444444445\n",
      "Mean cv score:  0.7914240633723661\n",
      "Std cv score:  0.015322727809304545\n",
      "\n",
      "tfidf_lsa\n",
      "Accuracy on all training data:  0.9977777777777778\n",
      "Mean cv score:  0.8722633738237304\n",
      "Std cv score:  0.01573962438553236\n",
      "\n",
      "w2v_lsa\n",
      "Accuracy on all training data:  0.5052777777777778\n",
      "Mean cv score:  0.48529364307657835\n",
      "Std cv score:  0.01826142608022135\n",
      "\n",
      "ppmi_lsa\n",
      "Accuracy on all training data:  0.6469444444444444\n",
      "Mean cv score:  0.5683026147435616\n",
      "Std cv score:  0.02363499368172495\n",
      "\n"
     ]
    },
    {
     "data": {
      "text/plain": [
       "[LogisticRegression(C=10, class_weight=None, dual=False, fit_intercept=True,\n",
       "           intercept_scaling=1, max_iter=1000, multi_class='auto',\n",
       "           n_jobs=None, penalty='l2', random_state=None, solver='lbfgs',\n",
       "           tol=0.0001, verbose=0, warm_start=False),\n",
       " LogisticRegression(C=10, class_weight=None, dual=False, fit_intercept=True,\n",
       "           intercept_scaling=1, max_iter=1000, multi_class='auto',\n",
       "           n_jobs=None, penalty='l2', random_state=None, solver='sag',\n",
       "           tol=0.0001, verbose=0, warm_start=False),\n",
       " LogisticRegression(C=10, class_weight=None, dual=False, fit_intercept=True,\n",
       "           intercept_scaling=1, max_iter=1000, multi_class='auto',\n",
       "           n_jobs=None, penalty='l2', random_state=None, solver='sag',\n",
       "           tol=0.0001, verbose=0, warm_start=False),\n",
       " LogisticRegression(C=10, class_weight=None, dual=False, fit_intercept=True,\n",
       "           intercept_scaling=1, max_iter=1000, multi_class='auto',\n",
       "           n_jobs=None, penalty='l2', random_state=None, solver='sag',\n",
       "           tol=0.0001, verbose=0, warm_start=False),\n",
       " LogisticRegression(C=10, class_weight=None, dual=False, fit_intercept=True,\n",
       "           intercept_scaling=1, max_iter=1000, multi_class='auto',\n",
       "           n_jobs=None, penalty='l2', random_state=None, solver='newton-cg',\n",
       "           tol=0.0001, verbose=0, warm_start=False)]"
      ]
     },
     "execution_count": 190,
     "metadata": {},
     "output_type": "execute_result"
    }
   ],
   "source": [
    "param_dist = {\n",
    "    'penalty': ['l2'],\n",
    "    'C': [0.00001, 0.1, 1, 10],\n",
    "    'multi_class': ['auto'],\n",
    "    'solver': ['newton-cg', 'sag', 'saga', 'lbfgs']\n",
    "}\n",
    "evaluate_feature_sets(feature_sets, y_train, LogisticRegression(multi_class='auto', max_iter=1000), param_dist, n_iter=10)"
   ]
  },
  {
   "cell_type": "markdown",
   "metadata": {},
   "source": [
    "#### Tuned logistic regression"
   ]
  },
  {
   "cell_type": "code",
   "execution_count": 191,
   "metadata": {},
   "outputs": [],
   "source": [
    "final_logreg = LogisticRegression(multi_class='auto',\n",
    "                                  max_iter=1000,\n",
    "                                  penalty='l2',\n",
    "                                  C=10,\n",
    "                                  solver='sag').fit(tfidf_features_lsa, y_train)"
   ]
  },
  {
   "cell_type": "markdown",
   "metadata": {},
   "source": [
    "### Bernoulli Naive Bayes"
   ]
  },
  {
   "cell_type": "code",
   "execution_count": 192,
   "metadata": {},
   "outputs": [
    {
     "data": {
      "application/vnd.jupyter.widget-view+json": {
       "model_id": "5160967a5dcd4305bc09ceb24f6b8541",
       "version_major": 2,
       "version_minor": 0
      },
      "text/plain": [
       "HBox(children=(IntProgress(value=0, max=3), HTML(value='')))"
      ]
     },
     "metadata": {},
     "output_type": "display_data"
    },
    {
     "name": "stdout",
     "output_type": "stream",
     "text": [
      "bow_binary\n",
      "Accuracy on all training data:  0.995\n",
      "Mean cv score:  0.8941832284300777\n",
      "Std cv score:  0.01389615146966392\n",
      "\n",
      "bow_multinomial\n",
      "Accuracy on all training data:  0.9983333333333333\n",
      "Mean cv score:  0.8925238831867359\n",
      "Std cv score:  0.011824613709126346\n",
      "\n",
      "tfidf\n",
      "Accuracy on all training data:  0.9963888888888889\n",
      "Mean cv score:  0.8944641001756164\n",
      "Std cv score:  0.013993909370892463\n",
      "\n"
     ]
    },
    {
     "data": {
      "text/plain": [
       "[BernoulliNB(alpha=0.26879309611427216, binarize=0.0, class_prior=None,\n",
       "       fit_prior=True),\n",
       " BernoulliNB(alpha=0.07282236975576885, binarize=0.0, class_prior=None,\n",
       "       fit_prior=True),\n",
       " BernoulliNB(alpha=0.1998196589469825, binarize=0.0, class_prior=None,\n",
       "       fit_prior=True)]"
      ]
     },
     "execution_count": 192,
     "metadata": {},
     "output_type": "execute_result"
    }
   ],
   "source": [
    "param_dist = {\n",
    "    'alpha': stats.uniform(0.0001, 1)\n",
    "}\n",
    "\n",
    "# can't evaluate on the lsa reduced feature sets because Bernoulli Naive Bayes\n",
    "# doesn't work with negative-valued inputs\n",
    "evaluate_feature_sets({\n",
    "        'bow_binary': bow_binary_features,\n",
    "        'bow_multinomial': bow_multinomial_features,\n",
    "        'tfidf': tfidf_features,\n",
    "    },\n",
    "    y_train,\n",
    "    BernoulliNB(),\n",
    "    param_dist,\n",
    "    n_iter=10\n",
    ")"
   ]
  },
  {
   "cell_type": "markdown",
   "metadata": {},
   "source": [
    "#### Tuned Bernoulli NB"
   ]
  },
  {
   "cell_type": "code",
   "execution_count": 193,
   "metadata": {},
   "outputs": [],
   "source": [
    "final_bnb = BernoulliNB(alpha=0.1998196589469825).fit(tfidf_features, y_train)"
   ]
  },
  {
   "cell_type": "markdown",
   "metadata": {},
   "source": [
    "### Multinomial Naive Bayes"
   ]
  },
  {
   "cell_type": "code",
   "execution_count": 194,
   "metadata": {
    "scrolled": false
   },
   "outputs": [
    {
     "data": {
      "application/vnd.jupyter.widget-view+json": {
       "model_id": "9bd4b4e306a340049410efc46d381451",
       "version_major": 2,
       "version_minor": 0
      },
      "text/plain": [
       "HBox(children=(IntProgress(value=0, max=3), HTML(value='')))"
      ]
     },
     "metadata": {},
     "output_type": "display_data"
    },
    {
     "name": "stdout",
     "output_type": "stream",
     "text": [
      "bow_binary\n",
      "Accuracy on all training data:  0.9941666666666666\n",
      "Mean cv score:  0.8913976628905396\n",
      "Std cv score:  0.010190165411582243\n",
      "\n",
      "bow_multinomial\n",
      "Accuracy on all training data:  0.9958333333333333\n",
      "Mean cv score:  0.8938958369912033\n",
      "Std cv score:  0.009666429108726164\n",
      "\n",
      "tfidf\n",
      "Accuracy on all training data:  0.9991666666666666\n",
      "Mean cv score:  0.8894671140551784\n",
      "Std cv score:  0.011764496020316028\n",
      "\n"
     ]
    },
    {
     "data": {
      "text/plain": [
       "[MultinomialNB(alpha=0.4855194977919194, class_prior=None, fit_prior=True),\n",
       " MultinomialNB(alpha=0.17522702597674333, class_prior=None, fit_prior=True),\n",
       " MultinomialNB(alpha=0.9269305453949345, class_prior=None, fit_prior=True)]"
      ]
     },
     "execution_count": 194,
     "metadata": {},
     "output_type": "execute_result"
    }
   ],
   "source": [
    "param_dist = {\n",
    "    'alpha': stats.uniform(0.0001, 1)\n",
    "}\n",
    "\n",
    "# can't evaluate on the lsa reduced feature sets because Multinomial Naive Bayes\n",
    "# doesn't work with negative-valued inputs\n",
    "evaluate_feature_sets({\n",
    "        'bow_binary': bow_binary_features,\n",
    "        'bow_multinomial': bow_multinomial_features,\n",
    "        'tfidf': tfidf_features,\n",
    "    },\n",
    "    y_train,\n",
    "    MultinomialNB(),\n",
    "    param_dist,\n",
    "    n_iter=10\n",
    ")"
   ]
  },
  {
   "cell_type": "markdown",
   "metadata": {},
   "source": [
    "#### Tuned Multinomial Naive Bayes"
   ]
  },
  {
   "cell_type": "code",
   "execution_count": 195,
   "metadata": {},
   "outputs": [],
   "source": [
    "final_mnb = MultinomialNB(alpha=0.17522702597674333).fit(bow_multinomial_features, y_train)"
   ]
  },
  {
   "cell_type": "markdown",
   "metadata": {},
   "source": [
    "### Gaussian Naive Bayes"
   ]
  },
  {
   "cell_type": "code",
   "execution_count": 199,
   "metadata": {},
   "outputs": [
    {
     "data": {
      "application/vnd.jupyter.widget-view+json": {
       "model_id": "b5508c9df167490fbc3528265431dbce",
       "version_major": 2,
       "version_minor": 0
      },
      "text/plain": [
       "HBox(children=(IntProgress(value=0, max=5), HTML(value='')))"
      ]
     },
     "metadata": {},
     "output_type": "display_data"
    },
    {
     "name": "stdout",
     "output_type": "stream",
     "text": [
      "bow_binary_lsa\n",
      "Accuracy on all training data:  0.8055555555555556\n",
      "Mean cv score:  0.6147239445823202\n",
      "Std cv score:  0.022312683021739572\n",
      "\n",
      "bow_multinomial_lsa\n",
      "Accuracy on all training data:  0.6608333333333334\n",
      "Mean cv score:  0.5022549188252083\n",
      "Std cv score:  0.013289175500394957\n",
      "\n",
      "tfidf_lsa\n",
      "Accuracy on all training data:  0.8733333333333333\n",
      "Mean cv score:  0.7280569167742259\n",
      "Std cv score:  0.024032796846733206\n",
      "\n",
      "w2v_lsa\n",
      "Accuracy on all training data:  0.38861111111111113\n",
      "Mean cv score:  0.3788854921906507\n",
      "Std cv score:  0.0073427182655990235\n",
      "\n",
      "ppmi_lsa\n",
      "Accuracy on all training data:  0.6347222222222222\n",
      "Mean cv score:  0.5266496742780806\n",
      "Std cv score:  0.01415878056237007\n",
      "\n"
     ]
    },
    {
     "data": {
      "text/plain": [
       "[GaussianNB(priors=None, var_smoothing=4.713092783499318e-08),\n",
       " GaussianNB(priors=None, var_smoothing=1.3607071182198349e-08),\n",
       " GaussianNB(priors=None, var_smoothing=2.8592363362731534e-09),\n",
       " GaussianNB(priors=None, var_smoothing=8.270754477399809e-08),\n",
       " GaussianNB(priors=None, var_smoothing=8.350945762173658e-08)]"
      ]
     },
     "execution_count": 199,
     "metadata": {},
     "output_type": "execute_result"
    }
   ],
   "source": [
    "param_dist = {\n",
    "    'var_smoothing': stats.uniform(1e-11, 1e-7)\n",
    "}\n",
    "\n",
    "evaluate_feature_sets(feature_sets, y_train, GaussianNB(), param_dist, n_iter=10)"
   ]
  },
  {
   "cell_type": "markdown",
   "metadata": {},
   "source": [
    "### Random Forest"
   ]
  },
  {
   "cell_type": "code",
   "execution_count": 200,
   "metadata": {},
   "outputs": [
    {
     "data": {
      "application/vnd.jupyter.widget-view+json": {
       "model_id": "9ddebd5363394e52b3a5b3f020d1f9bc",
       "version_major": 2,
       "version_minor": 0
      },
      "text/plain": [
       "HBox(children=(IntProgress(value=0, max=5), HTML(value='')))"
      ]
     },
     "metadata": {},
     "output_type": "display_data"
    },
    {
     "name": "stdout",
     "output_type": "stream",
     "text": [
      "bow_binary_lsa\n",
      "Accuracy on all training data:  0.7119444444444445\n",
      "Mean cv score:  0.41587077767080044\n",
      "Std cv score:  0.015697357758768106\n",
      "\n",
      "bow_multinomial_lsa\n",
      "Accuracy on all training data:  0.9144444444444444\n",
      "Mean cv score:  0.35941763220211553\n",
      "Std cv score:  0.023754086479072876\n",
      "\n",
      "tfidf_lsa\n",
      "Accuracy on all training data:  0.7952777777777778\n",
      "Mean cv score:  0.6085904225277605\n",
      "Std cv score:  0.00900696074154182\n",
      "\n",
      "w2v_lsa\n",
      "Accuracy on all training data:  0.5822222222222222\n",
      "Mean cv score:  0.44555249342922\n",
      "Std cv score:  0.012925615154061872\n",
      "\n",
      "ppmi_lsa\n",
      "Accuracy on all training data:  0.5866666666666667\n",
      "Mean cv score:  0.35779170721969755\n",
      "Std cv score:  0.0048433780365149505\n",
      "\n"
     ]
    },
    {
     "data": {
      "text/plain": [
       "[RandomForestClassifier(bootstrap=True, class_weight=None, criterion='gini',\n",
       "             max_depth=5, max_features='auto', max_leaf_nodes=None,\n",
       "             min_impurity_decrease=0.0, min_impurity_split=None,\n",
       "             min_samples_leaf=1, min_samples_split=2,\n",
       "             min_weight_fraction_leaf=0.0, n_estimators=49, n_jobs=None,\n",
       "             oob_score=False, random_state=None, verbose=0,\n",
       "             warm_start=False),\n",
       " RandomForestClassifier(bootstrap=True, class_weight=None, criterion='gini',\n",
       "             max_depth=7, max_features='auto', max_leaf_nodes=None,\n",
       "             min_impurity_decrease=0.0, min_impurity_split=None,\n",
       "             min_samples_leaf=1, min_samples_split=2,\n",
       "             min_weight_fraction_leaf=0.0, n_estimators=43, n_jobs=None,\n",
       "             oob_score=False, random_state=None, verbose=0,\n",
       "             warm_start=False),\n",
       " RandomForestClassifier(bootstrap=True, class_weight=None, criterion='gini',\n",
       "             max_depth=5, max_features='auto', max_leaf_nodes=None,\n",
       "             min_impurity_decrease=0.0, min_impurity_split=None,\n",
       "             min_samples_leaf=1, min_samples_split=2,\n",
       "             min_weight_fraction_leaf=0.0, n_estimators=42, n_jobs=None,\n",
       "             oob_score=False, random_state=None, verbose=0,\n",
       "             warm_start=False),\n",
       " RandomForestClassifier(bootstrap=True, class_weight=None, criterion='gini',\n",
       "             max_depth=6, max_features='auto', max_leaf_nodes=None,\n",
       "             min_impurity_decrease=0.0, min_impurity_split=None,\n",
       "             min_samples_leaf=1, min_samples_split=2,\n",
       "             min_weight_fraction_leaf=0.0, n_estimators=48, n_jobs=None,\n",
       "             oob_score=False, random_state=None, verbose=0,\n",
       "             warm_start=False),\n",
       " RandomForestClassifier(bootstrap=True, class_weight=None, criterion='gini',\n",
       "             max_depth=5, max_features='auto', max_leaf_nodes=None,\n",
       "             min_impurity_decrease=0.0, min_impurity_split=None,\n",
       "             min_samples_leaf=1, min_samples_split=2,\n",
       "             min_weight_fraction_leaf=0.0, n_estimators=29, n_jobs=None,\n",
       "             oob_score=False, random_state=None, verbose=0,\n",
       "             warm_start=False)]"
      ]
     },
     "execution_count": 200,
     "metadata": {},
     "output_type": "execute_result"
    }
   ],
   "source": [
    "param_dist = {\n",
    "    'max_depth': stats.randint(1, 8),\n",
    "    'n_estimators': stats.randint(10, 50)\n",
    "}\n",
    "evaluate_feature_sets(feature_sets, y_train, RandomForestClassifier(), param_dist, n_iter=10)"
   ]
  },
  {
   "cell_type": "markdown",
   "metadata": {},
   "source": [
    "### Multi-Layer Perceptron "
   ]
  },
  {
   "cell_type": "code",
   "execution_count": 218,
   "metadata": {},
   "outputs": [],
   "source": [
    "class LayerGenerator():\n",
    "    def __init__(self, min_layer=1, max_layer=1, min_unit=100, max_unit=100):\n",
    "        self.min_layer = min_layer\n",
    "        self.max_layer = max_layer\n",
    "        self.min_unit = min_unit\n",
    "        self.max_unit = max_unit\n",
    "    \n",
    "    def rvs(self, **kwargs):\n",
    "        return tuple(random.randint(self.min_unit, self.max_unit) for\n",
    "                     u in range(random.randint(self.min_layer, self.max_layer)))"
   ]
  },
  {
   "cell_type": "code",
   "execution_count": 219,
   "metadata": {
    "scrolled": false
   },
   "outputs": [
    {
     "data": {
      "application/vnd.jupyter.widget-view+json": {
       "model_id": "",
       "version_major": 2,
       "version_minor": 0
      },
      "text/plain": [
       "HBox(children=(IntProgress(value=0, max=5), HTML(value='')))"
      ]
     },
     "metadata": {},
     "output_type": "display_data"
    },
    {
     "name": "stdout",
     "output_type": "stream",
     "text": [
      "bow_binary_lsa\n",
      "Accuracy on all training data:  1.0\n",
      "Mean cv score:  0.7905802600890984\n",
      "Std cv score:  0.01327008254569642\n",
      "\n",
      "bow_multinomial_lsa\n",
      "Accuracy on all training data:  1.0\n",
      "Mean cv score:  0.77610855345179\n",
      "Std cv score:  0.005380969875383962\n",
      "\n",
      "tfidf_lsa\n",
      "Accuracy on all training data:  1.0\n",
      "Mean cv score:  0.842515541844473\n",
      "Std cv score:  0.011977861666233732\n",
      "\n",
      "w2v_lsa\n",
      "Accuracy on all training data:  0.6147222222222222\n",
      "Mean cv score:  0.5355192660710228\n",
      "Std cv score:  0.016862180859116324\n",
      "\n",
      "ppmi_lsa\n",
      "Accuracy on all training data:  0.91\n",
      "Mean cv score:  0.5941354872751978\n",
      "Std cv score:  0.02159125212370809\n",
      "\n"
     ]
    },
    {
     "data": {
      "text/plain": [
       "[MLPClassifier(activation='relu', alpha=0.0001, batch_size='auto', beta_1=0.9,\n",
       "        beta_2=0.999, early_stopping=False, epsilon=1e-08,\n",
       "        hidden_layer_sizes=(370, 255), learning_rate='constant',\n",
       "        learning_rate_init=0.001, max_iter=1000, momentum=0.9,\n",
       "        n_iter_no_change=10, nesterovs_momentum=True, power_t=0.5,\n",
       "        random_state=None, shuffle=True, solver='adam', tol=0.0001,\n",
       "        validation_fraction=0.1, verbose=False, warm_start=False),\n",
       " MLPClassifier(activation='relu', alpha=0.0001, batch_size='auto', beta_1=0.9,\n",
       "        beta_2=0.999, early_stopping=False, epsilon=1e-08,\n",
       "        hidden_layer_sizes=(253, 199), learning_rate='constant',\n",
       "        learning_rate_init=0.001, max_iter=1000, momentum=0.9,\n",
       "        n_iter_no_change=10, nesterovs_momentum=True, power_t=0.5,\n",
       "        random_state=None, shuffle=True, solver='adam', tol=0.0001,\n",
       "        validation_fraction=0.1, verbose=False, warm_start=False),\n",
       " MLPClassifier(activation='relu', alpha=0.0001, batch_size='auto', beta_1=0.9,\n",
       "        beta_2=0.999, early_stopping=False, epsilon=1e-08,\n",
       "        hidden_layer_sizes=(284, 131), learning_rate='constant',\n",
       "        learning_rate_init=0.001, max_iter=1000, momentum=0.9,\n",
       "        n_iter_no_change=10, nesterovs_momentum=True, power_t=0.5,\n",
       "        random_state=None, shuffle=True, solver='adam', tol=0.0001,\n",
       "        validation_fraction=0.1, verbose=False, warm_start=False),\n",
       " MLPClassifier(activation='relu', alpha=0.0001, batch_size='auto', beta_1=0.9,\n",
       "        beta_2=0.999, early_stopping=False, epsilon=1e-08,\n",
       "        hidden_layer_sizes=(400,), learning_rate='constant',\n",
       "        learning_rate_init=0.001, max_iter=1000, momentum=0.9,\n",
       "        n_iter_no_change=10, nesterovs_momentum=True, power_t=0.5,\n",
       "        random_state=None, shuffle=True, solver='adam', tol=0.0001,\n",
       "        validation_fraction=0.1, verbose=False, warm_start=False),\n",
       " MLPClassifier(activation='logistic', alpha=0.0001, batch_size='auto',\n",
       "        beta_1=0.9, beta_2=0.999, early_stopping=False, epsilon=1e-08,\n",
       "        hidden_layer_sizes=(161, 396), learning_rate='constant',\n",
       "        learning_rate_init=0.001, max_iter=1000, momentum=0.9,\n",
       "        n_iter_no_change=10, nesterovs_momentum=True, power_t=0.5,\n",
       "        random_state=None, shuffle=True, solver='adam', tol=0.0001,\n",
       "        validation_fraction=0.1, verbose=False, warm_start=False)]"
      ]
     },
     "execution_count": 219,
     "metadata": {},
     "output_type": "execute_result"
    }
   ],
   "source": [
    "param_dist = {\n",
    "    'hidden_layer_sizes': LayerGenerator(1, 3, 100, 400),\n",
    "    'activation': ['logistic', 'tanh', 'relu'],\n",
    "}\n",
    "evaluate_feature_sets(feature_sets, y_train, MLPClassifier(max_iter=1000), param_dist, 5)"
   ]
  },
  {
   "cell_type": "markdown",
   "metadata": {},
   "source": [
    "#### Tuned MLP"
   ]
  },
  {
   "cell_type": "code",
   "execution_count": 220,
   "metadata": {},
   "outputs": [],
   "source": [
    "final_mlp = MLPClassifier(hidden_layer_sizes=(284, 131), max_iter=1000).fit(tfidf_features_lsa, y_train)"
   ]
  },
  {
   "cell_type": "markdown",
   "metadata": {},
   "source": [
    "### Support Vector Machine"
   ]
  },
  {
   "cell_type": "code",
   "execution_count": 470,
   "metadata": {
    "scrolled": false
   },
   "outputs": [
    {
     "data": {
      "application/vnd.jupyter.widget-view+json": {
       "model_id": "5d886f53186b4c67be674f0325b57117",
       "version_major": 2,
       "version_minor": 0
      },
      "text/plain": [
       "HBox(children=(IntProgress(value=0, max=5), HTML(value='')))"
      ]
     },
     "metadata": {},
     "output_type": "display_data"
    },
    {
     "name": "stdout",
     "output_type": "stream",
     "text": [
      "bow_binary_lsa\n",
      "Accuracy on all training data:  0.9294444444444444\n",
      "Mean cv score:  0.7836476288354348\n",
      "Std cv score:  0.01786023414146008\n",
      "\n",
      "bow_multinomial_lsa\n",
      "Accuracy on all training data:  0.9216666666666666\n",
      "Mean cv score:  0.7669959860826924\n",
      "Std cv score:  0.02076748490486815\n",
      "\n",
      "tfidf_lsa\n",
      "Accuracy on all training data:  0.9419444444444445\n",
      "Mean cv score:  0.8600498384516049\n",
      "Std cv score:  0.022791945020143974\n",
      "\n",
      "w2v_lsa\n",
      "Accuracy on all training data:  0.4330555555555556\n",
      "Mean cv score:  0.4158590523835331\n",
      "Std cv score:  0.014691630942487838\n",
      "\n",
      "ppmi_lsa\n",
      "Accuracy on all training data:  0.33805555555555555\n",
      "Mean cv score:  0.29918397845885003\n",
      "Std cv score:  0.01276621203146842\n",
      "\n"
     ]
    },
    {
     "data": {
      "text/plain": [
       "[SVC(C=0.6925631070467847, cache_size=200, class_weight=None, coef0=0.0,\n",
       "   decision_function_shape='ovr', degree=3, gamma='auto_deprecated',\n",
       "   kernel='linear', max_iter=5000, probability=False, random_state=None,\n",
       "   shrinking=True, tol=0.001, verbose=False),\n",
       " SVC(C=0.8862922316104449, cache_size=200, class_weight=None, coef0=0.0,\n",
       "   decision_function_shape='ovr', degree=3, gamma='auto_deprecated',\n",
       "   kernel='linear', max_iter=5000, probability=False, random_state=None,\n",
       "   shrinking=True, tol=0.001, verbose=False),\n",
       " SVC(C=0.3132578279252738, cache_size=200, class_weight=None, coef0=0.0,\n",
       "   decision_function_shape='ovr', degree=3, gamma='auto_deprecated',\n",
       "   kernel='linear', max_iter=5000, probability=False, random_state=None,\n",
       "   shrinking=True, tol=0.001, verbose=False),\n",
       " SVC(C=0.8946507002173536, cache_size=200, class_weight=None, coef0=0.0,\n",
       "   decision_function_shape='ovr', degree=3, gamma='auto_deprecated',\n",
       "   kernel='linear', max_iter=5000, probability=False, random_state=None,\n",
       "   shrinking=True, tol=0.001, verbose=False),\n",
       " SVC(C=0.9373650078920356, cache_size=200, class_weight=None, coef0=0.0,\n",
       "   decision_function_shape='ovr', degree=3, gamma='auto_deprecated',\n",
       "   kernel='linear', max_iter=5000, probability=False, random_state=None,\n",
       "   shrinking=True, tol=0.001, verbose=False)]"
      ]
     },
     "execution_count": 470,
     "metadata": {},
     "output_type": "execute_result"
    }
   ],
   "source": [
    "param_dist = {\n",
    "    'C': stats.uniform(0.0001, 1),\n",
    "}\n",
    "evaluate_feature_sets(feature_sets, y_train, SVC(max_iter=5000, kernel='linear'), param_dist, 5)"
   ]
  },
  {
   "cell_type": "markdown",
   "metadata": {},
   "source": [
    "#### Tuned SVC"
   ]
  },
  {
   "cell_type": "code",
   "execution_count": 471,
   "metadata": {},
   "outputs": [],
   "source": [
    "final_svc = SVC(max_iter=5000, kernel='linear', C=0.3132578279252738).fit(tfidf_features_lsa, y_train)"
   ]
  },
  {
   "cell_type": "markdown",
   "metadata": {},
   "source": [
    "## Test tuned models on holdout set"
   ]
  },
  {
   "cell_type": "code",
   "execution_count": 221,
   "metadata": {},
   "outputs": [],
   "source": [
    "holdout_tfidf_features = tfidf_vectorizer.transform(X_test).toarray()\n",
    "holdout_tfidf_features_lsa = tfidf_lsa.transform(holdout_tfidf_features)\n",
    "\n",
    "holdout_bow_multinomial_features = bow_multinomial_vectorizer.transform(X_test).toarray()"
   ]
  },
  {
   "cell_type": "code",
   "execution_count": 222,
   "metadata": {},
   "outputs": [
    {
     "data": {
      "text/plain": [
       "0.9016666666666666"
      ]
     },
     "execution_count": 222,
     "metadata": {},
     "output_type": "execute_result"
    }
   ],
   "source": [
    "accuracy_score(final_bnb.predict(holdout_tfidf_features), y_test)"
   ]
  },
  {
   "cell_type": "code",
   "execution_count": 223,
   "metadata": {},
   "outputs": [
    {
     "data": {
      "text/plain": [
       "0.9083333333333333"
      ]
     },
     "execution_count": 223,
     "metadata": {},
     "output_type": "execute_result"
    }
   ],
   "source": [
    "accuracy_score(final_mnb.predict(holdout_bow_multinomial_features), y_test)"
   ]
  },
  {
   "cell_type": "code",
   "execution_count": 224,
   "metadata": {},
   "outputs": [
    {
     "data": {
      "text/plain": [
       "0.8691666666666666"
      ]
     },
     "execution_count": 224,
     "metadata": {},
     "output_type": "execute_result"
    }
   ],
   "source": [
    "accuracy_score(final_logreg.predict(holdout_tfidf_features_lsa), y_test)"
   ]
  },
  {
   "cell_type": "code",
   "execution_count": 225,
   "metadata": {},
   "outputs": [
    {
     "data": {
      "text/plain": [
       "0.8716666666666667"
      ]
     },
     "execution_count": 225,
     "metadata": {},
     "output_type": "execute_result"
    }
   ],
   "source": [
    "accuracy_score(final_mlp.predict(holdout_tfidf_features_lsa), y_test)"
   ]
  },
  {
   "cell_type": "code",
   "execution_count": 472,
   "metadata": {},
   "outputs": [
    {
     "data": {
      "text/plain": [
       "0.8508333333333333"
      ]
     },
     "execution_count": 472,
     "metadata": {},
     "output_type": "execute_result"
    }
   ],
   "source": [
    "accuracy_score(final_svc.predict(holdout_tfidf_features_lsa), y_test)"
   ]
  },
  {
   "cell_type": "markdown",
   "metadata": {},
   "source": [
    "# Clustering"
   ]
  },
  {
   "cell_type": "markdown",
   "metadata": {},
   "source": [
    "## Adjusted Rand Score for comparing clustering methods\n",
    "I will use the adjusted Rand score to compare the effectiveness of different clustering methods. I've chosen this metric because it can be used to compare clustering algorithms which make different assumptions about the structure of the data."
   ]
  },
  {
   "cell_type": "code",
   "execution_count": 226,
   "metadata": {},
   "outputs": [],
   "source": [
    "def random_clusters_ari(y_train, cluster_range):\n",
    "    def score_random_clusters(y_train, n_clusters):\n",
    "        random_labels = []\n",
    "        for x in range(len(y_train)):\n",
    "            random_labels.append(random.randint(1,n_clusters))\n",
    "        return adjusted_rand_score(random_labels, y_train)\n",
    "    \n",
    "    ari_scores = dict()\n",
    "    for n_clusters in tqdm_notebook(range(cluster_range[0], cluster_range[1])):\n",
    "        scores = []\n",
    "        for _ in range(100):\n",
    "            scores.append(score_random_clusters(y_train, n_clusters=n_clusters))\n",
    "        ari_scores[n_clusters] = [np.mean(scores), np.std(scores)]\n",
    "        \n",
    "    return ari_scores"
   ]
  },
  {
   "cell_type": "code",
   "execution_count": 227,
   "metadata": {
    "scrolled": true
   },
   "outputs": [
    {
     "data": {
      "application/vnd.jupyter.widget-view+json": {
       "model_id": "dcb2d9afbcfb4d51afe6584e08ce18d6",
       "version_major": 2,
       "version_minor": 0
      },
      "text/plain": [
       "HBox(children=(IntProgress(value=0, max=40), HTML(value='')))"
      ]
     },
     "metadata": {},
     "output_type": "display_data"
    }
   ],
   "source": [
    "random_ari = random_clusters_ari(y_train, (10, 50))"
   ]
  },
  {
   "cell_type": "code",
   "execution_count": 228,
   "metadata": {
    "scrolled": false
   },
   "outputs": [
    {
     "data": {
      "text/plain": [
       "{10: [6.530423735080641e-06, 0.00040807543215701263],\n",
       " 11: [-6.305919913207333e-05, 0.00037225112544865015],\n",
       " 12: [-8.228587484924669e-05, 0.00042973810215625013],\n",
       " 13: [-3.5624196096182705e-05, 0.0003991839796186206],\n",
       " 14: [-4.498596099858677e-05, 0.0003520629814219423],\n",
       " 15: [7.237465029928333e-06, 0.0003693754358939158],\n",
       " 16: [2.1976465274718622e-05, 0.00034936414373465055],\n",
       " 17: [1.0054919600839995e-05, 0.0003421095608135559],\n",
       " 18: [-6.624581947279275e-05, 0.0003445279692510464],\n",
       " 19: [6.567110393897794e-05, 0.0003561914097620329],\n",
       " 20: [6.8951636180464085e-06, 0.00035850523148805253],\n",
       " 21: [-5.9156984383241994e-05, 0.0003581124655815659],\n",
       " 22: [-1.3367925997767049e-05, 0.0003404303982938359],\n",
       " 23: [5.4865905950307134e-05, 0.00035801492411541936],\n",
       " 24: [6.916520865535235e-05, 0.0003709545398498003],\n",
       " 25: [-2.3045886927162427e-05, 0.0003738750299812982],\n",
       " 26: [3.3281867912329614e-06, 0.0003340276488996156],\n",
       " 27: [-3.7065805380438906e-05, 0.00036212622479310904],\n",
       " 28: [9.450384402711848e-06, 0.00031675175289135933],\n",
       " 29: [-1.2948608096802436e-05, 0.00032506325592389243],\n",
       " 30: [6.735808160246562e-05, 0.0003288904460723213],\n",
       " 31: [6.992000983253117e-06, 0.00030366160879180716],\n",
       " 32: [2.4113003863789552e-05, 0.00033613655820508606],\n",
       " 33: [-1.4001607000786093e-05, 0.00030058339455338925],\n",
       " 34: [-6.657185788999844e-05, 0.00028760656645480975],\n",
       " 35: [-2.2278441994990883e-05, 0.00032410770662580677],\n",
       " 36: [2.3524107240105265e-05, 0.0003000169917827351],\n",
       " 37: [-1.7980980058588054e-05, 0.0003158820614050841],\n",
       " 38: [-5.241626479950221e-05, 0.0002891106577731137],\n",
       " 39: [-2.174355101524217e-06, 0.00026789978057046497],\n",
       " 40: [-1.2039585096010613e-05, 0.0002472142682191817],\n",
       " 41: [-4.463505704120066e-05, 0.0002950945309580765],\n",
       " 42: [-2.263181842309839e-05, 0.00030453714330072704],\n",
       " 43: [-1.5436843084117473e-06, 0.0002910728374312374],\n",
       " 44: [-3.6915560567903804e-05, 0.00031741239237779415],\n",
       " 45: [4.165129148184399e-05, 0.0002786949773705968],\n",
       " 46: [1.692059657852216e-05, 0.0003269553123802808],\n",
       " 47: [4.180699516055105e-06, 0.00028798277624242726],\n",
       " 48: [2.0264068143192143e-05, 0.00030527784175036403],\n",
       " 49: [3.504910004113491e-05, 0.0002671905279086807]}"
      ]
     },
     "execution_count": 228,
     "metadata": {},
     "output_type": "execute_result"
    }
   ],
   "source": [
    "random_ari"
   ]
  },
  {
   "cell_type": "markdown",
   "metadata": {},
   "source": [
    "The adjusted Rand score is very close to 0 for clustering solutions that are random. "
   ]
  },
  {
   "cell_type": "markdown",
   "metadata": {},
   "source": [
    "## Mean Shift"
   ]
  },
  {
   "cell_type": "code",
   "execution_count": 229,
   "metadata": {},
   "outputs": [],
   "source": [
    "def mean_shift(X_train, y_train, quantile=0.2, n_samples=400, bin_seeding=True):\n",
    "    # Here we set the bandwidth. This function automatically derives a bandwidth\n",
    "    # number based on an inspection of the distances among points in the data.\n",
    "    bandwidth = estimate_bandwidth(X_train, quantile=quantile, n_samples=n_samples)\n",
    "\n",
    "    # Declare and fit the model.\n",
    "    ms = MeanShift(bandwidth=bandwidth, bin_seeding=bin_seeding)\n",
    "    ms.fit(X_train)\n",
    "\n",
    "    # Extract cluster assignments for each data point.\n",
    "    predict = ms.labels_\n",
    "\n",
    "    # Count our clusters.\n",
    "    n_clusters_ = len(np.unique(predict))\n",
    "    \n",
    "    print(\"Number of estimated clusters: {}\".format(n_clusters_))\n",
    "    print(adjusted_rand_score(y_train, predict))"
   ]
  },
  {
   "cell_type": "code",
   "execution_count": 230,
   "metadata": {},
   "outputs": [
    {
     "name": "stdout",
     "output_type": "stream",
     "text": [
      "Number of estimated clusters: 1\n",
      "0.0\n"
     ]
    }
   ],
   "source": [
    "# unable to obtain more than 1 cluster\n",
    "mean_shift(bow_binary_features, y_train, quantile=0.01, n_samples=200)"
   ]
  },
  {
   "cell_type": "code",
   "execution_count": 232,
   "metadata": {},
   "outputs": [
    {
     "name": "stdout",
     "output_type": "stream",
     "text": [
      "Number of estimated clusters: 1\n",
      "0.0\n"
     ]
    }
   ],
   "source": [
    "# unable to obtain more than 1 cluster\n",
    "mean_shift(bow_binary_features_lsa, y_train, quantile=0.01, n_samples=200)"
   ]
  },
  {
   "cell_type": "code",
   "execution_count": 233,
   "metadata": {},
   "outputs": [
    {
     "name": "stdout",
     "output_type": "stream",
     "text": [
      "Number of estimated clusters: 13\n",
      "-1.653518910605194e-06\n"
     ]
    }
   ],
   "source": [
    "# close to random\n",
    "mean_shift(bow_multinomial_features, y_train, quantile=0.01, n_samples=200)"
   ]
  },
  {
   "cell_type": "code",
   "execution_count": 234,
   "metadata": {},
   "outputs": [
    {
     "name": "stdout",
     "output_type": "stream",
     "text": [
      "Number of estimated clusters: 1\n",
      "0.0\n"
     ]
    }
   ],
   "source": [
    "# unable to obtain more than 1 cluster\n",
    "mean_shift(bow_multinomial_features_lsa, y_train, quantile=0.01, n_samples=200)"
   ]
  },
  {
   "cell_type": "code",
   "execution_count": 235,
   "metadata": {},
   "outputs": [
    {
     "name": "stdout",
     "output_type": "stream",
     "text": [
      "Number of estimated clusters: 1\n",
      "0.0\n"
     ]
    }
   ],
   "source": [
    "# unable to obtain more than 1 cluster\n",
    "mean_shift(tfidf_features, y_train, quantile=0.01, n_samples=200)"
   ]
  },
  {
   "cell_type": "code",
   "execution_count": 236,
   "metadata": {},
   "outputs": [
    {
     "name": "stdout",
     "output_type": "stream",
     "text": [
      "Number of estimated clusters: 1\n",
      "0.0\n"
     ]
    }
   ],
   "source": [
    "# unable to obtain more than 1 cluster\n",
    "mean_shift(tfidf_features_lsa, y_train, quantile=0.01, n_samples=200)"
   ]
  },
  {
   "cell_type": "code",
   "execution_count": 237,
   "metadata": {},
   "outputs": [
    {
     "name": "stdout",
     "output_type": "stream",
     "text": [
      "Number of estimated clusters: 2\n",
      "1.0474068455579115e-05\n"
     ]
    }
   ],
   "source": [
    "# unable to obtain more than 2 clusters\n",
    "mean_shift(ppmi_sentence_features_lsa, y_train, quantile=0.01, n_samples=200)"
   ]
  },
  {
   "cell_type": "code",
   "execution_count": 252,
   "metadata": {},
   "outputs": [
    {
     "name": "stdout",
     "output_type": "stream",
     "text": [
      "Number of estimated clusters: 21\n",
      "0.02269291046203936\n"
     ]
    }
   ],
   "source": [
    "mean_shift(w2v_sentence_features, y_train, quantile=0.03, bin_seeding=False)"
   ]
  },
  {
   "cell_type": "markdown",
   "metadata": {},
   "source": [
    "## Spectral Clustering"
   ]
  },
  {
   "cell_type": "code",
   "execution_count": 239,
   "metadata": {},
   "outputs": [],
   "source": [
    "def spectral(X_train, y_train, n_clusters=3, affinity='linear', verbose=True):\n",
    "    # Declare and fit the model.\n",
    "    sc = SpectralClustering(n_clusters=n_clusters, affinity=affinity)\n",
    "\n",
    "    #Predicted clusters.\n",
    "    predict=sc.fit_predict(X_train)\n",
    "    \n",
    "    if verbose:\n",
    "        print(adjusted_rand_score(y_train, predict))\n",
    "    \n",
    "    return predict, adjusted_rand_score(y_train, predict)"
   ]
  },
  {
   "cell_type": "code",
   "execution_count": 240,
   "metadata": {},
   "outputs": [
    {
     "name": "stdout",
     "output_type": "stream",
     "text": [
      "0.04260125354156125\n"
     ]
    },
    {
     "data": {
      "text/plain": [
       "(array([1, 4, 2, ..., 8, 1, 2]), 0.04260125354156125)"
      ]
     },
     "execution_count": 240,
     "metadata": {},
     "output_type": "execute_result"
    }
   ],
   "source": [
    "spectral(bow_binary_features, y_train, n_clusters=10)"
   ]
  },
  {
   "cell_type": "code",
   "execution_count": 241,
   "metadata": {
    "scrolled": false
   },
   "outputs": [
    {
     "name": "stdout",
     "output_type": "stream",
     "text": [
      "0.05163869112427604\n"
     ]
    },
    {
     "data": {
      "text/plain": [
       "(array([1, 7, 6, ..., 2, 1, 6]), 0.05163869112427604)"
      ]
     },
     "execution_count": 241,
     "metadata": {},
     "output_type": "execute_result"
    }
   ],
   "source": [
    "spectral(bow_binary_features_lsa, y_train, n_clusters=10)"
   ]
  },
  {
   "cell_type": "code",
   "execution_count": 242,
   "metadata": {},
   "outputs": [
    {
     "name": "stdout",
     "output_type": "stream",
     "text": [
      "0.038013774681957255\n"
     ]
    },
    {
     "data": {
      "text/plain": [
       "(array([4, 1, 0, ..., 8, 4, 0]), 0.038013774681957255)"
      ]
     },
     "execution_count": 242,
     "metadata": {},
     "output_type": "execute_result"
    }
   ],
   "source": [
    "spectral(bow_multinomial_features, y_train, n_clusters=10)"
   ]
  },
  {
   "cell_type": "code",
   "execution_count": 243,
   "metadata": {
    "scrolled": false
   },
   "outputs": [
    {
     "name": "stdout",
     "output_type": "stream",
     "text": [
      "0.04144840376627121\n"
     ]
    },
    {
     "data": {
      "text/plain": [
       "(array([8, 4, 9, ..., 3, 8, 9]), 0.04144840376627121)"
      ]
     },
     "execution_count": 243,
     "metadata": {},
     "output_type": "execute_result"
    }
   ],
   "source": [
    "spectral(bow_multinomial_features_lsa, y_train, n_clusters=10)"
   ]
  },
  {
   "cell_type": "code",
   "execution_count": 244,
   "metadata": {},
   "outputs": [
    {
     "name": "stdout",
     "output_type": "stream",
     "text": [
      "0.1541732680190513\n"
     ]
    },
    {
     "data": {
      "text/plain": [
       "(array([5, 6, 9, ..., 3, 5, 7]), 0.1541732680190513)"
      ]
     },
     "execution_count": 244,
     "metadata": {},
     "output_type": "execute_result"
    }
   ],
   "source": [
    "spectral(tfidf_features, y_train, n_clusters=10)"
   ]
  },
  {
   "cell_type": "code",
   "execution_count": 245,
   "metadata": {},
   "outputs": [
    {
     "name": "stdout",
     "output_type": "stream",
     "text": [
      "0.15661340623862655\n"
     ]
    },
    {
     "data": {
      "text/plain": [
       "(array([4, 3, 6, ..., 5, 4, 0]), 0.15661340623862655)"
      ]
     },
     "execution_count": 245,
     "metadata": {},
     "output_type": "execute_result"
    }
   ],
   "source": [
    "spectral(tfidf_features_lsa, y_train, n_clusters=10)"
   ]
  },
  {
   "cell_type": "code",
   "execution_count": 246,
   "metadata": {},
   "outputs": [
    {
     "name": "stdout",
     "output_type": "stream",
     "text": [
      "0.05324738803627305\n"
     ]
    },
    {
     "data": {
      "text/plain": [
       "(array([7, 3, 1, ..., 4, 9, 8]), 0.05324738803627305)"
      ]
     },
     "execution_count": 246,
     "metadata": {},
     "output_type": "execute_result"
    }
   ],
   "source": [
    "spectral(ppmi_sentence_features_lsa, y_train, n_clusters=10)"
   ]
  },
  {
   "cell_type": "code",
   "execution_count": 247,
   "metadata": {
    "scrolled": true
   },
   "outputs": [
    {
     "name": "stdout",
     "output_type": "stream",
     "text": [
      "0.07130384688168889\n"
     ]
    },
    {
     "data": {
      "text/plain": [
       "(array([1, 3, 9, ..., 8, 7, 5]), 0.07130384688168889)"
      ]
     },
     "execution_count": 247,
     "metadata": {},
     "output_type": "execute_result"
    }
   ],
   "source": [
    "spectral(w2v_sentence_features, y_train, n_clusters=10)"
   ]
  },
  {
   "cell_type": "markdown",
   "metadata": {},
   "source": [
    "### Try different affinities"
   ]
  },
  {
   "cell_type": "code",
   "execution_count": 254,
   "metadata": {},
   "outputs": [
    {
     "name": "stdout",
     "output_type": "stream",
     "text": [
      "0.15825975747017565\n"
     ]
    },
    {
     "data": {
      "text/plain": [
       "(array([0, 2, 8, ..., 6, 0, 5]), 0.15825975747017565)"
      ]
     },
     "execution_count": 254,
     "metadata": {},
     "output_type": "execute_result"
    }
   ],
   "source": [
    "spectral(tfidf_features_lsa, y_train, n_clusters=10, affinity='linear')"
   ]
  },
  {
   "cell_type": "code",
   "execution_count": 255,
   "metadata": {},
   "outputs": [
    {
     "name": "stdout",
     "output_type": "stream",
     "text": [
      "0.16220783517254023\n"
     ]
    },
    {
     "data": {
      "text/plain": [
       "(array([5, 3, 2, ..., 0, 5, 7]), 0.16220783517254023)"
      ]
     },
     "execution_count": 255,
     "metadata": {},
     "output_type": "execute_result"
    }
   ],
   "source": [
    "spectral(tfidf_features_lsa, y_train, n_clusters=10, affinity='poly')"
   ]
  },
  {
   "cell_type": "code",
   "execution_count": 256,
   "metadata": {},
   "outputs": [
    {
     "name": "stdout",
     "output_type": "stream",
     "text": [
      "0.16004940055430855\n"
     ]
    },
    {
     "data": {
      "text/plain": [
       "(array([8, 6, 3, ..., 7, 8, 0]), 0.16004940055430855)"
      ]
     },
     "execution_count": 256,
     "metadata": {},
     "output_type": "execute_result"
    }
   ],
   "source": [
    "spectral(tfidf_features_lsa, y_train, n_clusters=10, affinity='polynomial')"
   ]
  },
  {
   "cell_type": "code",
   "execution_count": 257,
   "metadata": {},
   "outputs": [
    {
     "name": "stdout",
     "output_type": "stream",
     "text": [
      "0.15422614687109157\n"
     ]
    },
    {
     "data": {
      "text/plain": [
       "(array([0, 4, 3, ..., 8, 0, 1]), 0.15422614687109157)"
      ]
     },
     "execution_count": 257,
     "metadata": {},
     "output_type": "execute_result"
    }
   ],
   "source": [
    "spectral(tfidf_features_lsa, y_train, n_clusters=10, affinity='rbf')"
   ]
  },
  {
   "cell_type": "code",
   "execution_count": 258,
   "metadata": {},
   "outputs": [
    {
     "name": "stdout",
     "output_type": "stream",
     "text": [
      "0.010859924952896135\n"
     ]
    },
    {
     "data": {
      "text/plain": [
       "(array([0, 0, 0, ..., 9, 0, 0]), 0.010859924952896135)"
      ]
     },
     "execution_count": 258,
     "metadata": {},
     "output_type": "execute_result"
    }
   ],
   "source": [
    "spectral(tfidf_features_lsa, y_train, n_clusters=10, affinity='laplacian')"
   ]
  },
  {
   "cell_type": "code",
   "execution_count": 259,
   "metadata": {},
   "outputs": [
    {
     "name": "stdout",
     "output_type": "stream",
     "text": [
      "0.1642926577470084\n"
     ]
    },
    {
     "data": {
      "text/plain": [
       "(array([7, 4, 5, ..., 3, 7, 1]), 0.1642926577470084)"
      ]
     },
     "execution_count": 259,
     "metadata": {},
     "output_type": "execute_result"
    }
   ],
   "source": [
    "spectral(tfidf_features_lsa, y_train, n_clusters=10, affinity='sigmoid')"
   ]
  },
  {
   "cell_type": "markdown",
   "metadata": {},
   "source": [
    "## K-Means"
   ]
  },
  {
   "cell_type": "code",
   "execution_count": 261,
   "metadata": {},
   "outputs": [],
   "source": [
    "def kmeans(X_train, y_train, n_clusters=2, verbose=True):\n",
    "    # Calculate predicted values.\n",
    "    predict = KMeans(n_clusters=n_clusters, random_state=42).fit_predict(X_train)\n",
    "\n",
    "    if verbose:\n",
    "        print(adjusted_rand_score(y_train, predict))\n",
    "    \n",
    "    return predict, adjusted_rand_score(y_train, predict)"
   ]
  },
  {
   "cell_type": "code",
   "execution_count": 262,
   "metadata": {},
   "outputs": [
    {
     "name": "stdout",
     "output_type": "stream",
     "text": [
      "0.0860906274961625\n"
     ]
    },
    {
     "data": {
      "text/plain": [
       "(array([0, 3, 8, ..., 4, 0, 0]), 0.0860906274961625)"
      ]
     },
     "execution_count": 262,
     "metadata": {},
     "output_type": "execute_result"
    }
   ],
   "source": [
    "kmeans(bow_binary_features, y_train, n_clusters=10)"
   ]
  },
  {
   "cell_type": "code",
   "execution_count": 263,
   "metadata": {},
   "outputs": [
    {
     "name": "stdout",
     "output_type": "stream",
     "text": [
      "0.11224808929852777\n"
     ]
    },
    {
     "data": {
      "text/plain": [
       "(array([2, 3, 7, ..., 4, 6, 1]), 0.11224808929852777)"
      ]
     },
     "execution_count": 263,
     "metadata": {},
     "output_type": "execute_result"
    }
   ],
   "source": [
    "kmeans(bow_binary_features_lsa, y_train, n_clusters=10)"
   ]
  },
  {
   "cell_type": "code",
   "execution_count": 264,
   "metadata": {},
   "outputs": [
    {
     "name": "stdout",
     "output_type": "stream",
     "text": [
      "0.03268009436653316\n"
     ]
    },
    {
     "data": {
      "text/plain": [
       "(array([4, 6, 3, ..., 9, 7, 2]), 0.03268009436653316)"
      ]
     },
     "execution_count": 264,
     "metadata": {},
     "output_type": "execute_result"
    }
   ],
   "source": [
    "kmeans(bow_multinomial_features, y_train, n_clusters=10)"
   ]
  },
  {
   "cell_type": "code",
   "execution_count": 265,
   "metadata": {},
   "outputs": [
    {
     "name": "stdout",
     "output_type": "stream",
     "text": [
      "0.04534429111854495\n"
     ]
    },
    {
     "data": {
      "text/plain": [
       "(array([4, 0, 4, ..., 1, 4, 2]), 0.04534429111854495)"
      ]
     },
     "execution_count": 265,
     "metadata": {},
     "output_type": "execute_result"
    }
   ],
   "source": [
    "kmeans(bow_multinomial_features_lsa, y_train, n_clusters=10)"
   ]
  },
  {
   "cell_type": "code",
   "execution_count": 266,
   "metadata": {},
   "outputs": [
    {
     "name": "stdout",
     "output_type": "stream",
     "text": [
      "0.08703433958898538\n"
     ]
    },
    {
     "data": {
      "text/plain": [
       "(array([9, 1, 9, ..., 4, 9, 1]), 0.08703433958898538)"
      ]
     },
     "execution_count": 266,
     "metadata": {},
     "output_type": "execute_result"
    }
   ],
   "source": [
    "kmeans(tfidf_features, y_train, n_clusters=10)"
   ]
  },
  {
   "cell_type": "code",
   "execution_count": 267,
   "metadata": {},
   "outputs": [
    {
     "name": "stdout",
     "output_type": "stream",
     "text": [
      "0.18406265526332657\n"
     ]
    },
    {
     "data": {
      "text/plain": [
       "(array([8, 2, 7, ..., 9, 8, 4]), 0.18406265526332657)"
      ]
     },
     "execution_count": 267,
     "metadata": {},
     "output_type": "execute_result"
    }
   ],
   "source": [
    "kmeans(tfidf_features_lsa, y_train, n_clusters=10)"
   ]
  },
  {
   "cell_type": "code",
   "execution_count": 268,
   "metadata": {},
   "outputs": [
    {
     "name": "stdout",
     "output_type": "stream",
     "text": [
      "0.033403325233068784\n"
     ]
    },
    {
     "data": {
      "text/plain": [
       "(array([2, 5, 2, ..., 9, 2, 4]), 0.033403325233068784)"
      ]
     },
     "execution_count": 268,
     "metadata": {},
     "output_type": "execute_result"
    }
   ],
   "source": [
    "kmeans(ppmi_sentence_features_lsa, y_train, n_clusters=10)"
   ]
  },
  {
   "cell_type": "code",
   "execution_count": 269,
   "metadata": {},
   "outputs": [
    {
     "name": "stdout",
     "output_type": "stream",
     "text": [
      "0.062320954742490664\n"
     ]
    },
    {
     "data": {
      "text/plain": [
       "(array([8, 4, 0, ..., 1, 8, 9]), 0.062320954742490664)"
      ]
     },
     "execution_count": 269,
     "metadata": {},
     "output_type": "execute_result"
    }
   ],
   "source": [
    "kmeans(w2v_sentence_features, y_train, n_clusters=10)"
   ]
  },
  {
   "cell_type": "markdown",
   "metadata": {},
   "source": [
    "## Affinity Propagation"
   ]
  },
  {
   "cell_type": "code",
   "execution_count": 270,
   "metadata": {},
   "outputs": [],
   "source": [
    "def affinity(X_train, y_train, preference=None):\n",
    "    af = AffinityPropagation(preference=preference).fit(X_train)\n",
    "    print('Done')\n",
    "\n",
    "    # Pull the number of clusters and cluster assignments for each data point.\n",
    "    cluster_centers_indices = af.cluster_centers_indices_\n",
    "    n_clusters_ = len(cluster_centers_indices)\n",
    "    predict = af.labels_\n",
    "\n",
    "    print('Estimated number of clusters: {}'.format(n_clusters_))\n",
    "    print(adjusted_rand_score(y_train, predict))"
   ]
  },
  {
   "cell_type": "code",
   "execution_count": 273,
   "metadata": {
    "scrolled": true
   },
   "outputs": [
    {
     "name": "stdout",
     "output_type": "stream",
     "text": [
      "Done\n",
      "Estimated number of clusters: 14\n",
      "0.012247189775151343\n"
     ]
    }
   ],
   "source": [
    "affinity(bow_binary_features, y_train, preference=None)"
   ]
  },
  {
   "cell_type": "code",
   "execution_count": 274,
   "metadata": {},
   "outputs": [
    {
     "name": "stdout",
     "output_type": "stream",
     "text": [
      "Done\n",
      "Estimated number of clusters: 257\n",
      "0.010253987087928644\n"
     ]
    }
   ],
   "source": [
    "affinity(bow_binary_features_lsa, y_train, preference=None)"
   ]
  },
  {
   "cell_type": "code",
   "execution_count": 275,
   "metadata": {},
   "outputs": [
    {
     "name": "stdout",
     "output_type": "stream",
     "text": [
      "Done\n",
      "Estimated number of clusters: 95\n",
      "0.012519781868195901\n"
     ]
    }
   ],
   "source": [
    "affinity(bow_multinomial_features, y_train, preference=None)"
   ]
  },
  {
   "cell_type": "code",
   "execution_count": 276,
   "metadata": {},
   "outputs": [
    {
     "name": "stdout",
     "output_type": "stream",
     "text": [
      "Done\n",
      "Estimated number of clusters: 249\n",
      "0.014770675848790228\n"
     ]
    }
   ],
   "source": [
    "affinity(bow_multinomial_features_lsa, y_train, preference=None)"
   ]
  },
  {
   "cell_type": "code",
   "execution_count": 277,
   "metadata": {},
   "outputs": [
    {
     "name": "stdout",
     "output_type": "stream",
     "text": [
      "Done\n",
      "Estimated number of clusters: 100\n",
      "0.007616710452595742\n"
     ]
    }
   ],
   "source": [
    "affinity(tfidf_features, y_train, preference=None)"
   ]
  },
  {
   "cell_type": "code",
   "execution_count": 278,
   "metadata": {},
   "outputs": [
    {
     "name": "stdout",
     "output_type": "stream",
     "text": [
      "Done\n",
      "Estimated number of clusters: 346\n",
      "0.019914095755881295\n"
     ]
    }
   ],
   "source": [
    "affinity(tfidf_features_lsa, y_train, preference=None)"
   ]
  },
  {
   "cell_type": "code",
   "execution_count": 279,
   "metadata": {},
   "outputs": [
    {
     "name": "stdout",
     "output_type": "stream",
     "text": [
      "Done\n",
      "Estimated number of clusters: 120\n",
      "0.012494153606238217\n"
     ]
    }
   ],
   "source": [
    "affinity(ppmi_sentence_features_lsa, y_train, preference=None)"
   ]
  },
  {
   "cell_type": "code",
   "execution_count": 281,
   "metadata": {
    "scrolled": true
   },
   "outputs": [
    {
     "name": "stdout",
     "output_type": "stream",
     "text": [
      "Done\n",
      "Estimated number of clusters: 128\n",
      "0.019173306899778985\n"
     ]
    }
   ],
   "source": [
    "affinity(w2v_sentence_features, y_train, preference=None)"
   ]
  },
  {
   "cell_type": "markdown",
   "metadata": {},
   "source": [
    "## DBSCAN"
   ]
  },
  {
   "cell_type": "code",
   "execution_count": 282,
   "metadata": {},
   "outputs": [],
   "source": [
    "def dbscan(X_train, y_train, eps=1, min_samples=5, metric='manhattan', verbose=True):\n",
    "    # Declare and fit the model.\n",
    "    dbs = DBSCAN(eps=eps, min_samples=min_samples, metric=metric)\n",
    "\n",
    "    #Predicted clusters.\n",
    "    predict=dbs.fit_predict(X_train)\n",
    "    \n",
    "    if verbose:\n",
    "        print(adjusted_rand_score(y_train, predict))\n",
    "    \n",
    "    return predict, adjusted_rand_score(y_train, predict)"
   ]
  },
  {
   "cell_type": "code",
   "execution_count": 283,
   "metadata": {
    "scrolled": true
   },
   "outputs": [
    {
     "name": "stdout",
     "output_type": "stream",
     "text": [
      "0.0\n"
     ]
    },
    {
     "data": {
      "text/plain": [
       "(array([-1, -1, -1, ..., -1, -1, -1], dtype=int64), 0.0)"
      ]
     },
     "execution_count": 283,
     "metadata": {},
     "output_type": "execute_result"
    }
   ],
   "source": [
    "# unable to get more than 1 cluster\n",
    "dbscan(bow_binary_features, y_train, eps=1, min_samples=5, metric='l2')"
   ]
  },
  {
   "cell_type": "code",
   "execution_count": 284,
   "metadata": {},
   "outputs": [
    {
     "name": "stdout",
     "output_type": "stream",
     "text": [
      "0.0\n"
     ]
    },
    {
     "data": {
      "text/plain": [
       "(array([-1, -1, -1, ..., -1, -1, -1], dtype=int64), 0.0)"
      ]
     },
     "execution_count": 284,
     "metadata": {},
     "output_type": "execute_result"
    }
   ],
   "source": [
    "# unable to get more than 1 cluster\n",
    "dbscan(bow_binary_features_lsa, y_train, eps=1, min_samples=5, metric='euclidean')"
   ]
  },
  {
   "cell_type": "code",
   "execution_count": 285,
   "metadata": {},
   "outputs": [
    {
     "name": "stdout",
     "output_type": "stream",
     "text": [
      "0.0\n"
     ]
    },
    {
     "data": {
      "text/plain": [
       "(array([-1, -1, -1, ..., -1, -1, -1], dtype=int64), 0.0)"
      ]
     },
     "execution_count": 285,
     "metadata": {},
     "output_type": "execute_result"
    }
   ],
   "source": [
    "# unable to get more than 1 cluster\n",
    "dbscan(bow_multinomial_features, y_train, eps=1, min_samples=5, metric='l2')"
   ]
  },
  {
   "cell_type": "code",
   "execution_count": 286,
   "metadata": {},
   "outputs": [
    {
     "name": "stdout",
     "output_type": "stream",
     "text": [
      "0.004465766434823428\n"
     ]
    },
    {
     "data": {
      "text/plain": [
       "(array([-1, -1, -1, ...,  0, -1, -1], dtype=int64), 0.004465766434823428)"
      ]
     },
     "execution_count": 286,
     "metadata": {},
     "output_type": "execute_result"
    }
   ],
   "source": [
    "dbscan(bow_multinomial_features_lsa, y_train, eps=1, min_samples=5, metric='euclidean')"
   ]
  },
  {
   "cell_type": "code",
   "execution_count": 287,
   "metadata": {},
   "outputs": [
    {
     "name": "stdout",
     "output_type": "stream",
     "text": [
      "0.0\n"
     ]
    },
    {
     "data": {
      "text/plain": [
       "(array([-1, -1, -1, ..., -1, -1, -1], dtype=int64), 0.0)"
      ]
     },
     "execution_count": 287,
     "metadata": {},
     "output_type": "execute_result"
    }
   ],
   "source": [
    "# unable to get more than one cluster\n",
    "dbscan(tfidf_features, y_train, eps=1, min_samples=5, metric='l2')"
   ]
  },
  {
   "cell_type": "code",
   "execution_count": 288,
   "metadata": {},
   "outputs": [
    {
     "name": "stdout",
     "output_type": "stream",
     "text": [
      "0.00040003731191256593\n"
     ]
    },
    {
     "data": {
      "text/plain": [
       "(array([-1, -1, -1, ...,  0, -1, -1], dtype=int64), 0.00040003731191256593)"
      ]
     },
     "execution_count": 288,
     "metadata": {},
     "output_type": "execute_result"
    }
   ],
   "source": [
    "dbscan(tfidf_features_lsa, y_train, eps=1, min_samples=5, metric='l2')"
   ]
  },
  {
   "cell_type": "code",
   "execution_count": 289,
   "metadata": {},
   "outputs": [
    {
     "name": "stdout",
     "output_type": "stream",
     "text": [
      "3.119398232758351e-05\n"
     ]
    },
    {
     "data": {
      "text/plain": [
       "(array([-1,  0,  0, ...,  0, -1,  0], dtype=int64), 3.119398232758351e-05)"
      ]
     },
     "execution_count": 289,
     "metadata": {},
     "output_type": "execute_result"
    }
   ],
   "source": [
    "# close to random\n",
    "dbscan(ppmi_sentence_features_lsa, y_train, eps=3, min_samples=5, metric='manhattan')"
   ]
  },
  {
   "cell_type": "code",
   "execution_count": 290,
   "metadata": {
    "scrolled": true
   },
   "outputs": [
    {
     "name": "stdout",
     "output_type": "stream",
     "text": [
      "0.0\n"
     ]
    },
    {
     "data": {
      "text/plain": [
       "(array([0, 0, 0, ..., 0, 0, 0], dtype=int64), 0.0)"
      ]
     },
     "execution_count": 290,
     "metadata": {},
     "output_type": "execute_result"
    }
   ],
   "source": [
    "# unable to get more than one cluster\n",
    "dbscan(w2v_sentence_features, y_train, eps=1, min_samples=5, metric='l2')"
   ]
  },
  {
   "cell_type": "markdown",
   "metadata": {},
   "source": [
    "## Tune number of clusters\n",
    "Spectral clustering and kmeans have the highest adjusted Rand score, so I will look for the best number of clusters for these algorithms. I also create a method for estimating the accuracy of the clusters by assuming each cluster predicts the author for which most of its members represent."
   ]
  },
  {
   "cell_type": "code",
   "execution_count": 291,
   "metadata": {},
   "outputs": [],
   "source": [
    "def get_cluster_accuracy(cluster_labels, y_train, plot=True):\n",
    "    translated_labels = pd.DataFrame({'predict': cluster_labels,\n",
    "                                      'actual': y_train}).groupby('predict').apply(pd.DataFrame.mode).reset_index(drop=True)\n",
    "    translated_labels.drop('predict', axis=1).to_dict()\n",
    "    pred = np.apply_along_axis(translated_labels['actual'].get, 0, cluster_labels)\n",
    "    \n",
    "    if plot:\n",
    "        sns.heatmap(pd.crosstab(pred, np.array(y_train).reshape(1, -1)[0]).reindex(\n",
    "                labels=np.unique(y_train), axis='index', fill_value=0),\n",
    "            vmin=0, vmax=360, annot=True, fmt='.0f')\n",
    "        ax = plt.gca()\n",
    "        ax.set_ylabel('predicted')\n",
    "        ax.set_xlabel('actual')\n",
    "        plt.show()\n",
    "    return accuracy_score(pred, y_train), pred"
   ]
  },
  {
   "cell_type": "code",
   "execution_count": 292,
   "metadata": {},
   "outputs": [
    {
     "name": "stdout",
     "output_type": "stream",
     "text": [
      "0.16675470230083905\n"
     ]
    },
    {
     "data": {
      "image/png": "[encoded data removed]",
      "text/plain": [
       "<Figure size 432x288 with 2 Axes>"
      ]
     },
     "metadata": {
      "needs_background": "light"
     },
     "output_type": "display_data"
    },
    {
     "data": {
      "text/plain": [
       "(0.42388888888888887,\n",
       " array(['lawrence', 'wharton', 'hardy', ..., 'james', 'lawrence', 'eliot'],\n",
       "       dtype=object))"
      ]
     },
     "execution_count": 292,
     "metadata": {},
     "output_type": "execute_result"
    }
   ],
   "source": [
    "get_cluster_accuracy(spectral(tfidf_features_lsa, y_train, n_clusters=10, affinity='sigmoid')[0], y_train)"
   ]
  },
  {
   "cell_type": "code",
   "execution_count": 293,
   "metadata": {},
   "outputs": [
    {
     "name": "stdout",
     "output_type": "stream",
     "text": [
      "0.18406265526332657\n"
     ]
    },
    {
     "data": {
      "image/png": "[encoded data removed]",
      "text/plain": [
       "<Figure size 432x288 with 2 Axes>"
      ]
     },
     "metadata": {
      "needs_background": "light"
     },
     "output_type": "display_data"
    },
    {
     "data": {
      "text/plain": [
       "(0.42,\n",
       " array(['lawrence', 'gaskell', 'woolf', ..., 'james', 'lawrence', 'eliot'],\n",
       "       dtype=object))"
      ]
     },
     "execution_count": 293,
     "metadata": {},
     "output_type": "execute_result"
    }
   ],
   "source": [
    "get_cluster_accuracy(kmeans(tfidf_features_lsa, y_train, n_clusters=10)[0], y_train)"
   ]
  },
  {
   "cell_type": "markdown",
   "metadata": {},
   "source": [
    "### Spectral clustering with different affinities over different number of clusters"
   ]
  },
  {
   "cell_type": "code",
   "execution_count": 296,
   "metadata": {},
   "outputs": [],
   "source": [
    "def spectral_accuracies_for_range(X_train, y_train, affinity, sample=1, cluster_range=(10, 20)):\n",
    "    accuracies = dict()\n",
    "    accuracy_stds = dict()\n",
    "    adjusted_rands = dict()\n",
    "    ari_stds = dict()\n",
    "    for i in tqdm_notebook(range(cluster_range[0], cluster_range[1])):\n",
    "        cluster_accuracies = []\n",
    "        cluster_aris = []\n",
    "        for _ in range(5):\n",
    "            X_sample = pd.DataFrame(X_train).sample(frac=sample)\n",
    "            sample_index = list(X_sample.index)\n",
    "            y_sample = pd.DataFrame(y_train).loc[X_sample.index, :].values.flatten()\n",
    "            X_sample = X_sample.values\n",
    "\n",
    "            cluster_labels, ari = spectral(X_sample, y_sample, n_clusters=i, affinity=affinity, verbose=False)\n",
    "            cluster_aris.append(ari)\n",
    "\n",
    "            accuracy, _ = get_cluster_accuracy(cluster_labels, y_sample, plot=False)\n",
    "            cluster_accuracies.append(accuracy)\n",
    "            \n",
    "        accuracies[i] = np.mean(cluster_accuracies)\n",
    "        accuracy_stds[i] = np.std(cluster_accuracies)\n",
    "        adjusted_rands[i] = np.mean(cluster_aris)\n",
    "        ari_stds[i] = np.std(cluster_aris)\n",
    "        \n",
    "    return accuracies, accuracy_stds, adjusted_rands, ari_stds"
   ]
  },
  {
   "cell_type": "code",
   "execution_count": 297,
   "metadata": {
    "scrolled": true
   },
   "outputs": [
    {
     "data": {
      "application/vnd.jupyter.widget-view+json": {
       "model_id": "30998b6cba794b1bb3ecf2574bdbe779",
       "version_major": 2,
       "version_minor": 0
      },
      "text/plain": [
       "HBox(children=(IntProgress(value=0, max=30), HTML(value='')))"
      ]
     },
     "metadata": {},
     "output_type": "display_data"
    }
   ],
   "source": [
    "(spectral_acc,\n",
    " spectral_acc_std,\n",
    " spectral_ari,\n",
    " spectral_ari_std) = spectral_accuracies_for_range(tfidf_features_lsa, y_train, affinity='sigmoid', sample=0.9, cluster_range=(10, 40))"
   ]
  },
  {
   "cell_type": "code",
   "execution_count": 298,
   "metadata": {},
   "outputs": [
    {
     "name": "stdout",
     "output_type": "stream",
     "text": [
      "n \t ari \t\t ari_std \t accuracy \t accuracy_std\n",
      "10 \t 0.1627 \t 0.0065 \t 0.4156 \t 0.0085\n",
      "11 \t 0.1709 \t 0.0029 \t 0.4308 \t 0.0021\n",
      "12 \t 0.1593 \t 0.0099 \t 0.4099 \t 0.0167\n",
      "13 \t 0.1501 \t 0.0025 \t 0.2993 \t 0.1306\n",
      "14 \t 0.1582 \t 0.0066 \t 0.3852 \t 0.0689\n",
      "15 \t 0.1476 \t 0.0055 \t 0.4006 \t 0.0095\n",
      "16 \t 0.1528 \t 0.0044 \t 0.4228 \t 0.0009\n",
      "17 \t 0.1644 \t 0.0091 \t 0.4346 \t 0.0152\n",
      "18 \t 0.1653 \t 0.0132 \t 0.4419 \t 0.0241\n",
      "19 \t 0.1542 \t 0.0059 \t 0.4288 \t 0.0314\n",
      "20 \t 0.1508 \t 0.0140 \t 0.4007 \t 0.0520\n",
      "21 \t 0.1566 \t 0.0098 \t 0.2930 \t 0.1636\n",
      "22 \t 0.1567 \t 0.0084 \t 0.4303 \t 0.0341\n",
      "23 \t 0.1526 \t 0.0059 \t 0.4502 \t 0.0089\n",
      "24 \t 0.1381 \t 0.0067 \t 0.3660 \t 0.1027\n",
      "25 \t 0.1337 \t 0.0041 \t 0.4315 \t 0.0158\n",
      "26 \t 0.1390 \t 0.0091 \t 0.2437 \t 0.1298\n",
      "27 \t 0.1336 \t 0.0089 \t 0.1633 \t 0.0967\n",
      "28 \t 0.1190 \t 0.0062 \t 0.4338 \t 0.0170\n",
      "29 \t 0.1195 \t 0.0056 \t 0.3081 \t 0.1520\n",
      "30 \t 0.1158 \t 0.0072 \t 0.3693 \t 0.1095\n",
      "31 \t 0.1120 \t 0.0074 \t 0.2997 \t 0.1123\n",
      "32 \t 0.1109 \t 0.0092 \t 0.3928 \t 0.1221\n",
      "33 \t 0.1103 \t 0.0096 \t 0.2795 \t 0.1054\n",
      "34 \t 0.1052 \t 0.0079 \t 0.3177 \t 0.1213\n",
      "35 \t 0.1048 \t 0.0055 \t 0.4094 \t 0.0765\n",
      "36 \t 0.1000 \t 0.0090 \t 0.4206 \t 0.0573\n",
      "37 \t 0.0944 \t 0.0060 \t 0.2602 \t 0.1466\n",
      "38 \t 0.1026 \t 0.0113 \t 0.2317 \t 0.1463\n",
      "39 \t 0.0970 \t 0.0075 \t 0.2535 \t 0.1476\n"
     ]
    }
   ],
   "source": [
    "print('n \\t ari \\t\\t ari_std \\t accuracy \\t accuracy_std')\n",
    "for i in range(10, 40):\n",
    "    print('{} \\t {:.4f} \\t {:.4f} \\t {:.4f} \\t {:.4f}'.format(i, spectral_ari[i], spectral_ari_std[i], spectral_acc[i], spectral_acc_std[i]))"
   ]
  },
  {
   "cell_type": "code",
   "execution_count": 299,
   "metadata": {},
   "outputs": [
    {
     "data": {
      "application/vnd.jupyter.widget-view+json": {
       "model_id": "ed96f7ec48664b8ba7a446d59113198b",
       "version_major": 2,
       "version_minor": 0
      },
      "text/plain": [
       "HBox(children=(IntProgress(value=0, max=30), HTML(value='')))"
      ]
     },
     "metadata": {},
     "output_type": "display_data"
    }
   ],
   "source": [
    "(spectral_acc,\n",
    " spectral_acc_std,\n",
    " spectral_ari,\n",
    " spectral_ari_std) = spectral_accuracies_for_range(tfidf_features_lsa, y_train, affinity='linear', sample=0.9, cluster_range=(10, 40))"
   ]
  },
  {
   "cell_type": "code",
   "execution_count": 300,
   "metadata": {},
   "outputs": [
    {
     "name": "stdout",
     "output_type": "stream",
     "text": [
      "n \t ari \t\t ari_std \t accuracy \t accuracy_std\n",
      "10 \t 0.1616 \t 0.0091 \t 0.4074 \t 0.0105\n",
      "11 \t 0.1695 \t 0.0043 \t 0.4267 \t 0.0052\n",
      "12 \t 0.1575 \t 0.0052 \t 0.4154 \t 0.0057\n",
      "13 \t 0.1577 \t 0.0083 \t 0.4096 \t 0.0178\n",
      "14 \t 0.1634 \t 0.0066 \t 0.4255 \t 0.0099\n",
      "15 \t 0.1592 \t 0.0050 \t 0.3280 \t 0.1142\n",
      "16 \t 0.1729 \t 0.0113 \t 0.4017 \t 0.0818\n",
      "17 \t 0.1847 \t 0.0127 \t 0.4651 \t 0.0112\n",
      "18 \t 0.1796 \t 0.0152 \t 0.3921 \t 0.1208\n",
      "19 \t 0.1811 \t 0.0091 \t 0.4151 \t 0.1006\n",
      "20 \t 0.1850 \t 0.0069 \t 0.4853 \t 0.0043\n",
      "21 \t 0.1858 \t 0.0091 \t 0.3386 \t 0.1459\n",
      "22 \t 0.1761 \t 0.0060 \t 0.3680 \t 0.1464\n",
      "23 \t 0.1745 \t 0.0078 \t 0.4726 \t 0.0310\n",
      "24 \t 0.1702 \t 0.0079 \t 0.4538 \t 0.0858\n",
      "25 \t 0.1521 \t 0.0050 \t 0.4296 \t 0.0456\n",
      "26 \t 0.1375 \t 0.0118 \t 0.2286 \t 0.1649\n",
      "27 \t 0.1430 \t 0.0073 \t 0.3235 \t 0.1586\n",
      "28 \t 0.1318 \t 0.0082 \t 0.2909 \t 0.0868\n",
      "29 \t 0.1353 \t 0.0040 \t 0.3482 \t 0.1311\n",
      "30 \t 0.1268 \t 0.0067 \t 0.4019 \t 0.0712\n",
      "31 \t 0.1243 \t 0.0043 \t 0.4324 \t 0.0595\n",
      "32 \t 0.1183 \t 0.0118 \t 0.3923 \t 0.0876\n",
      "33 \t 0.1221 \t 0.0051 \t 0.3461 \t 0.1228\n",
      "34 \t 0.1214 \t 0.0104 \t 0.3832 \t 0.1028\n",
      "35 \t 0.1169 \t 0.0098 \t 0.3260 \t 0.1470\n",
      "36 \t 0.1125 \t 0.0073 \t 0.4002 \t 0.1008\n",
      "37 \t 0.1141 \t 0.0077 \t 0.3882 \t 0.0872\n",
      "38 \t 0.1106 \t 0.0089 \t 0.3982 \t 0.0635\n",
      "39 \t 0.1038 \t 0.0102 \t 0.3219 \t 0.0880\n"
     ]
    }
   ],
   "source": [
    "print('n \\t ari \\t\\t ari_std \\t accuracy \\t accuracy_std')\n",
    "for i in range(10, 40):\n",
    "    print('{} \\t {:.4f} \\t {:.4f} \\t {:.4f} \\t {:.4f}'.format(i, spectral_ari[i], spectral_ari_std[i], spectral_acc[i], spectral_acc_std[i]))"
   ]
  },
  {
   "cell_type": "code",
   "execution_count": 301,
   "metadata": {},
   "outputs": [
    {
     "data": {
      "application/vnd.jupyter.widget-view+json": {
       "model_id": "4725f17a6a684c228cac77e6dbf36beb",
       "version_major": 2,
       "version_minor": 0
      },
      "text/plain": [
       "HBox(children=(IntProgress(value=0, max=30), HTML(value='')))"
      ]
     },
     "metadata": {},
     "output_type": "display_data"
    }
   ],
   "source": [
    "(spectral_acc,\n",
    " spectral_acc_std,\n",
    " spectral_ari,\n",
    " spectral_ari_std) = spectral_accuracies_for_range(tfidf_features_lsa, y_train, affinity='poly', sample=0.9, cluster_range=(10, 40))"
   ]
  },
  {
   "cell_type": "code",
   "execution_count": 302,
   "metadata": {},
   "outputs": [
    {
     "name": "stdout",
     "output_type": "stream",
     "text": [
      "n \t ari \t\t ari_std \t accuracy \t accuracy_std\n",
      "10 \t 0.1620 \t 0.0052 \t 0.4173 \t 0.0054\n",
      "11 \t 0.1592 \t 0.0025 \t 0.4221 \t 0.0030\n",
      "12 \t 0.1553 \t 0.0069 \t 0.4217 \t 0.0110\n",
      "13 \t 0.1554 \t 0.0034 \t 0.4189 \t 0.0076\n",
      "14 \t 0.1583 \t 0.0101 \t 0.3356 \t 0.1167\n",
      "15 \t 0.1511 \t 0.0068 \t 0.3706 \t 0.1037\n",
      "16 \t 0.1575 \t 0.0075 \t 0.4089 \t 0.0444\n",
      "17 \t 0.1595 \t 0.0063 \t 0.4268 \t 0.0129\n",
      "18 \t 0.1622 \t 0.0056 \t 0.4406 \t 0.0081\n",
      "19 \t 0.1676 \t 0.0044 \t 0.4088 \t 0.0812\n",
      "20 \t 0.1538 \t 0.0038 \t 0.4165 \t 0.0281\n",
      "21 \t 0.1604 \t 0.0072 \t 0.4336 \t 0.0551\n",
      "22 \t 0.1576 \t 0.0047 \t 0.4551 \t 0.0116\n",
      "23 \t 0.1449 \t 0.0103 \t 0.4144 \t 0.0520\n",
      "24 \t 0.1433 \t 0.0084 \t 0.4447 \t 0.0089\n",
      "25 \t 0.1347 \t 0.0101 \t 0.3821 \t 0.1322\n",
      "26 \t 0.1253 \t 0.0064 \t 0.3899 \t 0.0517\n",
      "27 \t 0.1257 \t 0.0135 \t 0.3599 \t 0.1277\n",
      "28 \t 0.1246 \t 0.0070 \t 0.3398 \t 0.1330\n",
      "29 \t 0.1220 \t 0.0053 \t 0.4067 \t 0.0693\n",
      "30 \t 0.1125 \t 0.0064 \t 0.2781 \t 0.0911\n",
      "31 \t 0.1089 \t 0.0043 \t 0.2991 \t 0.1410\n",
      "32 \t 0.1120 \t 0.0111 \t 0.3856 \t 0.1091\n",
      "33 \t 0.1082 \t 0.0081 \t 0.3844 \t 0.1021\n",
      "34 \t 0.1039 \t 0.0087 \t 0.3034 \t 0.1307\n",
      "35 \t 0.1044 \t 0.0033 \t 0.2952 \t 0.1403\n",
      "36 \t 0.1021 \t 0.0047 \t 0.3993 \t 0.1144\n",
      "37 \t 0.1022 \t 0.0033 \t 0.2662 \t 0.1385\n",
      "38 \t 0.1015 \t 0.0092 \t 0.2622 \t 0.1249\n",
      "39 \t 0.0957 \t 0.0055 \t 0.3793 \t 0.1379\n"
     ]
    }
   ],
   "source": [
    "print('n \\t ari \\t\\t ari_std \\t accuracy \\t accuracy_std')\n",
    "for i in range(10, 40):\n",
    "    print('{} \\t {:.4f} \\t {:.4f} \\t {:.4f} \\t {:.4f}'.format(i, spectral_ari[i], spectral_ari_std[i], spectral_acc[i], spectral_acc_std[i]))"
   ]
  },
  {
   "cell_type": "code",
   "execution_count": 303,
   "metadata": {},
   "outputs": [
    {
     "data": {
      "application/vnd.jupyter.widget-view+json": {
       "model_id": "7c495ce9d752496db07ab04fd8ae1dab",
       "version_major": 2,
       "version_minor": 0
      },
      "text/plain": [
       "HBox(children=(IntProgress(value=0, max=30), HTML(value='')))"
      ]
     },
     "metadata": {},
     "output_type": "display_data"
    }
   ],
   "source": [
    "(spectral_acc,\n",
    " spectral_acc_std,\n",
    " spectral_ari,\n",
    " spectral_ari_std) = spectral_accuracies_for_range(tfidf_features_lsa, y_train, affinity='rbf', sample=0.9, cluster_range=(10, 40))"
   ]
  },
  {
   "cell_type": "code",
   "execution_count": 304,
   "metadata": {},
   "outputs": [
    {
     "name": "stdout",
     "output_type": "stream",
     "text": [
      "n \t ari \t\t ari_std \t accuracy \t accuracy_std\n",
      "10 \t 0.1497 \t 0.0096 \t 0.4030 \t 0.0111\n",
      "11 \t 0.1587 \t 0.0071 \t 0.4207 \t 0.0069\n",
      "12 \t 0.1509 \t 0.0040 \t 0.3573 \t 0.1133\n",
      "13 \t 0.1512 \t 0.0048 \t 0.3723 \t 0.0910\n",
      "14 \t 0.1537 \t 0.0059 \t 0.4234 \t 0.0093\n",
      "15 \t 0.1535 \t 0.0055 \t 0.4203 \t 0.0124\n",
      "16 \t 0.1666 \t 0.0030 \t 0.4262 \t 0.0302\n",
      "17 \t 0.1609 \t 0.0068 \t 0.4391 \t 0.0055\n",
      "18 \t 0.1636 \t 0.0077 \t 0.4051 \t 0.0675\n",
      "19 \t 0.1543 \t 0.0095 \t 0.3625 \t 0.1427\n",
      "20 \t 0.1609 \t 0.0102 \t 0.3664 \t 0.1186\n",
      "21 \t 0.1564 \t 0.0082 \t 0.3240 \t 0.1528\n",
      "22 \t 0.1509 \t 0.0039 \t 0.4096 \t 0.0502\n",
      "23 \t 0.1497 \t 0.0110 \t 0.3260 \t 0.1517\n",
      "24 \t 0.1446 \t 0.0085 \t 0.3307 \t 0.1185\n",
      "25 \t 0.1367 \t 0.0095 \t 0.3619 \t 0.1021\n",
      "26 \t 0.1254 \t 0.0049 \t 0.2824 \t 0.1457\n",
      "27 \t 0.1236 \t 0.0017 \t 0.4004 \t 0.0688\n",
      "28 \t 0.1143 \t 0.0067 \t 0.3033 \t 0.1317\n",
      "29 \t 0.1138 \t 0.0107 \t 0.2945 \t 0.1416\n",
      "30 \t 0.1155 \t 0.0059 \t 0.2965 \t 0.0965\n",
      "31 \t 0.1092 \t 0.0121 \t 0.3359 \t 0.1051\n",
      "32 \t 0.1053 \t 0.0086 \t 0.3657 \t 0.1289\n",
      "33 \t 0.1060 \t 0.0069 \t 0.2581 \t 0.1092\n",
      "34 \t 0.1063 \t 0.0044 \t 0.2891 \t 0.1480\n",
      "35 \t 0.1067 \t 0.0062 \t 0.3333 \t 0.1080\n",
      "36 \t 0.1030 \t 0.0055 \t 0.3534 \t 0.1220\n",
      "37 \t 0.1031 \t 0.0090 \t 0.2719 \t 0.1398\n",
      "38 \t 0.0926 \t 0.0013 \t 0.1896 \t 0.0996\n",
      "39 \t 0.0943 \t 0.0047 \t 0.4122 \t 0.0596\n"
     ]
    }
   ],
   "source": [
    "print('n \\t ari \\t\\t ari_std \\t accuracy \\t accuracy_std')\n",
    "for i in range(10, 40):\n",
    "    print('{} \\t {:.4f} \\t {:.4f} \\t {:.4f} \\t {:.4f}'.format(i, spectral_ari[i], spectral_ari_std[i], spectral_acc[i], spectral_acc_std[i]))"
   ]
  },
  {
   "cell_type": "markdown",
   "metadata": {},
   "source": [
    "### K-means clustering over different number of clusters"
   ]
  },
  {
   "cell_type": "code",
   "execution_count": 309,
   "metadata": {},
   "outputs": [],
   "source": [
    "def kmeans_accuracies_for_range(X_train, y_train, sample=1, cluster_range=(10, 20)):\n",
    "    accuracies = dict()\n",
    "    accuracy_stds = dict()\n",
    "    adjusted_rands = dict()\n",
    "    ari_stds = dict()\n",
    "    for i in tqdm_notebook(range(cluster_range[0], cluster_range[1])):\n",
    "        cluster_accuracies = []\n",
    "        cluster_aris = []\n",
    "        for _ in range(5):\n",
    "            X_sample = pd.DataFrame(X_train).sample(frac=sample)\n",
    "            sample_index = list(X_sample.index)\n",
    "            y_sample = pd.DataFrame(y_train).loc[X_sample.index, :].values.flatten()\n",
    "            X_sample = X_sample.values\n",
    "\n",
    "            cluster_labels, ari = kmeans(X_sample, y_sample, n_clusters=i, verbose=False)\n",
    "            cluster_aris.append(ari)\n",
    "\n",
    "            accuracy, _ = get_cluster_accuracy(cluster_labels, y_sample, plot=False)\n",
    "            cluster_accuracies.append(accuracy)\n",
    "            \n",
    "        accuracies[i] = np.mean(cluster_accuracies)\n",
    "        accuracy_stds[i] = np.std(cluster_accuracies)\n",
    "        adjusted_rands[i] = np.mean(cluster_aris)\n",
    "        ari_stds[i] = np.std(cluster_aris)\n",
    "        \n",
    "    return accuracies, accuracy_stds, adjusted_rands, ari_stds"
   ]
  },
  {
   "cell_type": "code",
   "execution_count": 310,
   "metadata": {
    "scrolled": false
   },
   "outputs": [
    {
     "data": {
      "application/vnd.jupyter.widget-view+json": {
       "model_id": "7824d873711c46d29eed302d22a8d270",
       "version_major": 2,
       "version_minor": 0
      },
      "text/plain": [
       "HBox(children=(IntProgress(value=0, max=30), HTML(value='')))"
      ]
     },
     "metadata": {},
     "output_type": "display_data"
    }
   ],
   "source": [
    "(kmeans_acc,\n",
    " kmeans_acc_std,\n",
    " kmeans_ari,\n",
    " kmeans_ari_std) = kmeans_accuracies_for_range(tfidf_features_lsa, y_train, sample=0.9, cluster_range=(10, 40))"
   ]
  },
  {
   "cell_type": "code",
   "execution_count": 311,
   "metadata": {},
   "outputs": [
    {
     "name": "stdout",
     "output_type": "stream",
     "text": [
      "n \t ari \t\t ari_std \t accuracy \t accuracy_std\n",
      "10 \t 0.1624 \t 0.0145 \t 0.3346 \t 0.0933\n",
      "11 \t 0.1523 \t 0.0153 \t 0.3920 \t 0.0163\n",
      "12 \t 0.1762 \t 0.0179 \t 0.4033 \t 0.0625\n",
      "13 \t 0.1688 \t 0.0114 \t 0.3531 \t 0.1018\n",
      "14 \t 0.1667 \t 0.0125 \t 0.4277 \t 0.0161\n",
      "15 \t 0.1735 \t 0.0335 \t 0.3838 \t 0.1388\n",
      "16 \t 0.1741 \t 0.0206 \t 0.3760 \t 0.1292\n",
      "17 \t 0.1541 \t 0.0190 \t 0.4068 \t 0.0577\n",
      "18 \t 0.1498 \t 0.0232 \t 0.4211 \t 0.0329\n",
      "19 \t 0.1560 \t 0.0062 \t 0.4077 \t 0.0322\n",
      "20 \t 0.1451 \t 0.0067 \t 0.3755 \t 0.1184\n",
      "21 \t 0.1536 \t 0.0266 \t 0.4485 \t 0.0417\n",
      "22 \t 0.1529 \t 0.0167 \t 0.4392 \t 0.0276\n",
      "23 \t 0.1424 \t 0.0155 \t 0.3594 \t 0.1389\n",
      "24 \t 0.1313 \t 0.0151 \t 0.3884 \t 0.0994\n",
      "25 \t 0.1441 \t 0.0167 \t 0.3901 \t 0.1164\n",
      "26 \t 0.1345 \t 0.0071 \t 0.4420 \t 0.0259\n",
      "27 \t 0.1310 \t 0.0103 \t 0.2956 \t 0.1069\n",
      "28 \t 0.1208 \t 0.0106 \t 0.4414 \t 0.0250\n",
      "29 \t 0.1251 \t 0.0132 \t 0.4336 \t 0.0453\n",
      "30 \t 0.1358 \t 0.0062 \t 0.4462 \t 0.0585\n",
      "31 \t 0.1215 \t 0.0044 \t 0.4304 \t 0.0602\n",
      "32 \t 0.1230 \t 0.0124 \t 0.3264 \t 0.1587\n",
      "33 \t 0.1183 \t 0.0105 \t 0.4478 \t 0.0253\n",
      "34 \t 0.1105 \t 0.0103 \t 0.3435 \t 0.1442\n",
      "35 \t 0.1146 \t 0.0055 \t 0.4438 \t 0.0472\n",
      "36 \t 0.1054 \t 0.0035 \t 0.3693 \t 0.0545\n",
      "37 \t 0.1073 \t 0.0072 \t 0.3850 \t 0.1206\n",
      "38 \t 0.1057 \t 0.0149 \t 0.3212 \t 0.1017\n",
      "39 \t 0.1054 \t 0.0064 \t 0.3795 \t 0.1055\n"
     ]
    }
   ],
   "source": [
    "print('n \\t ari \\t\\t ari_std \\t accuracy \\t accuracy_std')\n",
    "for i in range(10, 40):\n",
    "    print('{} \\t {:.4f} \\t {:.4f} \\t {:.4f} \\t {:.4f}'.format(i, kmeans_ari[i], kmeans_ari_std[i], kmeans_acc[i], kmeans_acc_std[i]))"
   ]
  },
  {
   "cell_type": "markdown",
   "metadata": {},
   "source": [
    "### Structural stability of clusters\n",
    "The highest adjusted Rand score with the lowest standard deviation was obtained by spectral clustering with affinity='cosine' and n_clusters=20. I will resample the training data at 66% for 152 times to see how stable the clusters are, using the figure of merit proposed in [\"Resampling Method For Unsupervised Estimation Of Cluster Validity\"](https://arxiv.org/abs/physics/0005046v1) by (Levine & Domany, 2000) to quantify structural stability."
   ]
  },
  {
   "cell_type": "code",
   "execution_count": 374,
   "metadata": {},
   "outputs": [],
   "source": [
    "def create_connectivity_matrix(cluster_labels, index, size):\n",
    "    connectivity_matrix = np.zeros((size, size))\n",
    "    missing_idxs = np.setdiff1d(range(size), index)\n",
    "    \n",
    "    history = []\n",
    "    for missing_idx in missing_idxs:\n",
    "        for prior_idx in history:\n",
    "            connectivity_matrix[missing_idx, prior_idx] = -1\n",
    "            connectivity_matrix[prior_idx, missing_idx] = -1\n",
    "        history.append(missing_idx)\n",
    "        \n",
    "    for label in np.unique(cluster_labels):\n",
    "        node_idxs = np.nonzero(cluster_labels==label)[0]\n",
    "        history = []\n",
    "        for node_idx in node_idxs:\n",
    "            for missing_idx in missing_idxs:\n",
    "                connectivity_matrix[missing_idx, index[node_idx]] = -1\n",
    "                connectivity_matrix[index[node_idx], missing_idx] = -1\n",
    "            for prior_idx in history:\n",
    "                connectivity_matrix[index[node_idx], prior_idx] = 1\n",
    "                connectivity_matrix[prior_idx, index[node_idx]] = 1\n",
    "            history.append(index[node_idx])\n",
    "    return connectivity_matrix\n",
    "\n",
    "# figure of merit for estimating cluster validity according to the paper\n",
    "# \"Resampling Method For Unsupervised EStimation of Cluster Validity\" by\n",
    "# Levine and Domany, 2018\n",
    "def figure_of_merit(original, resample):\n",
    "    # pairs that could have been connected given the resampled points\n",
    "    resample_mask = ma.masked_values(resample, -1).mask\n",
    "    original_masked = ma.masked_array(original, mask=resample_mask)\n",
    "    \n",
    "    # pairs that were connected in the original\n",
    "    original_mask = ma.masked_values(original_masked, 0).mask\n",
    "    resample_masked = ma.masked_array(resample, mask=original_mask)\n",
    "    \n",
    "    # number of pairs that are still connected in the resample\n",
    "    surviving_pairs = np.sum(resample_masked)/2\n",
    "    surviving_pairs if surviving_pairs != ma.core.MaskedConstant else 0\n",
    "    \n",
    "    # number of pairs that were connected in the original and could have been connected\n",
    "    possible_pairs = np.sum(original_masked)/2\n",
    "    possible_pairs if possible_pairs != ma.core.MaskedConstant else 0\n",
    "    \n",
    "    # figure of merit\n",
    "    return surviving_pairs/possible_pairs if possible_pairs > 0 else 1"
   ]
  },
  {
   "cell_type": "code",
   "execution_count": 378,
   "metadata": {
    "scrolled": true
   },
   "outputs": [],
   "source": [
    "def spectral_accuracies_for_nclusters(X_train, y_train, affinity, n_trials, orig_con_mat, sample=1, n_clusters=10):\n",
    "    predictions = pd.DataFrame(index=range(len(X_train)))\n",
    "    accuracies = dict()\n",
    "    adjusted_rands = dict()\n",
    "    figure_of_merits = []\n",
    "    for i in tqdm_notebook(range(n_trials)):\n",
    "        X_sample = pd.DataFrame(X_train).sample(frac=sample)\n",
    "        sample_index = list(X_sample.index)\n",
    "        y_sample = pd.DataFrame(y_train).loc[X_sample.index, :].values.flatten()\n",
    "        X_sample = X_sample.values\n",
    "        \n",
    "        cluster_labels, ari = spectral(X_sample, y_sample, n_clusters=n_clusters, affinity=affinity, verbose=False)\n",
    "        adjusted_rands[i] = ari\n",
    "        con_mat = create_connectivity_matrix(cluster_labels, sample_index, len(y_train))\n",
    "        figure_of_merits.append(figure_of_merit(orig_con_mat, con_mat))\n",
    "        \n",
    "        accuracy, pred = get_cluster_accuracy(cluster_labels, y_sample, plot=False)\n",
    "        predictions[predictions.shape[1]] = pd.Series(pred, index=sample_index)\n",
    "        accuracies[i] = accuracy\n",
    "        \n",
    "    return accuracies, adjusted_rands, predictions, figure_of_merits"
   ]
  },
  {
   "cell_type": "code",
   "execution_count": 386,
   "metadata": {},
   "outputs": [
    {
     "name": "stdout",
     "output_type": "stream",
     "text": [
      "0.19344448430807185\n"
     ]
    }
   ],
   "source": [
    "spectral_cluster_labels_20, _ = spectral(tfidf_features_lsa, y_train, n_clusters=20, affinity='linear')\n",
    "spectral_orig_con_mat_20 = create_connectivity_matrix(spectral_cluster_labels_20, range(len(y_train)), len(y_train))"
   ]
  },
  {
   "cell_type": "code",
   "execution_count": 387,
   "metadata": {
    "scrolled": true
   },
   "outputs": [
    {
     "data": {
      "application/vnd.jupyter.widget-view+json": {
       "model_id": "4676d7f8f48e400192b041814c28b420",
       "version_major": 2,
       "version_minor": 0
      },
      "text/plain": [
       "HBox(children=(IntProgress(value=0, max=152), HTML(value='')))"
      ]
     },
     "metadata": {},
     "output_type": "display_data"
    }
   ],
   "source": [
    "(spectral_accuracies_20,\n",
    " spectral_ari_20,\n",
    " spectral_predictions_20,\n",
    " spectral_foms_20) = spectral_accuracies_for_nclusters(tfidf_features_lsa,\n",
    "                                                       y_train,\n",
    "                                                       affinity='linear',\n",
    "                                                       n_trials=152,\n",
    "                                                       orig_con_mat=spectral_orig_con_mat_20,\n",
    "                                                       sample=0.66,\n",
    "                                                       n_clusters=20)"
   ]
  },
  {
   "cell_type": "code",
   "execution_count": 388,
   "metadata": {},
   "outputs": [
    {
     "name": "stdout",
     "output_type": "stream",
     "text": [
      "0.16570723160409917\n",
      "0.014738385479309045\n",
      "\n",
      "0.3822656388445862\n",
      "0.12075082187384409\n",
      "\n",
      "0.43792795987751443\n",
      "0.03923207036732916\n"
     ]
    }
   ],
   "source": [
    "print(np.mean(list(spectral_ari_20.values())))\n",
    "print(np.std(list(spectral_ari_20.values())))\n",
    "print()\n",
    "print(np.mean(list(spectral_accuracies_20.values())))\n",
    "print(np.std(list(spectral_accuracies_20.values())))\n",
    "print()\n",
    "print(np.mean(spectral_foms_20))\n",
    "print(np.std(spectral_foms_20))"
   ]
  },
  {
   "cell_type": "markdown",
   "metadata": {},
   "source": [
    "### Estimating accuracy and prediction stability\n",
    "We did 100 resamples of the training data, so we can calculate how often each point was predicted to be a certain author. "
   ]
  },
  {
   "cell_type": "code",
   "execution_count": 389,
   "metadata": {
    "scrolled": true
   },
   "outputs": [],
   "source": [
    "spectral_modes = spectral_predictions_20.apply(lambda x: x.value_counts()[0], axis=1)\n",
    "spectral_labels = spectral_predictions_20.apply(lambda x: x.value_counts().index[0], axis=1)\n",
    "spectral_nans = spectral_predictions_20.apply(lambda x: x.isna().sum(), axis=1)\n",
    "spectral_stabilities = spectral_modes / (152 - spectral_nans)"
   ]
  },
  {
   "cell_type": "code",
   "execution_count": 393,
   "metadata": {},
   "outputs": [
    {
     "data": {
      "image/png": "[encoded data removed]",
      "text/plain": [
       "<Figure size 432x288 with 1 Axes>"
      ]
     },
     "metadata": {
      "needs_background": "light"
     },
     "output_type": "display_data"
    }
   ],
   "source": [
    "spectral_stabilities.hist()\n",
    "plt.show()"
   ]
  },
  {
   "cell_type": "code",
   "execution_count": 394,
   "metadata": {
    "scrolled": true
   },
   "outputs": [
    {
     "data": {
      "text/html": [
       "<div>\n",
       "<style scoped>\n",
       "    .dataframe tbody tr th:only-of-type {\n",
       "        vertical-align: middle;\n",
       "    }\n",
       "\n",
       "    .dataframe tbody tr th {\n",
       "        vertical-align: top;\n",
       "    }\n",
       "\n",
       "    .dataframe thead th {\n",
       "        text-align: right;\n",
       "    }\n",
       "</style>\n",
       "<table border=\"1\" class=\"dataframe\">\n",
       "  <thead>\n",
       "    <tr style=\"text-align: right;\">\n",
       "      <th></th>\n",
       "      <th>stability</th>\n",
       "      <th>pred</th>\n",
       "      <th>label</th>\n",
       "    </tr>\n",
       "  </thead>\n",
       "  <tbody>\n",
       "    <tr>\n",
       "      <th>0</th>\n",
       "      <td>0.562500</td>\n",
       "      <td>lawrence</td>\n",
       "      <td>lawrence</td>\n",
       "    </tr>\n",
       "    <tr>\n",
       "      <th>1</th>\n",
       "      <td>0.457944</td>\n",
       "      <td>gaskell</td>\n",
       "      <td>gaskell</td>\n",
       "    </tr>\n",
       "    <tr>\n",
       "      <th>2</th>\n",
       "      <td>0.485149</td>\n",
       "      <td>wharton</td>\n",
       "      <td>collins</td>\n",
       "    </tr>\n",
       "    <tr>\n",
       "      <th>3</th>\n",
       "      <td>0.403846</td>\n",
       "      <td>collins</td>\n",
       "      <td>collins</td>\n",
       "    </tr>\n",
       "    <tr>\n",
       "      <th>4</th>\n",
       "      <td>0.476190</td>\n",
       "      <td>lawrence</td>\n",
       "      <td>bronte</td>\n",
       "    </tr>\n",
       "  </tbody>\n",
       "</table>\n",
       "</div>"
      ],
      "text/plain": [
       "   stability      pred     label\n",
       "0   0.562500  lawrence  lawrence\n",
       "1   0.457944   gaskell   gaskell\n",
       "2   0.485149   wharton   collins\n",
       "3   0.403846   collins   collins\n",
       "4   0.476190  lawrence    bronte"
      ]
     },
     "execution_count": 394,
     "metadata": {},
     "output_type": "execute_result"
    }
   ],
   "source": [
    "spectral_20_train_results = pd.DataFrame({'stability': spectral_stabilities, 'pred':spectral_labels, 'label': y_train})\n",
    "spectral_20_train_results.head()"
   ]
  },
  {
   "cell_type": "code",
   "execution_count": 395,
   "metadata": {},
   "outputs": [
    {
     "data": {
      "text/html": [
       "<div>\n",
       "<style scoped>\n",
       "    .dataframe tbody tr th:only-of-type {\n",
       "        vertical-align: middle;\n",
       "    }\n",
       "\n",
       "    .dataframe tbody tr th {\n",
       "        vertical-align: top;\n",
       "    }\n",
       "\n",
       "    .dataframe thead th {\n",
       "        text-align: right;\n",
       "    }\n",
       "</style>\n",
       "<table border=\"1\" class=\"dataframe\">\n",
       "  <thead>\n",
       "    <tr style=\"text-align: right;\">\n",
       "      <th></th>\n",
       "      <th>stability</th>\n",
       "    </tr>\n",
       "    <tr>\n",
       "      <th>label</th>\n",
       "      <th></th>\n",
       "    </tr>\n",
       "  </thead>\n",
       "  <tbody>\n",
       "    <tr>\n",
       "      <th>austen</th>\n",
       "      <td>0.735768</td>\n",
       "    </tr>\n",
       "    <tr>\n",
       "      <th>bronte</th>\n",
       "      <td>0.444524</td>\n",
       "    </tr>\n",
       "    <tr>\n",
       "      <th>collins</th>\n",
       "      <td>0.646149</td>\n",
       "    </tr>\n",
       "    <tr>\n",
       "      <th>eliot</th>\n",
       "      <td>0.612245</td>\n",
       "    </tr>\n",
       "    <tr>\n",
       "      <th>gaskell</th>\n",
       "      <td>0.586671</td>\n",
       "    </tr>\n",
       "    <tr>\n",
       "      <th>hardy</th>\n",
       "      <td>0.482857</td>\n",
       "    </tr>\n",
       "    <tr>\n",
       "      <th>james</th>\n",
       "      <td>0.797980</td>\n",
       "    </tr>\n",
       "    <tr>\n",
       "      <th>lawrence</th>\n",
       "      <td>0.584158</td>\n",
       "    </tr>\n",
       "    <tr>\n",
       "      <th>wharton</th>\n",
       "      <td>0.580125</td>\n",
       "    </tr>\n",
       "    <tr>\n",
       "      <th>woolf</th>\n",
       "      <td>0.656863</td>\n",
       "    </tr>\n",
       "  </tbody>\n",
       "</table>\n",
       "</div>"
      ],
      "text/plain": [
       "          stability\n",
       "label              \n",
       "austen     0.735768\n",
       "bronte     0.444524\n",
       "collins    0.646149\n",
       "eliot      0.612245\n",
       "gaskell    0.586671\n",
       "hardy      0.482857\n",
       "james      0.797980\n",
       "lawrence   0.584158\n",
       "wharton    0.580125\n",
       "woolf      0.656863"
      ]
     },
     "execution_count": 395,
     "metadata": {},
     "output_type": "execute_result"
    }
   ],
   "source": [
    "# stability for authors that are predicted correctly\n",
    "spectral_20_train_results.loc[spectral_20_train_results['pred'] == spectral_20_train_results['label'], ['stability', 'label']].sort_values(by='stability', ascending=False).groupby('label').median()"
   ]
  },
  {
   "cell_type": "code",
   "execution_count": 396,
   "metadata": {},
   "outputs": [
    {
     "data": {
      "text/html": [
       "<div>\n",
       "<style scoped>\n",
       "    .dataframe tbody tr th:only-of-type {\n",
       "        vertical-align: middle;\n",
       "    }\n",
       "\n",
       "    .dataframe tbody tr th {\n",
       "        vertical-align: top;\n",
       "    }\n",
       "\n",
       "    .dataframe thead th {\n",
       "        text-align: right;\n",
       "    }\n",
       "</style>\n",
       "<table border=\"1\" class=\"dataframe\">\n",
       "  <thead>\n",
       "    <tr style=\"text-align: right;\">\n",
       "      <th></th>\n",
       "      <th>stability</th>\n",
       "    </tr>\n",
       "    <tr>\n",
       "      <th>label</th>\n",
       "      <th></th>\n",
       "    </tr>\n",
       "  </thead>\n",
       "  <tbody>\n",
       "    <tr>\n",
       "      <th>austen</th>\n",
       "      <td>0.455428</td>\n",
       "    </tr>\n",
       "    <tr>\n",
       "      <th>bronte</th>\n",
       "      <td>0.436170</td>\n",
       "    </tr>\n",
       "    <tr>\n",
       "      <th>collins</th>\n",
       "      <td>0.412371</td>\n",
       "    </tr>\n",
       "    <tr>\n",
       "      <th>eliot</th>\n",
       "      <td>0.407587</td>\n",
       "    </tr>\n",
       "    <tr>\n",
       "      <th>gaskell</th>\n",
       "      <td>0.456311</td>\n",
       "    </tr>\n",
       "    <tr>\n",
       "      <th>hardy</th>\n",
       "      <td>0.415842</td>\n",
       "    </tr>\n",
       "    <tr>\n",
       "      <th>james</th>\n",
       "      <td>0.432692</td>\n",
       "    </tr>\n",
       "    <tr>\n",
       "      <th>lawrence</th>\n",
       "      <td>0.408249</td>\n",
       "    </tr>\n",
       "    <tr>\n",
       "      <th>wharton</th>\n",
       "      <td>0.429286</td>\n",
       "    </tr>\n",
       "    <tr>\n",
       "      <th>woolf</th>\n",
       "      <td>0.405941</td>\n",
       "    </tr>\n",
       "  </tbody>\n",
       "</table>\n",
       "</div>"
      ],
      "text/plain": [
       "          stability\n",
       "label              \n",
       "austen     0.455428\n",
       "bronte     0.436170\n",
       "collins    0.412371\n",
       "eliot      0.407587\n",
       "gaskell    0.456311\n",
       "hardy      0.415842\n",
       "james      0.432692\n",
       "lawrence   0.408249\n",
       "wharton    0.429286\n",
       "woolf      0.405941"
      ]
     },
     "execution_count": 396,
     "metadata": {},
     "output_type": "execute_result"
    }
   ],
   "source": [
    "# stability for authors not predicted correctly\n",
    "spectral_20_train_results.loc[spectral_20_train_results['pred'] != spectral_20_train_results['label'], ['stability', 'label']].sort_values(by='stability', ascending=False).groupby('label').median()"
   ]
  },
  {
   "cell_type": "code",
   "execution_count": 397,
   "metadata": {},
   "outputs": [
    {
     "data": {
      "image/png": "[encoded data removed]",
      "text/plain": [
       "<Figure size 432x288 with 1 Axes>"
      ]
     },
     "metadata": {
      "needs_background": "light"
     },
     "output_type": "display_data"
    }
   ],
   "source": [
    "# stability for authors not predicted correctly\n",
    "spectral_20_train_results.loc[spectral_20_train_results['pred'] != spectral_20_train_results['label'], ['stability']].hist()\n",
    "plt.show()"
   ]
  },
  {
   "cell_type": "code",
   "execution_count": 398,
   "metadata": {
    "scrolled": true
   },
   "outputs": [
    {
     "data": {
      "text/plain": [
       "0.5388888888888889"
      ]
     },
     "execution_count": 398,
     "metadata": {},
     "output_type": "execute_result"
    }
   ],
   "source": [
    "# accuracy of clustering\n",
    "spectral_20_train_results.loc[spectral_20_train_results['pred'] == spectral_20_train_results['label'], :].shape[0] / len(X_train)"
   ]
  },
  {
   "cell_type": "markdown",
   "metadata": {},
   "source": [
    "### Stability of clusters found in holdout set"
   ]
  },
  {
   "cell_type": "code",
   "execution_count": 399,
   "metadata": {},
   "outputs": [
    {
     "name": "stdout",
     "output_type": "stream",
     "text": [
      "0.13776973371490078\n"
     ]
    }
   ],
   "source": [
    "holdout_cluster_labels_20, _ = spectral(holdout_tfidf_features_lsa, y_test, n_clusters=20, affinity='linear')\n",
    "holdout_orig_con_mat_20 = create_connectivity_matrix(holdout_cluster_labels_20, range(len(y_test)), len(y_test))"
   ]
  },
  {
   "cell_type": "code",
   "execution_count": 400,
   "metadata": {
    "scrolled": true
   },
   "outputs": [
    {
     "data": {
      "application/vnd.jupyter.widget-view+json": {
       "model_id": "7fc652306a214b5d9220704b0e31c7b7",
       "version_major": 2,
       "version_minor": 0
      },
      "text/plain": [
       "HBox(children=(IntProgress(value=0, max=152), HTML(value='')))"
      ]
     },
     "metadata": {},
     "output_type": "display_data"
    }
   ],
   "source": [
    "(holdout_accuracies_20,\n",
    " holdout_ari_20,\n",
    " holdout_predictions_20,\n",
    " holdout_foms_20) = spectral_accuracies_for_nclusters(holdout_tfidf_features_lsa,\n",
    "                                                       y_test,\n",
    "                                                       affinity='linear',\n",
    "                                                       n_trials=152,\n",
    "                                                       orig_con_mat=holdout_orig_con_mat_20,\n",
    "                                                       sample=0.66,\n",
    "                                                       n_clusters=20)"
   ]
  },
  {
   "cell_type": "code",
   "execution_count": 430,
   "metadata": {},
   "outputs": [],
   "source": [
    "def print_cluster_stats(aris, accuracies, foms):\n",
    "    print('Mean adjusted Rand index: {}'.format(np.mean(list(aris.values()))))\n",
    "    print('Std adjusted Rand index: {}'.format(np.std(list(aris.values()))))\n",
    "    print()\n",
    "    print('Mean accuracy: {}'.format(np.mean(list(accuracies.values()))))\n",
    "    print('Std accuracy: {}'.format(np.std(list(accuracies.values()))))\n",
    "    print()\n",
    "    print('Mean figure of merit: {}'.format(np.mean(foms)))\n",
    "    print('Std figure of merit: {}'.format(np.std(foms)))"
   ]
  },
  {
   "cell_type": "code",
   "execution_count": 401,
   "metadata": {},
   "outputs": [
    {
     "name": "stdout",
     "output_type": "stream",
     "text": [
      "0.13249515998133607\n",
      "0.016279448292064982\n",
      "\n",
      "0.26646398192450826\n",
      "0.12449258395044108\n",
      "\n",
      "0.36635350238588454\n",
      "0.031725212933314755\n"
     ]
    }
   ],
   "source": [
    "print(np.mean(list(holdout_ari_20.values())))\n",
    "print(np.std(list(holdout_ari_20.values())))\n",
    "print()\n",
    "print(np.mean(list(holdout_accuracies_20.values())))\n",
    "print(np.std(list(holdout_accuracies_20.values())))\n",
    "print()\n",
    "print(np.mean(holdout_foms_20))\n",
    "print(np.std(holdout_foms_20))"
   ]
  },
  {
   "cell_type": "code",
   "execution_count": 411,
   "metadata": {
    "scrolled": true
   },
   "outputs": [],
   "source": [
    "spectral_modes = holdout_predictions_20.apply(lambda x: x.value_counts()[0], axis=1)\n",
    "spectral_labels = holdout_predictions_20.apply(lambda x: x.value_counts().index[0], axis=1)\n",
    "spectral_nans = holdout_predictions_20.apply(lambda x: x.isna().sum(), axis=1)\n",
    "spectral_stabilities = spectral_modes / (152 - spectral_nans)"
   ]
  },
  {
   "cell_type": "code",
   "execution_count": 412,
   "metadata": {},
   "outputs": [
    {
     "data": {
      "image/png": "[encoded data removed]",
      "text/plain": [
       "<Figure size 432x288 with 1 Axes>"
      ]
     },
     "metadata": {
      "needs_background": "light"
     },
     "output_type": "display_data"
    }
   ],
   "source": [
    "spectral_stabilities.hist()\n",
    "plt.show()"
   ]
  },
  {
   "cell_type": "code",
   "execution_count": 414,
   "metadata": {
    "scrolled": true
   },
   "outputs": [
    {
     "data": {
      "text/html": [
       "<div>\n",
       "<style scoped>\n",
       "    .dataframe tbody tr th:only-of-type {\n",
       "        vertical-align: middle;\n",
       "    }\n",
       "\n",
       "    .dataframe tbody tr th {\n",
       "        vertical-align: top;\n",
       "    }\n",
       "\n",
       "    .dataframe thead th {\n",
       "        text-align: right;\n",
       "    }\n",
       "</style>\n",
       "<table border=\"1\" class=\"dataframe\">\n",
       "  <thead>\n",
       "    <tr style=\"text-align: right;\">\n",
       "      <th></th>\n",
       "      <th>stability</th>\n",
       "      <th>pred</th>\n",
       "      <th>label</th>\n",
       "    </tr>\n",
       "  </thead>\n",
       "  <tbody>\n",
       "    <tr>\n",
       "      <th>0</th>\n",
       "      <td>0.291262</td>\n",
       "      <td>bronte</td>\n",
       "      <td>bronte</td>\n",
       "    </tr>\n",
       "    <tr>\n",
       "      <th>1</th>\n",
       "      <td>0.215054</td>\n",
       "      <td>eliot</td>\n",
       "      <td>lawrence</td>\n",
       "    </tr>\n",
       "    <tr>\n",
       "      <th>2</th>\n",
       "      <td>0.526882</td>\n",
       "      <td>james</td>\n",
       "      <td>james</td>\n",
       "    </tr>\n",
       "    <tr>\n",
       "      <th>3</th>\n",
       "      <td>0.610526</td>\n",
       "      <td>james</td>\n",
       "      <td>james</td>\n",
       "    </tr>\n",
       "    <tr>\n",
       "      <th>4</th>\n",
       "      <td>0.434343</td>\n",
       "      <td>austen</td>\n",
       "      <td>austen</td>\n",
       "    </tr>\n",
       "  </tbody>\n",
       "</table>\n",
       "</div>"
      ],
      "text/plain": [
       "   stability    pred     label\n",
       "0   0.291262  bronte    bronte\n",
       "1   0.215054   eliot  lawrence\n",
       "2   0.526882   james     james\n",
       "3   0.610526   james     james\n",
       "4   0.434343  austen    austen"
      ]
     },
     "execution_count": 414,
     "metadata": {},
     "output_type": "execute_result"
    }
   ],
   "source": [
    "holdout_20_train_results = pd.DataFrame({'stability': spectral_stabilities, 'pred':spectral_labels, 'label': y_test})\n",
    "holdout_20_train_results.head()"
   ]
  },
  {
   "cell_type": "code",
   "execution_count": 415,
   "metadata": {},
   "outputs": [
    {
     "data": {
      "text/html": [
       "<div>\n",
       "<style scoped>\n",
       "    .dataframe tbody tr th:only-of-type {\n",
       "        vertical-align: middle;\n",
       "    }\n",
       "\n",
       "    .dataframe tbody tr th {\n",
       "        vertical-align: top;\n",
       "    }\n",
       "\n",
       "    .dataframe thead th {\n",
       "        text-align: right;\n",
       "    }\n",
       "</style>\n",
       "<table border=\"1\" class=\"dataframe\">\n",
       "  <thead>\n",
       "    <tr style=\"text-align: right;\">\n",
       "      <th></th>\n",
       "      <th>stability</th>\n",
       "    </tr>\n",
       "    <tr>\n",
       "      <th>label</th>\n",
       "      <th></th>\n",
       "    </tr>\n",
       "  </thead>\n",
       "  <tbody>\n",
       "    <tr>\n",
       "      <th>austen</th>\n",
       "      <td>0.425070</td>\n",
       "    </tr>\n",
       "    <tr>\n",
       "      <th>bronte</th>\n",
       "      <td>0.323529</td>\n",
       "    </tr>\n",
       "    <tr>\n",
       "      <th>collins</th>\n",
       "      <td>0.331502</td>\n",
       "    </tr>\n",
       "    <tr>\n",
       "      <th>eliot</th>\n",
       "      <td>0.360463</td>\n",
       "    </tr>\n",
       "    <tr>\n",
       "      <th>gaskell</th>\n",
       "      <td>0.347643</td>\n",
       "    </tr>\n",
       "    <tr>\n",
       "      <th>hardy</th>\n",
       "      <td>0.303030</td>\n",
       "    </tr>\n",
       "    <tr>\n",
       "      <th>james</th>\n",
       "      <td>0.584158</td>\n",
       "    </tr>\n",
       "    <tr>\n",
       "      <th>lawrence</th>\n",
       "      <td>0.343000</td>\n",
       "    </tr>\n",
       "    <tr>\n",
       "      <th>wharton</th>\n",
       "      <td>0.290000</td>\n",
       "    </tr>\n",
       "    <tr>\n",
       "      <th>woolf</th>\n",
       "      <td>0.402062</td>\n",
       "    </tr>\n",
       "  </tbody>\n",
       "</table>\n",
       "</div>"
      ],
      "text/plain": [
       "          stability\n",
       "label              \n",
       "austen     0.425070\n",
       "bronte     0.323529\n",
       "collins    0.331502\n",
       "eliot      0.360463\n",
       "gaskell    0.347643\n",
       "hardy      0.303030\n",
       "james      0.584158\n",
       "lawrence   0.343000\n",
       "wharton    0.290000\n",
       "woolf      0.402062"
      ]
     },
     "execution_count": 415,
     "metadata": {},
     "output_type": "execute_result"
    }
   ],
   "source": [
    "# stability for authors that are predicted correctly\n",
    "holdout_20_train_results.loc[holdout_20_train_results['pred'] == holdout_20_train_results['label'], ['stability', 'label']].sort_values(by='stability', ascending=False).groupby('label').median()"
   ]
  },
  {
   "cell_type": "code",
   "execution_count": 416,
   "metadata": {},
   "outputs": [
    {
     "data": {
      "text/html": [
       "<div>\n",
       "<style scoped>\n",
       "    .dataframe tbody tr th:only-of-type {\n",
       "        vertical-align: middle;\n",
       "    }\n",
       "\n",
       "    .dataframe tbody tr th {\n",
       "        vertical-align: top;\n",
       "    }\n",
       "\n",
       "    .dataframe thead th {\n",
       "        text-align: right;\n",
       "    }\n",
       "</style>\n",
       "<table border=\"1\" class=\"dataframe\">\n",
       "  <thead>\n",
       "    <tr style=\"text-align: right;\">\n",
       "      <th></th>\n",
       "      <th>stability</th>\n",
       "    </tr>\n",
       "    <tr>\n",
       "      <th>label</th>\n",
       "      <th></th>\n",
       "    </tr>\n",
       "  </thead>\n",
       "  <tbody>\n",
       "    <tr>\n",
       "      <th>austen</th>\n",
       "      <td>0.298515</td>\n",
       "    </tr>\n",
       "    <tr>\n",
       "      <th>bronte</th>\n",
       "      <td>0.283519</td>\n",
       "    </tr>\n",
       "    <tr>\n",
       "      <th>collins</th>\n",
       "      <td>0.277778</td>\n",
       "    </tr>\n",
       "    <tr>\n",
       "      <th>eliot</th>\n",
       "      <td>0.257732</td>\n",
       "    </tr>\n",
       "    <tr>\n",
       "      <th>gaskell</th>\n",
       "      <td>0.252525</td>\n",
       "    </tr>\n",
       "    <tr>\n",
       "      <th>hardy</th>\n",
       "      <td>0.265477</td>\n",
       "    </tr>\n",
       "    <tr>\n",
       "      <th>james</th>\n",
       "      <td>0.267327</td>\n",
       "    </tr>\n",
       "    <tr>\n",
       "      <th>lawrence</th>\n",
       "      <td>0.226804</td>\n",
       "    </tr>\n",
       "    <tr>\n",
       "      <th>wharton</th>\n",
       "      <td>0.283066</td>\n",
       "    </tr>\n",
       "    <tr>\n",
       "      <th>woolf</th>\n",
       "      <td>0.261682</td>\n",
       "    </tr>\n",
       "  </tbody>\n",
       "</table>\n",
       "</div>"
      ],
      "text/plain": [
       "          stability\n",
       "label              \n",
       "austen     0.298515\n",
       "bronte     0.283519\n",
       "collins    0.277778\n",
       "eliot      0.257732\n",
       "gaskell    0.252525\n",
       "hardy      0.265477\n",
       "james      0.267327\n",
       "lawrence   0.226804\n",
       "wharton    0.283066\n",
       "woolf      0.261682"
      ]
     },
     "execution_count": 416,
     "metadata": {},
     "output_type": "execute_result"
    }
   ],
   "source": [
    "# stability for authors not predicted correctly\n",
    "holdout_20_train_results.loc[holdout_20_train_results['pred'] != holdout_20_train_results['label'], ['stability', 'label']].sort_values(by='stability', ascending=False).groupby('label').median()"
   ]
  },
  {
   "cell_type": "code",
   "execution_count": 417,
   "metadata": {},
   "outputs": [
    {
     "data": {
      "image/png": "[encoded data removed]",
      "text/plain": [
       "<Figure size 432x288 with 1 Axes>"
      ]
     },
     "metadata": {
      "needs_background": "light"
     },
     "output_type": "display_data"
    }
   ],
   "source": [
    "# stability for authors not predicted correctly\n",
    "holdout_20_train_results.loc[holdout_20_train_results['pred'] != holdout_20_train_results['label'], ['stability']].hist()\n",
    "plt.show()"
   ]
  },
  {
   "cell_type": "code",
   "execution_count": 418,
   "metadata": {},
   "outputs": [
    {
     "data": {
      "text/plain": [
       "0.1938888888888889"
      ]
     },
     "execution_count": 418,
     "metadata": {},
     "output_type": "execute_result"
    }
   ],
   "source": [
    "# accuracy of clustering\n",
    "holdout_20_train_results.loc[holdout_20_train_results['pred'] == holdout_20_train_results['label'], :].shape[0] / len(X_train)"
   ]
  },
  {
   "cell_type": "markdown",
   "metadata": {},
   "source": [
    "# Test on hold out set\n",
    "To test the stability of these clusters on the holdout set, we can resample the data again, but with the holdout set included. I've chosen to include all the data in the holdout set and include a random subset of 66% the training data for each resampling to match the amount used in calculating the figure of merit."
   ]
  },
  {
   "cell_type": "code",
   "execution_count": 443,
   "metadata": {},
   "outputs": [],
   "source": [
    "def spectral_accuracies_for_holdout(X_train, y_train, X_test, y_test, affinity,\n",
    "                                    n_trials, orig_con_mat, sample=1, n_clusters=10, fom='train'):\n",
    "    predictions = pd.DataFrame(index=range(len(X_train) + len(X_test)))\n",
    "    accuracies = dict()\n",
    "    adjusted_rands = dict()\n",
    "    figure_of_merits = []\n",
    "    for i in tqdm_notebook(range(n_trials)):\n",
    "        X_sample = pd.DataFrame(X_train).sample(frac=sample)\n",
    "        sample_index = list(X_sample.index)\n",
    "        y_sample = pd.DataFrame(y_train).loc[X_sample.index, :].values.flatten()\n",
    "        X_sample = X_sample.values\n",
    "\n",
    "        # add the index for holdout data\n",
    "        sample_index += list(range(len(X_train), len(X_train) + len(X_test)))\n",
    "\n",
    "        # append the holdout data\n",
    "        X_sample = np.concatenate((X_sample, X_test), axis=0)\n",
    "        y_sample = np.concatenate((y_sample, y_test), axis=0)\n",
    "\n",
    "        cluster_labels, ari = spectral(X_sample, y_sample, n_clusters=n_clusters, affinity=affinity, verbose=False)\n",
    "        adjusted_rands[i] = ari\n",
    "        if fom == 'train':\n",
    "            con_mat = create_connectivity_matrix(cluster_labels[:len(y_sample)-len(y_test)],\n",
    "                                                 sample_index[:len(y_sample)-len(y_test)],\n",
    "                                                 len(y_train))\n",
    "        elif fom == 'test':\n",
    "            con_mat = create_connectivity_matrix(cluster_labels[len(y_sample)-len(y_test):],\n",
    "                                                 range(len(y_test)),\n",
    "                                                 len(y_test))\n",
    "        figure_of_merits.append(figure_of_merit(orig_con_mat, con_mat))\n",
    "\n",
    "        accuracy, pred = get_cluster_accuracy(cluster_labels, y_sample, plot=False)\n",
    "        predictions[predictions.shape[1]] = pd.Series(pred, index=sample_index)\n",
    "        accuracies[i] = accuracy\n",
    "        \n",
    "    return accuracies, adjusted_rands, predictions, figure_of_merits"
   ]
  },
  {
   "cell_type": "markdown",
   "metadata": {},
   "source": [
    "## Structural stability for holdout observations"
   ]
  },
  {
   "cell_type": "code",
   "execution_count": 451,
   "metadata": {
    "scrolled": true
   },
   "outputs": [
    {
     "data": {
      "application/vnd.jupyter.widget-view+json": {
       "model_id": "5e7b9ad9abb14fcd9cdb210e426ab360",
       "version_major": 2,
       "version_minor": 0
      },
      "text/plain": [
       "HBox(children=(IntProgress(value=0), HTML(value='')))"
      ]
     },
     "metadata": {},
     "output_type": "display_data"
    }
   ],
   "source": [
    "spectral_train_sample = 0.66\n",
    "\n",
    "(spectral_accuracies_holdout,\n",
    " spectral_ari_holdout,\n",
    " spectral_predictions_holdout,\n",
    " spectral_foms) = spectral_accuracies_for_holdout(tfidf_features_lsa,\n",
    "                                                  y_train,\n",
    "                                                  holdout_tfidf_features_lsa,\n",
    "                                                  y_test,\n",
    "                                                  affinity='linear',\n",
    "                                                  n_trials=100,\n",
    "                                                  orig_con_mat=holdout_orig_con_mat_20,\n",
    "                                                  sample=spectral_train_sample,\n",
    "                                                  n_clusters=20,\n",
    "                                                  fom='test')"
   ]
  },
  {
   "cell_type": "code",
   "execution_count": 453,
   "metadata": {},
   "outputs": [],
   "source": [
    "# sample only 100 times because all the holdset observations are included in each resample\n",
    "assert spectral_predictions_holdout.shape == (len(X_train) + len(X_test), 100)"
   ]
  },
  {
   "cell_type": "code",
   "execution_count": 454,
   "metadata": {},
   "outputs": [
    {
     "name": "stdout",
     "output_type": "stream",
     "text": [
      "Mean adjusted Rand index: 0.1719039617531156\n",
      "Std adjusted Rand index: 0.010879424587396894\n",
      "\n",
      "Mean accuracy: 0.42341442953020125\n",
      "Std accuracy: 0.09907690618290434\n",
      "\n",
      "Mean figure of merit: 0.4151271244800705\n",
      "Std figure of merit: 0.023163768678206565\n"
     ]
    }
   ],
   "source": [
    "print_cluster_stats(spectral_ari_holdout, spectral_accuracies_holdout, spectral_foms)"
   ]
  },
  {
   "cell_type": "markdown",
   "metadata": {},
   "source": [
    "## Structural stability for training observations"
   ]
  },
  {
   "cell_type": "code",
   "execution_count": 455,
   "metadata": {
    "scrolled": true
   },
   "outputs": [
    {
     "data": {
      "application/vnd.jupyter.widget-view+json": {
       "model_id": "1f859683264e4311b30a56867b0ea50f",
       "version_major": 2,
       "version_minor": 0
      },
      "text/plain": [
       "HBox(children=(IntProgress(value=0, max=152), HTML(value='')))"
      ]
     },
     "metadata": {},
     "output_type": "display_data"
    }
   ],
   "source": [
    "spectral_accuracies_trials = 152\n",
    "\n",
    "(spectral_accuracies_holdout,\n",
    " spectral_ari_holdout,\n",
    " spectral_predictions_holdout,\n",
    " spectral_foms) = spectral_accuracies_for_holdout(tfidf_features_lsa,\n",
    "                                                  y_train,\n",
    "                                                  holdout_tfidf_features_lsa,\n",
    "                                                  y_test,\n",
    "                                                  affinity='linear',\n",
    "                                                  n_trials=spectral_accuracies_trials,\n",
    "                                                  orig_con_mat=spectral_orig_con_mat_20,\n",
    "                                                  sample=spectral_train_sample,\n",
    "                                                  n_clusters=20,\n",
    "                                                  fom='train')"
   ]
  },
  {
   "cell_type": "code",
   "execution_count": 456,
   "metadata": {},
   "outputs": [],
   "source": [
    "assert spectral_predictions_holdout.shape == (len(X_train) + len(X_test), spectral_accuracies_trials)"
   ]
  },
  {
   "cell_type": "code",
   "execution_count": 457,
   "metadata": {},
   "outputs": [
    {
     "name": "stdout",
     "output_type": "stream",
     "text": [
      "Mean adjusted Rand index: 0.1697488560916345\n",
      "Std adjusted Rand index: 0.011229557931756864\n",
      "\n",
      "Mean accuracy: 0.4161349788060756\n",
      "Std accuracy: 0.099505925965987\n",
      "\n",
      "Mean figure of merit: 0.45776482037019595\n",
      "Std figure of merit: 0.029161574247002803\n"
     ]
    }
   ],
   "source": [
    "print_cluster_stats(spectral_ari_holdout, spectral_accuracies_holdout, spectral_foms)"
   ]
  },
  {
   "cell_type": "markdown",
   "metadata": {},
   "source": [
    "### Training observations accuracy and prediction stability"
   ]
  },
  {
   "cell_type": "code",
   "execution_count": 458,
   "metadata": {},
   "outputs": [],
   "source": [
    "holdout_spectral_predictions_20 = spectral_predictions_holdout.head(len(X_train))\n",
    "\n",
    "holdout_spectral_modes = holdout_spectral_predictions_20.apply(lambda x: x.value_counts()[0], axis=1)\n",
    "\n",
    "holdout_spectral_labels = holdout_spectral_predictions_20.apply(lambda x: x.value_counts().index[0], axis=1)\n",
    "\n",
    "holdout_spectral_nans = holdout_spectral_predictions_20.apply(lambda x: x.isna().sum(), axis=1)\n",
    "\n",
    "holdout_spectral_stabilities = holdout_spectral_modes / (spectral_accuracies_trials - holdout_spectral_nans)"
   ]
  },
  {
   "cell_type": "code",
   "execution_count": 459,
   "metadata": {},
   "outputs": [],
   "source": [
    "spectral_20_train_results['holdout_stability'] = holdout_spectral_stabilities\n",
    "spectral_20_train_results['holdout_pred'] = holdout_spectral_labels"
   ]
  },
  {
   "cell_type": "code",
   "execution_count": 460,
   "metadata": {},
   "outputs": [
    {
     "data": {
      "text/plain": [
       "0.7763888888888889"
      ]
     },
     "execution_count": 460,
     "metadata": {},
     "output_type": "execute_result"
    }
   ],
   "source": [
    "# % points in the training data that were classified the same as without the holdout data\n",
    "spectral_20_train_results.loc[spectral_20_train_results['pred'] == spectral_20_train_results['holdout_pred'], :].shape[0]/len(X_train)"
   ]
  },
  {
   "cell_type": "code",
   "execution_count": 461,
   "metadata": {},
   "outputs": [
    {
     "data": {
      "text/plain": [
       "0.5205555555555555"
      ]
     },
     "execution_count": 461,
     "metadata": {},
     "output_type": "execute_result"
    }
   ],
   "source": [
    "# accuracy of clustering on training data\n",
    "spectral_20_train_results.loc[spectral_20_train_results['holdout_pred'] == spectral_20_train_results['label'], :].shape[0] / len(X_train)"
   ]
  },
  {
   "cell_type": "code",
   "execution_count": 488,
   "metadata": {},
   "outputs": [
    {
     "data": {
      "text/html": [
       "<div>\n",
       "<style scoped>\n",
       "    .dataframe tbody tr th:only-of-type {\n",
       "        vertical-align: middle;\n",
       "    }\n",
       "\n",
       "    .dataframe tbody tr th {\n",
       "        vertical-align: top;\n",
       "    }\n",
       "\n",
       "    .dataframe thead th {\n",
       "        text-align: right;\n",
       "    }\n",
       "</style>\n",
       "<table border=\"1\" class=\"dataframe\">\n",
       "  <thead>\n",
       "    <tr style=\"text-align: right;\">\n",
       "      <th></th>\n",
       "      <th>stability</th>\n",
       "    </tr>\n",
       "    <tr>\n",
       "      <th>label</th>\n",
       "      <th></th>\n",
       "    </tr>\n",
       "  </thead>\n",
       "  <tbody>\n",
       "    <tr>\n",
       "      <th>austen</th>\n",
       "      <td>0.739529</td>\n",
       "    </tr>\n",
       "    <tr>\n",
       "      <th>bronte</th>\n",
       "      <td>0.442751</td>\n",
       "    </tr>\n",
       "    <tr>\n",
       "      <th>collins</th>\n",
       "      <td>0.665017</td>\n",
       "    </tr>\n",
       "    <tr>\n",
       "      <th>eliot</th>\n",
       "      <td>0.636364</td>\n",
       "    </tr>\n",
       "    <tr>\n",
       "      <th>gaskell</th>\n",
       "      <td>0.557708</td>\n",
       "    </tr>\n",
       "    <tr>\n",
       "      <th>hardy</th>\n",
       "      <td>0.490181</td>\n",
       "    </tr>\n",
       "    <tr>\n",
       "      <th>james</th>\n",
       "      <td>0.797980</td>\n",
       "    </tr>\n",
       "    <tr>\n",
       "      <th>lawrence</th>\n",
       "      <td>0.592820</td>\n",
       "    </tr>\n",
       "    <tr>\n",
       "      <th>wharton</th>\n",
       "      <td>0.647059</td>\n",
       "    </tr>\n",
       "    <tr>\n",
       "      <th>woolf</th>\n",
       "      <td>0.671390</td>\n",
       "    </tr>\n",
       "  </tbody>\n",
       "</table>\n",
       "</div>"
      ],
      "text/plain": [
       "          stability\n",
       "label              \n",
       "austen     0.739529\n",
       "bronte     0.442751\n",
       "collins    0.665017\n",
       "eliot      0.636364\n",
       "gaskell    0.557708\n",
       "hardy      0.490181\n",
       "james      0.797980\n",
       "lawrence   0.592820\n",
       "wharton    0.647059\n",
       "woolf      0.671390"
      ]
     },
     "execution_count": 488,
     "metadata": {},
     "output_type": "execute_result"
    }
   ],
   "source": [
    "# stability for authors that are predicted correctly\n",
    "spectral_20_train_results.loc[spectral_20_train_results['holdout_pred'] == spectral_20_train_results['label'], ['stability', 'label']].sort_values(by='stability', ascending=False).groupby('label').median()"
   ]
  },
  {
   "cell_type": "code",
   "execution_count": 489,
   "metadata": {},
   "outputs": [
    {
     "data": {
      "text/html": [
       "<div>\n",
       "<style scoped>\n",
       "    .dataframe tbody tr th:only-of-type {\n",
       "        vertical-align: middle;\n",
       "    }\n",
       "\n",
       "    .dataframe tbody tr th {\n",
       "        vertical-align: top;\n",
       "    }\n",
       "\n",
       "    .dataframe thead th {\n",
       "        text-align: right;\n",
       "    }\n",
       "</style>\n",
       "<table border=\"1\" class=\"dataframe\">\n",
       "  <thead>\n",
       "    <tr style=\"text-align: right;\">\n",
       "      <th></th>\n",
       "      <th>stability</th>\n",
       "    </tr>\n",
       "    <tr>\n",
       "      <th>label</th>\n",
       "      <th></th>\n",
       "    </tr>\n",
       "  </thead>\n",
       "  <tbody>\n",
       "    <tr>\n",
       "      <th>austen</th>\n",
       "      <td>0.483095</td>\n",
       "    </tr>\n",
       "    <tr>\n",
       "      <th>bronte</th>\n",
       "      <td>0.436170</td>\n",
       "    </tr>\n",
       "    <tr>\n",
       "      <th>collins</th>\n",
       "      <td>0.413043</td>\n",
       "    </tr>\n",
       "    <tr>\n",
       "      <th>eliot</th>\n",
       "      <td>0.408383</td>\n",
       "    </tr>\n",
       "    <tr>\n",
       "      <th>gaskell</th>\n",
       "      <td>0.462963</td>\n",
       "    </tr>\n",
       "    <tr>\n",
       "      <th>hardy</th>\n",
       "      <td>0.413462</td>\n",
       "    </tr>\n",
       "    <tr>\n",
       "      <th>james</th>\n",
       "      <td>0.425530</td>\n",
       "    </tr>\n",
       "    <tr>\n",
       "      <th>lawrence</th>\n",
       "      <td>0.413462</td>\n",
       "    </tr>\n",
       "    <tr>\n",
       "      <th>wharton</th>\n",
       "      <td>0.442478</td>\n",
       "    </tr>\n",
       "    <tr>\n",
       "      <th>woolf</th>\n",
       "      <td>0.408125</td>\n",
       "    </tr>\n",
       "  </tbody>\n",
       "</table>\n",
       "</div>"
      ],
      "text/plain": [
       "          stability\n",
       "label              \n",
       "austen     0.483095\n",
       "bronte     0.436170\n",
       "collins    0.413043\n",
       "eliot      0.408383\n",
       "gaskell    0.462963\n",
       "hardy      0.413462\n",
       "james      0.425530\n",
       "lawrence   0.413462\n",
       "wharton    0.442478\n",
       "woolf      0.408125"
      ]
     },
     "execution_count": 489,
     "metadata": {},
     "output_type": "execute_result"
    }
   ],
   "source": [
    "# stability for authors not predicted correctly\n",
    "spectral_20_train_results.loc[spectral_20_train_results['holdout_pred'] != spectral_20_train_results['label'], ['stability', 'label']].sort_values(by='stability', ascending=False).groupby('label').median()"
   ]
  },
  {
   "cell_type": "code",
   "execution_count": 462,
   "metadata": {},
   "outputs": [
    {
     "data": {
      "image/png": "[encoded data removed]",
      "text/plain": [
       "<Figure size 432x288 with 2 Axes>"
      ]
     },
     "metadata": {
      "needs_background": "light"
     },
     "output_type": "display_data"
    }
   ],
   "source": [
    "spectral_20_train_results.loc[spectral_20_train_results['holdout_pred'] != spectral_20_train_results['label'], ['holdout_stability', 'stability']].hist()\n",
    "plt.show()"
   ]
  },
  {
   "cell_type": "code",
   "execution_count": 463,
   "metadata": {},
   "outputs": [
    {
     "data": {
      "image/png": "[encoded data removed]",
      "text/plain": [
       "<Figure size 432x288 with 2 Axes>"
      ]
     },
     "metadata": {
      "needs_background": "light"
     },
     "output_type": "display_data"
    }
   ],
   "source": [
    "spectral_20_train_results.loc[spectral_20_train_results['holdout_pred'] == spectral_20_train_results['label'], ['holdout_stability', 'stability']].hist()\n",
    "plt.show()"
   ]
  },
  {
   "cell_type": "code",
   "execution_count": 464,
   "metadata": {},
   "outputs": [],
   "source": [
    "spectral_20_train_results['match'] = (spectral_20_train_results['holdout_pred'] == spectral_20_train_results['pred'])"
   ]
  },
  {
   "cell_type": "code",
   "execution_count": 465,
   "metadata": {},
   "outputs": [
    {
     "data": {
      "image/png": "[encoded data removed]",
      "text/plain": [
       "<Figure size 432x432 with 1 Axes>"
      ]
     },
     "metadata": {
      "needs_background": "light"
     },
     "output_type": "display_data"
    }
   ],
   "source": [
    "sns.scatterplot(x='holdout_stability', y='stability', data=spectral_20_train_results, alpha=0.3, hue='match')\n",
    "fig = plt.gcf()\n",
    "fig.set_size_inches(6,6)\n",
    "plt.show()"
   ]
  },
  {
   "cell_type": "markdown",
   "metadata": {},
   "source": [
    "Clustering on the holdout set plus random subsets of 66% of the training set results in about the same accuracy as clustering only on the training set. 78% of the training data were predicted to be the same author as before. Points with high stability were more likely to be accurately predicted than points with low stability."
   ]
  },
  {
   "cell_type": "code",
   "execution_count": 591,
   "metadata": {},
   "outputs": [
    {
     "data": {
      "image/png": "[encoded data removed]",
      "text/plain": [
       "<Figure size 432x432 with 1 Axes>"
      ]
     },
     "metadata": {
      "needs_background": "light"
     },
     "output_type": "display_data"
    }
   ],
   "source": [
    "def plot_for_report():\n",
    "    sns.scatterplot(x='holdout_stability', y='stability', data=spectral_20_train_results, alpha=0.3, hue='match')\n",
    "    ax = plt.gca()\n",
    "    handles, labels = ax.get_legend_handles_labels()\n",
    "    ax.legend(handles[1:], ['Incorrect', 'Correct'])\n",
    "    \n",
    "    ax.set_ylabel('Training Prediction Stability')\n",
    "    ax.set_xlabel('Combined (Training) Prediction Stability')\n",
    "    ax.set_title('Prediction Stabilities for Correct and Incorrect Final Predictions')\n",
    "    \n",
    "    fig = plt.gcf()\n",
    "    fig.set_size_inches(6,6)\n",
    "    plt.savefig('love-stories-part2-prediction-stabilities.png')\n",
    "\n",
    "plot_for_report()"
   ]
  },
  {
   "cell_type": "markdown",
   "metadata": {},
   "source": [
    "### Holdout observations accuracy and prediction stability"
   ]
  },
  {
   "cell_type": "code",
   "execution_count": 466,
   "metadata": {},
   "outputs": [],
   "source": [
    "holdout_spectral_predictions = spectral_predictions_holdout.tail(len(X_test))\n",
    "\n",
    "holdout_spectral_modes = holdout_spectral_predictions.apply(lambda x: x.value_counts()[0], axis=1)\n",
    "\n",
    "holdout_spectral_labels = holdout_spectral_predictions.apply(lambda x: x.value_counts().index[0], axis=1)\n",
    "\n",
    "holdout_spectral_nans = holdout_spectral_predictions.apply(lambda x: x.isna().sum(), axis=1)\n",
    "\n",
    "holdout_spectral_stabilities = holdout_spectral_modes / (spectral_accuracies_trials - holdout_spectral_nans)"
   ]
  },
  {
   "cell_type": "code",
   "execution_count": 467,
   "metadata": {},
   "outputs": [
    {
     "data": {
      "text/html": [
       "<div>\n",
       "<style scoped>\n",
       "    .dataframe tbody tr th:only-of-type {\n",
       "        vertical-align: middle;\n",
       "    }\n",
       "\n",
       "    .dataframe tbody tr th {\n",
       "        vertical-align: top;\n",
       "    }\n",
       "\n",
       "    .dataframe thead th {\n",
       "        text-align: right;\n",
       "    }\n",
       "</style>\n",
       "<table border=\"1\" class=\"dataframe\">\n",
       "  <thead>\n",
       "    <tr style=\"text-align: right;\">\n",
       "      <th></th>\n",
       "      <th>holdout_stability</th>\n",
       "      <th>holdout_pred</th>\n",
       "      <th>label</th>\n",
       "    </tr>\n",
       "  </thead>\n",
       "  <tbody>\n",
       "    <tr>\n",
       "      <th>3600</th>\n",
       "      <td>0.828947</td>\n",
       "      <td>bronte</td>\n",
       "      <td>bronte</td>\n",
       "    </tr>\n",
       "    <tr>\n",
       "      <th>3601</th>\n",
       "      <td>0.611842</td>\n",
       "      <td>bronte</td>\n",
       "      <td>lawrence</td>\n",
       "    </tr>\n",
       "    <tr>\n",
       "      <th>3602</th>\n",
       "      <td>0.888158</td>\n",
       "      <td>james</td>\n",
       "      <td>james</td>\n",
       "    </tr>\n",
       "    <tr>\n",
       "      <th>3603</th>\n",
       "      <td>0.888158</td>\n",
       "      <td>james</td>\n",
       "      <td>james</td>\n",
       "    </tr>\n",
       "    <tr>\n",
       "      <th>3604</th>\n",
       "      <td>0.657895</td>\n",
       "      <td>austen</td>\n",
       "      <td>austen</td>\n",
       "    </tr>\n",
       "  </tbody>\n",
       "</table>\n",
       "</div>"
      ],
      "text/plain": [
       "      holdout_stability holdout_pred     label\n",
       "3600           0.828947       bronte    bronte\n",
       "3601           0.611842       bronte  lawrence\n",
       "3602           0.888158        james     james\n",
       "3603           0.888158        james     james\n",
       "3604           0.657895       austen    austen"
      ]
     },
     "execution_count": 467,
     "metadata": {},
     "output_type": "execute_result"
    }
   ],
   "source": [
    "holdout_test_results = pd.DataFrame({'holdout_stability': holdout_spectral_stabilities,\n",
    "                                     'holdout_pred': holdout_spectral_labels,\n",
    "                                     'label': y_test})\n",
    "holdout_test_results.head()"
   ]
  },
  {
   "cell_type": "code",
   "execution_count": 468,
   "metadata": {},
   "outputs": [
    {
     "data": {
      "text/plain": [
       "0.5016666666666667"
      ]
     },
     "execution_count": 468,
     "metadata": {},
     "output_type": "execute_result"
    }
   ],
   "source": [
    "# accuracy of clustering on holdout data\n",
    "holdout_test_results.loc[holdout_test_results['holdout_pred'] == holdout_test_results['label'], :].shape[0] / len(X_test)"
   ]
  },
  {
   "cell_type": "markdown",
   "metadata": {},
   "source": [
    "The accuracy of the predictions for the holdout observations is about the same as for the training observations. "
   ]
  },
  {
   "cell_type": "code",
   "execution_count": 492,
   "metadata": {},
   "outputs": [
    {
     "data": {
      "text/html": [
       "<div>\n",
       "<style scoped>\n",
       "    .dataframe tbody tr th:only-of-type {\n",
       "        vertical-align: middle;\n",
       "    }\n",
       "\n",
       "    .dataframe tbody tr th {\n",
       "        vertical-align: top;\n",
       "    }\n",
       "\n",
       "    .dataframe thead th {\n",
       "        text-align: right;\n",
       "    }\n",
       "</style>\n",
       "<table border=\"1\" class=\"dataframe\">\n",
       "  <thead>\n",
       "    <tr style=\"text-align: right;\">\n",
       "      <th></th>\n",
       "      <th>holdout_stability</th>\n",
       "    </tr>\n",
       "    <tr>\n",
       "      <th>label</th>\n",
       "      <th></th>\n",
       "    </tr>\n",
       "  </thead>\n",
       "  <tbody>\n",
       "    <tr>\n",
       "      <th>austen</th>\n",
       "      <td>0.842105</td>\n",
       "    </tr>\n",
       "    <tr>\n",
       "      <th>bronte</th>\n",
       "      <td>0.605263</td>\n",
       "    </tr>\n",
       "    <tr>\n",
       "      <th>collins</th>\n",
       "      <td>0.848684</td>\n",
       "    </tr>\n",
       "    <tr>\n",
       "      <th>eliot</th>\n",
       "      <td>0.753289</td>\n",
       "    </tr>\n",
       "    <tr>\n",
       "      <th>gaskell</th>\n",
       "      <td>0.618421</td>\n",
       "    </tr>\n",
       "    <tr>\n",
       "      <th>hardy</th>\n",
       "      <td>0.631579</td>\n",
       "    </tr>\n",
       "    <tr>\n",
       "      <th>james</th>\n",
       "      <td>0.888158</td>\n",
       "    </tr>\n",
       "    <tr>\n",
       "      <th>lawrence</th>\n",
       "      <td>0.638158</td>\n",
       "    </tr>\n",
       "    <tr>\n",
       "      <th>wharton</th>\n",
       "      <td>0.828947</td>\n",
       "    </tr>\n",
       "    <tr>\n",
       "      <th>woolf</th>\n",
       "      <td>0.756579</td>\n",
       "    </tr>\n",
       "  </tbody>\n",
       "</table>\n",
       "</div>"
      ],
      "text/plain": [
       "          holdout_stability\n",
       "label                      \n",
       "austen             0.842105\n",
       "bronte             0.605263\n",
       "collins            0.848684\n",
       "eliot              0.753289\n",
       "gaskell            0.618421\n",
       "hardy              0.631579\n",
       "james              0.888158\n",
       "lawrence           0.638158\n",
       "wharton            0.828947\n",
       "woolf              0.756579"
      ]
     },
     "execution_count": 492,
     "metadata": {},
     "output_type": "execute_result"
    }
   ],
   "source": [
    "# stability for authors that are predicted correctly\n",
    "holdout_test_results.loc[holdout_test_results['holdout_pred'] == holdout_test_results['label'], ['holdout_stability', 'label']].sort_values(by='holdout_stability', ascending=False).groupby('label').median()"
   ]
  },
  {
   "cell_type": "code",
   "execution_count": 493,
   "metadata": {},
   "outputs": [
    {
     "data": {
      "text/html": [
       "<div>\n",
       "<style scoped>\n",
       "    .dataframe tbody tr th:only-of-type {\n",
       "        vertical-align: middle;\n",
       "    }\n",
       "\n",
       "    .dataframe tbody tr th {\n",
       "        vertical-align: top;\n",
       "    }\n",
       "\n",
       "    .dataframe thead th {\n",
       "        text-align: right;\n",
       "    }\n",
       "</style>\n",
       "<table border=\"1\" class=\"dataframe\">\n",
       "  <thead>\n",
       "    <tr style=\"text-align: right;\">\n",
       "      <th></th>\n",
       "      <th>holdout_stability</th>\n",
       "    </tr>\n",
       "    <tr>\n",
       "      <th>label</th>\n",
       "      <th></th>\n",
       "    </tr>\n",
       "  </thead>\n",
       "  <tbody>\n",
       "    <tr>\n",
       "      <th>austen</th>\n",
       "      <td>0.509868</td>\n",
       "    </tr>\n",
       "    <tr>\n",
       "      <th>bronte</th>\n",
       "      <td>0.526316</td>\n",
       "    </tr>\n",
       "    <tr>\n",
       "      <th>collins</th>\n",
       "      <td>0.500000</td>\n",
       "    </tr>\n",
       "    <tr>\n",
       "      <th>eliot</th>\n",
       "      <td>0.532895</td>\n",
       "    </tr>\n",
       "    <tr>\n",
       "      <th>gaskell</th>\n",
       "      <td>0.559211</td>\n",
       "    </tr>\n",
       "    <tr>\n",
       "      <th>hardy</th>\n",
       "      <td>0.519737</td>\n",
       "    </tr>\n",
       "    <tr>\n",
       "      <th>james</th>\n",
       "      <td>0.529605</td>\n",
       "    </tr>\n",
       "    <tr>\n",
       "      <th>lawrence</th>\n",
       "      <td>0.447368</td>\n",
       "    </tr>\n",
       "    <tr>\n",
       "      <th>wharton</th>\n",
       "      <td>0.509868</td>\n",
       "    </tr>\n",
       "    <tr>\n",
       "      <th>woolf</th>\n",
       "      <td>0.480263</td>\n",
       "    </tr>\n",
       "  </tbody>\n",
       "</table>\n",
       "</div>"
      ],
      "text/plain": [
       "          holdout_stability\n",
       "label                      \n",
       "austen             0.509868\n",
       "bronte             0.526316\n",
       "collins            0.500000\n",
       "eliot              0.532895\n",
       "gaskell            0.559211\n",
       "hardy              0.519737\n",
       "james              0.529605\n",
       "lawrence           0.447368\n",
       "wharton            0.509868\n",
       "woolf              0.480263"
      ]
     },
     "execution_count": 493,
     "metadata": {},
     "output_type": "execute_result"
    }
   ],
   "source": [
    "# stability for authors not predicted correctly\n",
    "holdout_test_results.loc[holdout_test_results['holdout_pred'] != holdout_test_results['label'], ['holdout_stability', 'label']].sort_values(by='holdout_stability', ascending=False).groupby('label').median()"
   ]
  },
  {
   "cell_type": "code",
   "execution_count": 497,
   "metadata": {},
   "outputs": [],
   "source": [
    "testit = spectral_20_train_results.loc[spectral_20_train_results['pred'] == spectral_20_train_results['label'], ['stability', 'label']].sort_values(by='stability', ascending=False).groupby('label').median()"
   ]
  },
  {
   "cell_type": "code",
   "execution_count": 498,
   "metadata": {},
   "outputs": [],
   "source": [
    "testit['incorrect'] = spectral_20_train_results.loc[spectral_20_train_results['pred'] != spectral_20_train_results['label'], ['stability', 'label']].sort_values(by='stability', ascending=False).groupby('label').median()"
   ]
  },
  {
   "cell_type": "code",
   "execution_count": 576,
   "metadata": {},
   "outputs": [
    {
     "data": {
      "image/png": "[encoded data removed]",
      "text/plain": [
       "<Figure size 720x432 with 1 Axes>"
      ]
     },
     "metadata": {
      "needs_background": "light"
     },
     "output_type": "display_data"
    }
   ],
   "source": [
    "def plot_for_report():\n",
    "    author_stabilities = pd.DataFrame(index=np.unique(y_test))\n",
    "    \n",
    "    author_stabilities['training_correct'] = spectral_20_train_results.loc[spectral_20_train_results['pred'] == spectral_20_train_results['label'], ['stability', 'label']].sort_values(by='stability', ascending=False).groupby('label').median()\n",
    "    author_stabilities['training_incorrect'] = spectral_20_train_results.loc[spectral_20_train_results['pred'] != spectral_20_train_results['label'], ['stability', 'label']].sort_values(by='stability', ascending=False).groupby('label').median()\n",
    "\n",
    "    author_stabilities['combined_training_correct'] = spectral_20_train_results.loc[spectral_20_train_results['holdout_pred'] == spectral_20_train_results['label'], ['stability', 'label']].sort_values(by='stability', ascending=False).groupby('label').median()\n",
    "    author_stabilities['combined_training_incorrect'] = spectral_20_train_results.loc[spectral_20_train_results['holdout_pred'] != spectral_20_train_results['label'], ['stability', 'label']].sort_values(by='stability', ascending=False).groupby('label').median()\n",
    "\n",
    "    author_stabilities['combined_holdout_correct'] = holdout_test_results.loc[holdout_test_results['holdout_pred'] == holdout_test_results['label'], ['holdout_stability', 'label']].sort_values(by='holdout_stability', ascending=False).groupby('label').median()\n",
    "    author_stabilities['combined_holdout_incorrect'] = holdout_test_results.loc[holdout_test_results['holdout_pred'] != holdout_test_results['label'], ['holdout_stability', 'label']].sort_values(by='holdout_stability', ascending=False).groupby('label').median()\n",
    "\n",
    "    fig, axes = plt.subplots(1, 1)\n",
    "\n",
    "    ax = axes\n",
    "    offset = -0.1\n",
    "    for idx, column in enumerate(['training_correct', 'combined_training_correct', 'combined_holdout_correct']):\n",
    "        ax.scatter(x=np.arange(10)+offset,\n",
    "                   y=author_stabilities[column],\n",
    "                   alpha=0.5,\n",
    "                   color=sns.color_palette()[idx])\n",
    "        offset += 0.1\n",
    "        \n",
    "    offset = -0.1\n",
    "    for idx, column in enumerate(['training_incorrect', 'combined_training_incorrect', 'combined_holdout_incorrect']):\n",
    "        ax.scatter(x=np.arange(10)+offset,\n",
    "                   y=author_stabilities[column],\n",
    "                   alpha=0.5,\n",
    "                   marker='x',\n",
    "                   color=sns.color_palette()[idx])\n",
    "        offset += 0.1\n",
    "        \n",
    "    ax.set_title('Median Correct and Incorrect Prediction Stabilities by Author')\n",
    "    ax.set_ylim((0, 1))\n",
    "    ax.set_ylabel('Prediction Stability (best=1)')\n",
    "    ax.set_xticks(range(0, 10))\n",
    "    ax.set_xlabel('Author')\n",
    "    ax.set_xticklabels([author.title() for author in author_stabilities.index])\n",
    "    \n",
    "    ax.legend(['Training Correct', 'Combined (Training) Correct', 'Combined (Holdout) Correct',\n",
    "               'Training Incorrect', 'Combined (Training) Incorrect', 'Combined (Holdout) Incorrect'])\n",
    "\n",
    "    fig = plt.gcf()\n",
    "    fig.set_size_inches(10, 6)\n",
    "    plt.savefig('love-stories-part2-author-stabilities.png')\n",
    "\n",
    "plot_for_report()"
   ]
  }
 ],
 "metadata": {
  "kernelspec": {
   "display_name": "Python 3",
   "language": "python",
   "name": "python3"
  },
  "language_info": {
   "codemirror_mode": {
    "name": "ipython",
    "version": 3
   },
   "file_extension": ".py",
   "mimetype": "text/x-python",
   "name": "python",
   "nbconvert_exporter": "python",
   "pygments_lexer": "ipython3",
   "version": "3.7.2"
  }
 },
 "nbformat": 4,
 "nbformat_minor": 2
}
